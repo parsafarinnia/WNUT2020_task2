{
  "nbformat": 4,
  "nbformat_minor": 0,
  "metadata": {
    "kernelspec": {
      "display_name": "Python 3",
      "language": "python",
      "name": "python3"
    },
    "language_info": {
      "codemirror_mode": {
        "name": "ipython",
        "version": 3
      },
      "file_extension": ".py",
      "mimetype": "text/x-python",
      "name": "python",
      "nbconvert_exporter": "python",
      "pygments_lexer": "ipython3",
      "version": "3.6.6"
    },
    "colab": {
      "name": "Copy of covid19tweet.ipynb",
      "provenance": [],
      "collapsed_sections": [
        "kyHoJPyB9ym4"
      ]
    },
    "accelerator": "GPU",
    "widgets": {
      "application/vnd.jupyter.widget-state+json": {
        "960c0ef1b89740ed80877113cde021e6": {
          "model_module": "@jupyter-widgets/controls",
          "model_name": "HBoxModel",
          "state": {
            "_view_name": "HBoxView",
            "_dom_classes": [],
            "_model_name": "HBoxModel",
            "_view_module": "@jupyter-widgets/controls",
            "_model_module_version": "1.5.0",
            "_view_count": null,
            "_view_module_version": "1.5.0",
            "box_style": "",
            "layout": "IPY_MODEL_6f361083626442d2a2cc71699cd6bb14",
            "_model_module": "@jupyter-widgets/controls",
            "children": [
              "IPY_MODEL_8c54102846514668865ea25aabce55cf",
              "IPY_MODEL_74a89cd0b7f04a38949c05e987d399b9"
            ]
          }
        },
        "6f361083626442d2a2cc71699cd6bb14": {
          "model_module": "@jupyter-widgets/base",
          "model_name": "LayoutModel",
          "state": {
            "_view_name": "LayoutView",
            "grid_template_rows": null,
            "right": null,
            "justify_content": null,
            "_view_module": "@jupyter-widgets/base",
            "overflow": null,
            "_model_module_version": "1.2.0",
            "_view_count": null,
            "flex_flow": null,
            "width": null,
            "min_width": null,
            "border": null,
            "align_items": null,
            "bottom": null,
            "_model_module": "@jupyter-widgets/base",
            "top": null,
            "grid_column": null,
            "overflow_y": null,
            "overflow_x": null,
            "grid_auto_flow": null,
            "grid_area": null,
            "grid_template_columns": null,
            "flex": null,
            "_model_name": "LayoutModel",
            "justify_items": null,
            "grid_row": null,
            "max_height": null,
            "align_content": null,
            "visibility": null,
            "align_self": null,
            "height": null,
            "min_height": null,
            "padding": null,
            "grid_auto_rows": null,
            "grid_gap": null,
            "max_width": null,
            "order": null,
            "_view_module_version": "1.2.0",
            "grid_template_areas": null,
            "object_position": null,
            "object_fit": null,
            "grid_auto_columns": null,
            "margin": null,
            "display": null,
            "left": null
          }
        },
        "8c54102846514668865ea25aabce55cf": {
          "model_module": "@jupyter-widgets/controls",
          "model_name": "FloatProgressModel",
          "state": {
            "_view_name": "ProgressView",
            "style": "IPY_MODEL_6cc130f27cd34d8ca06179ed3d9087c7",
            "_dom_classes": [],
            "description": "Downloading: 100%",
            "_model_name": "FloatProgressModel",
            "bar_style": "success",
            "max": 433,
            "_view_module": "@jupyter-widgets/controls",
            "_model_module_version": "1.5.0",
            "value": 433,
            "_view_count": null,
            "_view_module_version": "1.5.0",
            "orientation": "horizontal",
            "min": 0,
            "description_tooltip": null,
            "_model_module": "@jupyter-widgets/controls",
            "layout": "IPY_MODEL_2b6f78db0c6f44d098370750c6c2b181"
          }
        },
        "74a89cd0b7f04a38949c05e987d399b9": {
          "model_module": "@jupyter-widgets/controls",
          "model_name": "HTMLModel",
          "state": {
            "_view_name": "HTMLView",
            "style": "IPY_MODEL_b4c10d8ab5444981b11e799d96b80d07",
            "_dom_classes": [],
            "description": "",
            "_model_name": "HTMLModel",
            "placeholder": "​",
            "_view_module": "@jupyter-widgets/controls",
            "_model_module_version": "1.5.0",
            "value": " 433/433 [00:00&lt;00:00, 517B/s]",
            "_view_count": null,
            "_view_module_version": "1.5.0",
            "description_tooltip": null,
            "_model_module": "@jupyter-widgets/controls",
            "layout": "IPY_MODEL_7eedc5b818b34183ad07ee1cd5ac5ee2"
          }
        },
        "6cc130f27cd34d8ca06179ed3d9087c7": {
          "model_module": "@jupyter-widgets/controls",
          "model_name": "ProgressStyleModel",
          "state": {
            "_view_name": "StyleView",
            "_model_name": "ProgressStyleModel",
            "description_width": "initial",
            "_view_module": "@jupyter-widgets/base",
            "_model_module_version": "1.5.0",
            "_view_count": null,
            "_view_module_version": "1.2.0",
            "bar_color": null,
            "_model_module": "@jupyter-widgets/controls"
          }
        },
        "2b6f78db0c6f44d098370750c6c2b181": {
          "model_module": "@jupyter-widgets/base",
          "model_name": "LayoutModel",
          "state": {
            "_view_name": "LayoutView",
            "grid_template_rows": null,
            "right": null,
            "justify_content": null,
            "_view_module": "@jupyter-widgets/base",
            "overflow": null,
            "_model_module_version": "1.2.0",
            "_view_count": null,
            "flex_flow": null,
            "width": null,
            "min_width": null,
            "border": null,
            "align_items": null,
            "bottom": null,
            "_model_module": "@jupyter-widgets/base",
            "top": null,
            "grid_column": null,
            "overflow_y": null,
            "overflow_x": null,
            "grid_auto_flow": null,
            "grid_area": null,
            "grid_template_columns": null,
            "flex": null,
            "_model_name": "LayoutModel",
            "justify_items": null,
            "grid_row": null,
            "max_height": null,
            "align_content": null,
            "visibility": null,
            "align_self": null,
            "height": null,
            "min_height": null,
            "padding": null,
            "grid_auto_rows": null,
            "grid_gap": null,
            "max_width": null,
            "order": null,
            "_view_module_version": "1.2.0",
            "grid_template_areas": null,
            "object_position": null,
            "object_fit": null,
            "grid_auto_columns": null,
            "margin": null,
            "display": null,
            "left": null
          }
        },
        "b4c10d8ab5444981b11e799d96b80d07": {
          "model_module": "@jupyter-widgets/controls",
          "model_name": "DescriptionStyleModel",
          "state": {
            "_view_name": "StyleView",
            "_model_name": "DescriptionStyleModel",
            "description_width": "",
            "_view_module": "@jupyter-widgets/base",
            "_model_module_version": "1.5.0",
            "_view_count": null,
            "_view_module_version": "1.2.0",
            "_model_module": "@jupyter-widgets/controls"
          }
        },
        "7eedc5b818b34183ad07ee1cd5ac5ee2": {
          "model_module": "@jupyter-widgets/base",
          "model_name": "LayoutModel",
          "state": {
            "_view_name": "LayoutView",
            "grid_template_rows": null,
            "right": null,
            "justify_content": null,
            "_view_module": "@jupyter-widgets/base",
            "overflow": null,
            "_model_module_version": "1.2.0",
            "_view_count": null,
            "flex_flow": null,
            "width": null,
            "min_width": null,
            "border": null,
            "align_items": null,
            "bottom": null,
            "_model_module": "@jupyter-widgets/base",
            "top": null,
            "grid_column": null,
            "overflow_y": null,
            "overflow_x": null,
            "grid_auto_flow": null,
            "grid_area": null,
            "grid_template_columns": null,
            "flex": null,
            "_model_name": "LayoutModel",
            "justify_items": null,
            "grid_row": null,
            "max_height": null,
            "align_content": null,
            "visibility": null,
            "align_self": null,
            "height": null,
            "min_height": null,
            "padding": null,
            "grid_auto_rows": null,
            "grid_gap": null,
            "max_width": null,
            "order": null,
            "_view_module_version": "1.2.0",
            "grid_template_areas": null,
            "object_position": null,
            "object_fit": null,
            "grid_auto_columns": null,
            "margin": null,
            "display": null,
            "left": null
          }
        },
        "a6eb5a2c5f9c448ea54e68bfddee2b13": {
          "model_module": "@jupyter-widgets/controls",
          "model_name": "HBoxModel",
          "state": {
            "_view_name": "HBoxView",
            "_dom_classes": [],
            "_model_name": "HBoxModel",
            "_view_module": "@jupyter-widgets/controls",
            "_model_module_version": "1.5.0",
            "_view_count": null,
            "_view_module_version": "1.5.0",
            "box_style": "",
            "layout": "IPY_MODEL_c58d8cd27daa4e71ab9312abbd765e8a",
            "_model_module": "@jupyter-widgets/controls",
            "children": [
              "IPY_MODEL_f396e07771d7432b817b2b3f1c043a3b",
              "IPY_MODEL_f9b23feb914c4b1699008d950dbc9dea"
            ]
          }
        },
        "c58d8cd27daa4e71ab9312abbd765e8a": {
          "model_module": "@jupyter-widgets/base",
          "model_name": "LayoutModel",
          "state": {
            "_view_name": "LayoutView",
            "grid_template_rows": null,
            "right": null,
            "justify_content": null,
            "_view_module": "@jupyter-widgets/base",
            "overflow": null,
            "_model_module_version": "1.2.0",
            "_view_count": null,
            "flex_flow": null,
            "width": null,
            "min_width": null,
            "border": null,
            "align_items": null,
            "bottom": null,
            "_model_module": "@jupyter-widgets/base",
            "top": null,
            "grid_column": null,
            "overflow_y": null,
            "overflow_x": null,
            "grid_auto_flow": null,
            "grid_area": null,
            "grid_template_columns": null,
            "flex": null,
            "_model_name": "LayoutModel",
            "justify_items": null,
            "grid_row": null,
            "max_height": null,
            "align_content": null,
            "visibility": null,
            "align_self": null,
            "height": null,
            "min_height": null,
            "padding": null,
            "grid_auto_rows": null,
            "grid_gap": null,
            "max_width": null,
            "order": null,
            "_view_module_version": "1.2.0",
            "grid_template_areas": null,
            "object_position": null,
            "object_fit": null,
            "grid_auto_columns": null,
            "margin": null,
            "display": null,
            "left": null
          }
        },
        "f396e07771d7432b817b2b3f1c043a3b": {
          "model_module": "@jupyter-widgets/controls",
          "model_name": "FloatProgressModel",
          "state": {
            "_view_name": "ProgressView",
            "style": "IPY_MODEL_01796a23923c481ab63cc6c991e5f6e5",
            "_dom_classes": [],
            "description": "Downloading: 100%",
            "_model_name": "FloatProgressModel",
            "bar_style": "success",
            "max": 213450,
            "_view_module": "@jupyter-widgets/controls",
            "_model_module_version": "1.5.0",
            "value": 213450,
            "_view_count": null,
            "_view_module_version": "1.5.0",
            "orientation": "horizontal",
            "min": 0,
            "description_tooltip": null,
            "_model_module": "@jupyter-widgets/controls",
            "layout": "IPY_MODEL_69f8543c0e28453786ae607ee5eb25ab"
          }
        },
        "f9b23feb914c4b1699008d950dbc9dea": {
          "model_module": "@jupyter-widgets/controls",
          "model_name": "HTMLModel",
          "state": {
            "_view_name": "HTMLView",
            "style": "IPY_MODEL_a6acd34868d94fd893d288633ec84997",
            "_dom_classes": [],
            "description": "",
            "_model_name": "HTMLModel",
            "placeholder": "​",
            "_view_module": "@jupyter-widgets/controls",
            "_model_module_version": "1.5.0",
            "value": " 213k/213k [00:00&lt;00:00, 885kB/s]",
            "_view_count": null,
            "_view_module_version": "1.5.0",
            "description_tooltip": null,
            "_model_module": "@jupyter-widgets/controls",
            "layout": "IPY_MODEL_15f6427337a94825960e8c7a95967169"
          }
        },
        "01796a23923c481ab63cc6c991e5f6e5": {
          "model_module": "@jupyter-widgets/controls",
          "model_name": "ProgressStyleModel",
          "state": {
            "_view_name": "StyleView",
            "_model_name": "ProgressStyleModel",
            "description_width": "initial",
            "_view_module": "@jupyter-widgets/base",
            "_model_module_version": "1.5.0",
            "_view_count": null,
            "_view_module_version": "1.2.0",
            "bar_color": null,
            "_model_module": "@jupyter-widgets/controls"
          }
        },
        "69f8543c0e28453786ae607ee5eb25ab": {
          "model_module": "@jupyter-widgets/base",
          "model_name": "LayoutModel",
          "state": {
            "_view_name": "LayoutView",
            "grid_template_rows": null,
            "right": null,
            "justify_content": null,
            "_view_module": "@jupyter-widgets/base",
            "overflow": null,
            "_model_module_version": "1.2.0",
            "_view_count": null,
            "flex_flow": null,
            "width": null,
            "min_width": null,
            "border": null,
            "align_items": null,
            "bottom": null,
            "_model_module": "@jupyter-widgets/base",
            "top": null,
            "grid_column": null,
            "overflow_y": null,
            "overflow_x": null,
            "grid_auto_flow": null,
            "grid_area": null,
            "grid_template_columns": null,
            "flex": null,
            "_model_name": "LayoutModel",
            "justify_items": null,
            "grid_row": null,
            "max_height": null,
            "align_content": null,
            "visibility": null,
            "align_self": null,
            "height": null,
            "min_height": null,
            "padding": null,
            "grid_auto_rows": null,
            "grid_gap": null,
            "max_width": null,
            "order": null,
            "_view_module_version": "1.2.0",
            "grid_template_areas": null,
            "object_position": null,
            "object_fit": null,
            "grid_auto_columns": null,
            "margin": null,
            "display": null,
            "left": null
          }
        },
        "a6acd34868d94fd893d288633ec84997": {
          "model_module": "@jupyter-widgets/controls",
          "model_name": "DescriptionStyleModel",
          "state": {
            "_view_name": "StyleView",
            "_model_name": "DescriptionStyleModel",
            "description_width": "",
            "_view_module": "@jupyter-widgets/base",
            "_model_module_version": "1.5.0",
            "_view_count": null,
            "_view_module_version": "1.2.0",
            "_model_module": "@jupyter-widgets/controls"
          }
        },
        "15f6427337a94825960e8c7a95967169": {
          "model_module": "@jupyter-widgets/base",
          "model_name": "LayoutModel",
          "state": {
            "_view_name": "LayoutView",
            "grid_template_rows": null,
            "right": null,
            "justify_content": null,
            "_view_module": "@jupyter-widgets/base",
            "overflow": null,
            "_model_module_version": "1.2.0",
            "_view_count": null,
            "flex_flow": null,
            "width": null,
            "min_width": null,
            "border": null,
            "align_items": null,
            "bottom": null,
            "_model_module": "@jupyter-widgets/base",
            "top": null,
            "grid_column": null,
            "overflow_y": null,
            "overflow_x": null,
            "grid_auto_flow": null,
            "grid_area": null,
            "grid_template_columns": null,
            "flex": null,
            "_model_name": "LayoutModel",
            "justify_items": null,
            "grid_row": null,
            "max_height": null,
            "align_content": null,
            "visibility": null,
            "align_self": null,
            "height": null,
            "min_height": null,
            "padding": null,
            "grid_auto_rows": null,
            "grid_gap": null,
            "max_width": null,
            "order": null,
            "_view_module_version": "1.2.0",
            "grid_template_areas": null,
            "object_position": null,
            "object_fit": null,
            "grid_auto_columns": null,
            "margin": null,
            "display": null,
            "left": null
          }
        },
        "6cba1cc0bbb840a29e6c977a90279666": {
          "model_module": "@jupyter-widgets/controls",
          "model_name": "HBoxModel",
          "state": {
            "_view_name": "HBoxView",
            "_dom_classes": [],
            "_model_name": "HBoxModel",
            "_view_module": "@jupyter-widgets/controls",
            "_model_module_version": "1.5.0",
            "_view_count": null,
            "_view_module_version": "1.5.0",
            "box_style": "",
            "layout": "IPY_MODEL_b3f8b78828ea454284aa610b7578a5d2",
            "_model_module": "@jupyter-widgets/controls",
            "children": [
              "IPY_MODEL_77821eeee6104970977cb2025048d8c8",
              "IPY_MODEL_41e9c07d4fd94bad83752ba74ad35ee1"
            ]
          }
        },
        "b3f8b78828ea454284aa610b7578a5d2": {
          "model_module": "@jupyter-widgets/base",
          "model_name": "LayoutModel",
          "state": {
            "_view_name": "LayoutView",
            "grid_template_rows": null,
            "right": null,
            "justify_content": null,
            "_view_module": "@jupyter-widgets/base",
            "overflow": null,
            "_model_module_version": "1.2.0",
            "_view_count": null,
            "flex_flow": null,
            "width": null,
            "min_width": null,
            "border": null,
            "align_items": null,
            "bottom": null,
            "_model_module": "@jupyter-widgets/base",
            "top": null,
            "grid_column": null,
            "overflow_y": null,
            "overflow_x": null,
            "grid_auto_flow": null,
            "grid_area": null,
            "grid_template_columns": null,
            "flex": null,
            "_model_name": "LayoutModel",
            "justify_items": null,
            "grid_row": null,
            "max_height": null,
            "align_content": null,
            "visibility": null,
            "align_self": null,
            "height": null,
            "min_height": null,
            "padding": null,
            "grid_auto_rows": null,
            "grid_gap": null,
            "max_width": null,
            "order": null,
            "_view_module_version": "1.2.0",
            "grid_template_areas": null,
            "object_position": null,
            "object_fit": null,
            "grid_auto_columns": null,
            "margin": null,
            "display": null,
            "left": null
          }
        },
        "77821eeee6104970977cb2025048d8c8": {
          "model_module": "@jupyter-widgets/controls",
          "model_name": "FloatProgressModel",
          "state": {
            "_view_name": "ProgressView",
            "style": "IPY_MODEL_5835641c04c44c818c2b9f341107cfb5",
            "_dom_classes": [],
            "description": "Downloading: 100%",
            "_model_name": "FloatProgressModel",
            "bar_style": "success",
            "max": 845,
            "_view_module": "@jupyter-widgets/controls",
            "_model_module_version": "1.5.0",
            "value": 845,
            "_view_count": null,
            "_view_module_version": "1.5.0",
            "orientation": "horizontal",
            "min": 0,
            "description_tooltip": null,
            "_model_module": "@jupyter-widgets/controls",
            "layout": "IPY_MODEL_2f50897594744fb2bc1c652ac5691927"
          }
        },
        "41e9c07d4fd94bad83752ba74ad35ee1": {
          "model_module": "@jupyter-widgets/controls",
          "model_name": "HTMLModel",
          "state": {
            "_view_name": "HTMLView",
            "style": "IPY_MODEL_2d0a880130984cd78b0c5f771aee3b74",
            "_dom_classes": [],
            "description": "",
            "_model_name": "HTMLModel",
            "placeholder": "​",
            "_view_module": "@jupyter-widgets/controls",
            "_model_module_version": "1.5.0",
            "value": " 845/845 [00:14&lt;00:00, 60.2B/s]",
            "_view_count": null,
            "_view_module_version": "1.5.0",
            "description_tooltip": null,
            "_model_module": "@jupyter-widgets/controls",
            "layout": "IPY_MODEL_88f2ef8e07b44e28bb3fca1795bbd89a"
          }
        },
        "5835641c04c44c818c2b9f341107cfb5": {
          "model_module": "@jupyter-widgets/controls",
          "model_name": "ProgressStyleModel",
          "state": {
            "_view_name": "StyleView",
            "_model_name": "ProgressStyleModel",
            "description_width": "initial",
            "_view_module": "@jupyter-widgets/base",
            "_model_module_version": "1.5.0",
            "_view_count": null,
            "_view_module_version": "1.2.0",
            "bar_color": null,
            "_model_module": "@jupyter-widgets/controls"
          }
        },
        "2f50897594744fb2bc1c652ac5691927": {
          "model_module": "@jupyter-widgets/base",
          "model_name": "LayoutModel",
          "state": {
            "_view_name": "LayoutView",
            "grid_template_rows": null,
            "right": null,
            "justify_content": null,
            "_view_module": "@jupyter-widgets/base",
            "overflow": null,
            "_model_module_version": "1.2.0",
            "_view_count": null,
            "flex_flow": null,
            "width": null,
            "min_width": null,
            "border": null,
            "align_items": null,
            "bottom": null,
            "_model_module": "@jupyter-widgets/base",
            "top": null,
            "grid_column": null,
            "overflow_y": null,
            "overflow_x": null,
            "grid_auto_flow": null,
            "grid_area": null,
            "grid_template_columns": null,
            "flex": null,
            "_model_name": "LayoutModel",
            "justify_items": null,
            "grid_row": null,
            "max_height": null,
            "align_content": null,
            "visibility": null,
            "align_self": null,
            "height": null,
            "min_height": null,
            "padding": null,
            "grid_auto_rows": null,
            "grid_gap": null,
            "max_width": null,
            "order": null,
            "_view_module_version": "1.2.0",
            "grid_template_areas": null,
            "object_position": null,
            "object_fit": null,
            "grid_auto_columns": null,
            "margin": null,
            "display": null,
            "left": null
          }
        },
        "2d0a880130984cd78b0c5f771aee3b74": {
          "model_module": "@jupyter-widgets/controls",
          "model_name": "DescriptionStyleModel",
          "state": {
            "_view_name": "StyleView",
            "_model_name": "DescriptionStyleModel",
            "description_width": "",
            "_view_module": "@jupyter-widgets/base",
            "_model_module_version": "1.5.0",
            "_view_count": null,
            "_view_module_version": "1.2.0",
            "_model_module": "@jupyter-widgets/controls"
          }
        },
        "88f2ef8e07b44e28bb3fca1795bbd89a": {
          "model_module": "@jupyter-widgets/base",
          "model_name": "LayoutModel",
          "state": {
            "_view_name": "LayoutView",
            "grid_template_rows": null,
            "right": null,
            "justify_content": null,
            "_view_module": "@jupyter-widgets/base",
            "overflow": null,
            "_model_module_version": "1.2.0",
            "_view_count": null,
            "flex_flow": null,
            "width": null,
            "min_width": null,
            "border": null,
            "align_items": null,
            "bottom": null,
            "_model_module": "@jupyter-widgets/base",
            "top": null,
            "grid_column": null,
            "overflow_y": null,
            "overflow_x": null,
            "grid_auto_flow": null,
            "grid_area": null,
            "grid_template_columns": null,
            "flex": null,
            "_model_name": "LayoutModel",
            "justify_items": null,
            "grid_row": null,
            "max_height": null,
            "align_content": null,
            "visibility": null,
            "align_self": null,
            "height": null,
            "min_height": null,
            "padding": null,
            "grid_auto_rows": null,
            "grid_gap": null,
            "max_width": null,
            "order": null,
            "_view_module_version": "1.2.0",
            "grid_template_areas": null,
            "object_position": null,
            "object_fit": null,
            "grid_auto_columns": null,
            "margin": null,
            "display": null,
            "left": null
          }
        },
        "1fcf2bd8e104488fa09660871036b10d": {
          "model_module": "@jupyter-widgets/controls",
          "model_name": "HBoxModel",
          "state": {
            "_view_name": "HBoxView",
            "_dom_classes": [],
            "_model_name": "HBoxModel",
            "_view_module": "@jupyter-widgets/controls",
            "_model_module_version": "1.5.0",
            "_view_count": null,
            "_view_module_version": "1.5.0",
            "box_style": "",
            "layout": "IPY_MODEL_7b42a660e5e1481193feee5eb7f39079",
            "_model_module": "@jupyter-widgets/controls",
            "children": [
              "IPY_MODEL_ed62e3bda3da43aa9f37d41bfbb2e919",
              "IPY_MODEL_3350423f1d374ffcbdbacd8e09647ef5"
            ]
          }
        },
        "7b42a660e5e1481193feee5eb7f39079": {
          "model_module": "@jupyter-widgets/base",
          "model_name": "LayoutModel",
          "state": {
            "_view_name": "LayoutView",
            "grid_template_rows": null,
            "right": null,
            "justify_content": null,
            "_view_module": "@jupyter-widgets/base",
            "overflow": null,
            "_model_module_version": "1.2.0",
            "_view_count": null,
            "flex_flow": null,
            "width": null,
            "min_width": null,
            "border": null,
            "align_items": null,
            "bottom": null,
            "_model_module": "@jupyter-widgets/base",
            "top": null,
            "grid_column": null,
            "overflow_y": null,
            "overflow_x": null,
            "grid_auto_flow": null,
            "grid_area": null,
            "grid_template_columns": null,
            "flex": null,
            "_model_name": "LayoutModel",
            "justify_items": null,
            "grid_row": null,
            "max_height": null,
            "align_content": null,
            "visibility": null,
            "align_self": null,
            "height": null,
            "min_height": null,
            "padding": null,
            "grid_auto_rows": null,
            "grid_gap": null,
            "max_width": null,
            "order": null,
            "_view_module_version": "1.2.0",
            "grid_template_areas": null,
            "object_position": null,
            "object_fit": null,
            "grid_auto_columns": null,
            "margin": null,
            "display": null,
            "left": null
          }
        },
        "ed62e3bda3da43aa9f37d41bfbb2e919": {
          "model_module": "@jupyter-widgets/controls",
          "model_name": "FloatProgressModel",
          "state": {
            "_view_name": "ProgressView",
            "style": "IPY_MODEL_3de1878ab6b1455683904ad4789e7e1d",
            "_dom_classes": [],
            "description": "Downloading: 100%",
            "_model_name": "FloatProgressModel",
            "bar_style": "success",
            "max": 433316639,
            "_view_module": "@jupyter-widgets/controls",
            "_model_module_version": "1.5.0",
            "value": 433316639,
            "_view_count": null,
            "_view_module_version": "1.5.0",
            "orientation": "horizontal",
            "min": 0,
            "description_tooltip": null,
            "_model_module": "@jupyter-widgets/controls",
            "layout": "IPY_MODEL_3502253b5bc94f58b23ec1fcf6090e34"
          }
        },
        "3350423f1d374ffcbdbacd8e09647ef5": {
          "model_module": "@jupyter-widgets/controls",
          "model_name": "HTMLModel",
          "state": {
            "_view_name": "HTMLView",
            "style": "IPY_MODEL_d425eccb012942bcab727b6907aecf70",
            "_dom_classes": [],
            "description": "",
            "_model_name": "HTMLModel",
            "placeholder": "​",
            "_view_module": "@jupyter-widgets/controls",
            "_model_module_version": "1.5.0",
            "value": " 433M/433M [00:13&lt;00:00, 33.2MB/s]",
            "_view_count": null,
            "_view_module_version": "1.5.0",
            "description_tooltip": null,
            "_model_module": "@jupyter-widgets/controls",
            "layout": "IPY_MODEL_bde4afefe7ca4904b165b3cdf8753940"
          }
        },
        "3de1878ab6b1455683904ad4789e7e1d": {
          "model_module": "@jupyter-widgets/controls",
          "model_name": "ProgressStyleModel",
          "state": {
            "_view_name": "StyleView",
            "_model_name": "ProgressStyleModel",
            "description_width": "initial",
            "_view_module": "@jupyter-widgets/base",
            "_model_module_version": "1.5.0",
            "_view_count": null,
            "_view_module_version": "1.2.0",
            "bar_color": null,
            "_model_module": "@jupyter-widgets/controls"
          }
        },
        "3502253b5bc94f58b23ec1fcf6090e34": {
          "model_module": "@jupyter-widgets/base",
          "model_name": "LayoutModel",
          "state": {
            "_view_name": "LayoutView",
            "grid_template_rows": null,
            "right": null,
            "justify_content": null,
            "_view_module": "@jupyter-widgets/base",
            "overflow": null,
            "_model_module_version": "1.2.0",
            "_view_count": null,
            "flex_flow": null,
            "width": null,
            "min_width": null,
            "border": null,
            "align_items": null,
            "bottom": null,
            "_model_module": "@jupyter-widgets/base",
            "top": null,
            "grid_column": null,
            "overflow_y": null,
            "overflow_x": null,
            "grid_auto_flow": null,
            "grid_area": null,
            "grid_template_columns": null,
            "flex": null,
            "_model_name": "LayoutModel",
            "justify_items": null,
            "grid_row": null,
            "max_height": null,
            "align_content": null,
            "visibility": null,
            "align_self": null,
            "height": null,
            "min_height": null,
            "padding": null,
            "grid_auto_rows": null,
            "grid_gap": null,
            "max_width": null,
            "order": null,
            "_view_module_version": "1.2.0",
            "grid_template_areas": null,
            "object_position": null,
            "object_fit": null,
            "grid_auto_columns": null,
            "margin": null,
            "display": null,
            "left": null
          }
        },
        "d425eccb012942bcab727b6907aecf70": {
          "model_module": "@jupyter-widgets/controls",
          "model_name": "DescriptionStyleModel",
          "state": {
            "_view_name": "StyleView",
            "_model_name": "DescriptionStyleModel",
            "description_width": "",
            "_view_module": "@jupyter-widgets/base",
            "_model_module_version": "1.5.0",
            "_view_count": null,
            "_view_module_version": "1.2.0",
            "_model_module": "@jupyter-widgets/controls"
          }
        },
        "bde4afefe7ca4904b165b3cdf8753940": {
          "model_module": "@jupyter-widgets/base",
          "model_name": "LayoutModel",
          "state": {
            "_view_name": "LayoutView",
            "grid_template_rows": null,
            "right": null,
            "justify_content": null,
            "_view_module": "@jupyter-widgets/base",
            "overflow": null,
            "_model_module_version": "1.2.0",
            "_view_count": null,
            "flex_flow": null,
            "width": null,
            "min_width": null,
            "border": null,
            "align_items": null,
            "bottom": null,
            "_model_module": "@jupyter-widgets/base",
            "top": null,
            "grid_column": null,
            "overflow_y": null,
            "overflow_x": null,
            "grid_auto_flow": null,
            "grid_area": null,
            "grid_template_columns": null,
            "flex": null,
            "_model_name": "LayoutModel",
            "justify_items": null,
            "grid_row": null,
            "max_height": null,
            "align_content": null,
            "visibility": null,
            "align_self": null,
            "height": null,
            "min_height": null,
            "padding": null,
            "grid_auto_rows": null,
            "grid_gap": null,
            "max_width": null,
            "order": null,
            "_view_module_version": "1.2.0",
            "grid_template_areas": null,
            "object_position": null,
            "object_fit": null,
            "grid_auto_columns": null,
            "margin": null,
            "display": null,
            "left": null
          }
        }
      }
    }
  },
  "cells": [
    {
      "cell_type": "code",
      "metadata": {
        "id": "i3x7yFIV8K5W",
        "colab": {
          "base_uri": "https://localhost:8080/",
          "height": 119
        },
        "outputId": "d9ebbb86-5afb-45f1-bc55-510537937271"
      },
      "source": [
        "!git clone https://github.com/mahdiabdollahpour/COVID19Tweet.git"
      ],
      "execution_count": null,
      "outputs": [
        {
          "output_type": "stream",
          "text": [
            "Cloning into 'COVID19Tweet'...\n",
            "remote: Enumerating objects: 62, done.\u001b[K\n",
            "remote: Counting objects: 100% (62/62), done.\u001b[K\n",
            "remote: Compressing objects: 100% (47/47), done.\u001b[K\n",
            "remote: Total 62 (delta 27), reused 40 (delta 12), pack-reused 0\u001b[K\n",
            "Unpacking objects: 100% (62/62), done.\n"
          ],
          "name": "stdout"
        }
      ]
    },
    {
      "cell_type": "code",
      "metadata": {
        "scrolled": true,
        "id": "Mmq52Ti-KnEv",
        "colab": {
          "base_uri": "https://localhost:8080/",
          "height": 34
        },
        "outputId": "ec17b62d-cd05-49cb-beda-23bf28821758"
      },
      "source": [
        "import pandas as pd\n",
        "import os\n",
        "import re\n",
        "df=pd.read_csv(\"COVID19Tweet/train.tsv\",sep=\"\\t\")\n",
        "df.shape"
      ],
      "execution_count": null,
      "outputs": [
        {
          "output_type": "execute_result",
          "data": {
            "text/plain": [
              "(6936, 3)"
            ]
          },
          "metadata": {
            "tags": []
          },
          "execution_count": 2
        }
      ]
    },
    {
      "cell_type": "code",
      "metadata": {
        "id": "8kTv3rwIOoU_",
        "colab": {
          "base_uri": "https://localhost:8080/",
          "height": 51
        },
        "outputId": "c95f66f9-c3d1-458d-b091-929713dad57b"
      },
      "source": [
        "import torch\n",
        "\n",
        "if torch.cuda.is_available():       \n",
        "    device = torch.device(\"cuda\")\n",
        "    print(f'There are {torch.cuda.device_count()} GPU(s) available.')\n",
        "    print('Device name:', torch.cuda.get_device_name(0))\n",
        "\n",
        "else:\n",
        "    print('No GPU available, using the CPU instead.')\n",
        "    device = torch.device(\"cpu\")"
      ],
      "execution_count": null,
      "outputs": [
        {
          "output_type": "stream",
          "text": [
            "There are 1 GPU(s) available.\n",
            "Device name: Tesla T4\n"
          ],
          "name": "stdout"
        }
      ]
    },
    {
      "cell_type": "markdown",
      "metadata": {
        "id": "M0IrtmF3Korf"
      },
      "source": [
        ""
      ]
    },
    {
      "cell_type": "code",
      "metadata": {
        "id": "MvHfiOVeKnE0",
        "colab": {
          "base_uri": "https://localhost:8080/",
          "height": 221
        },
        "outputId": "f23c7cd5-85fb-4f92-8a12-5941e4879bdf"
      },
      "source": [
        "df['Label']=pd.Categorical(df['Label'])\n",
        "df['Label']=df.Label.cat.codes\n",
        "df.head()"
      ],
      "execution_count": null,
      "outputs": [
        {
          "output_type": "execute_result",
          "data": {
            "text/html": [
              "<div>\n",
              "<style scoped>\n",
              "    .dataframe tbody tr th:only-of-type {\n",
              "        vertical-align: middle;\n",
              "    }\n",
              "\n",
              "    .dataframe tbody tr th {\n",
              "        vertical-align: top;\n",
              "    }\n",
              "\n",
              "    .dataframe thead th {\n",
              "        text-align: right;\n",
              "    }\n",
              "</style>\n",
              "<table border=\"1\" class=\"dataframe\">\n",
              "  <thead>\n",
              "    <tr style=\"text-align: right;\">\n",
              "      <th></th>\n",
              "      <th>Id</th>\n",
              "      <th>Text</th>\n",
              "      <th>Label</th>\n",
              "    </tr>\n",
              "  </thead>\n",
              "  <tbody>\n",
              "    <tr>\n",
              "      <th>0</th>\n",
              "      <td>1241490299215634434</td>\n",
              "      <td>Official death toll from #covid19 in the Unite...</td>\n",
              "      <td>0</td>\n",
              "    </tr>\n",
              "    <tr>\n",
              "      <th>1</th>\n",
              "      <td>1245916400981381130</td>\n",
              "      <td>Dearest Mr. President @USER 1,169 coronavirus ...</td>\n",
              "      <td>0</td>\n",
              "    </tr>\n",
              "    <tr>\n",
              "      <th>2</th>\n",
              "      <td>1241132432402849793</td>\n",
              "      <td>Latest Updates March 20 ⚠️5274 new cases and 3...</td>\n",
              "      <td>0</td>\n",
              "    </tr>\n",
              "    <tr>\n",
              "      <th>3</th>\n",
              "      <td>1236107253666607104</td>\n",
              "      <td>真把公主不当干部 BREAKING: 21 people on Grand Princess...</td>\n",
              "      <td>0</td>\n",
              "    </tr>\n",
              "    <tr>\n",
              "      <th>4</th>\n",
              "      <td>1239673817552879619</td>\n",
              "      <td>OKLAHOMA CITY — The State Department of Educat...</td>\n",
              "      <td>1</td>\n",
              "    </tr>\n",
              "  </tbody>\n",
              "</table>\n",
              "</div>"
            ],
            "text/plain": [
              "                    Id  ... Label\n",
              "0  1241490299215634434  ...     0\n",
              "1  1245916400981381130  ...     0\n",
              "2  1241132432402849793  ...     0\n",
              "3  1236107253666607104  ...     0\n",
              "4  1239673817552879619  ...     1\n",
              "\n",
              "[5 rows x 3 columns]"
            ]
          },
          "metadata": {
            "tags": []
          },
          "execution_count": 4
        }
      ]
    },
    {
      "cell_type": "code",
      "metadata": {
        "id": "DwM0zo9tKnE3"
      },
      "source": [
        "import matplotlib.pyplot as plt\n",
        "\n",
        "%matplotlib inline\n"
      ],
      "execution_count": null,
      "outputs": []
    },
    {
      "cell_type": "code",
      "metadata": {
        "scrolled": true,
        "id": "XHxoMQZgKnE6",
        "colab": {
          "base_uri": "https://localhost:8080/",
          "height": 34
        },
        "outputId": "1337c913-9365-4669-8a62-9dbdd6b24802"
      },
      "source": [
        "X_train=df.Text.values\n",
        "Y_train=df.Label.values\n",
        "Y_train=Y_train.astype('long')\n",
        "# Y_train.dtype\n",
        "# X_train.shape\n",
        "Y_train.dtype"
      ],
      "execution_count": null,
      "outputs": [
        {
          "output_type": "execute_result",
          "data": {
            "text/plain": [
              "dtype('int64')"
            ]
          },
          "metadata": {
            "tags": []
          },
          "execution_count": 6
        }
      ]
    },
    {
      "cell_type": "code",
      "metadata": {
        "id": "rfRdB5VyKnE9"
      },
      "source": [
        "from sklearn.model_selection import train_test_split\n",
        "\n",
        "df=pd.read_csv(\"COVID19Tweet/valid.tsv\",sep=\"\\t\")\n",
        "df['Label']=pd.Categorical(df['Label'])\n",
        "df['Label']=df.Label.cat.codes\n",
        "X_val=df.Text.values\n",
        "Y_val=df.Label.values\n",
        "Y_val=Y_val.astype('long')\n",
        "\n"
      ],
      "execution_count": null,
      "outputs": []
    },
    {
      "cell_type": "code",
      "metadata": {
        "id": "NdCjPlybKnFB",
        "colab": {
          "base_uri": "https://localhost:8080/",
          "height": 34
        },
        "outputId": "9d09b5dd-4e90-4e73-e563-4530724c953d"
      },
      "source": [
        "X_train.shape"
      ],
      "execution_count": null,
      "outputs": [
        {
          "output_type": "execute_result",
          "data": {
            "text/plain": [
              "(6936,)"
            ]
          },
          "metadata": {
            "tags": []
          },
          "execution_count": 8
        }
      ]
    },
    {
      "cell_type": "markdown",
      "metadata": {
        "id": "ptoQNAqa3sK0"
      },
      "source": [
        "# text_preprocessing\n"
      ]
    },
    {
      "cell_type": "code",
      "metadata": {
        "id": "MCnz9P_1KnFE",
        "colab": {
          "base_uri": "https://localhost:8080/",
          "height": 51
        },
        "outputId": "062cd1a4-4827-472b-eedd-cc0aaad441c1"
      },
      "source": [
        "import nltk\n",
        "# Uncomment to download \"stopwords\"\n",
        "nltk.download(\"stopwords\")\n",
        "from nltk.corpus import stopwords\n",
        "\n",
        "def text_preprocessing(s):\n",
        "    \"\"\"\n",
        "    - Lowercase the sentence\n",
        "    - Change \"'t\" to \"not\"\n",
        "    - Remove \"@name\"\n",
        "    - Isolate and remove punctuations except \"?\"\n",
        "    - Remove other special characters\n",
        "    - Remove stop words except \"not\" and \"can\"\n",
        "    - Remove trailing whitespace\n",
        "    \"\"\"\n",
        "    s = s.lower()\n",
        "    # Change 't to 'not'\n",
        "    s = re.sub(r\"\\'t\", \" not\", s)\n",
        "    # Remove @name\n",
        "    s = re.sub(r'(@.*?)[\\s]', ' ', s)\n",
        "    # Isolate and remove punctuations except '?'\n",
        "    s = re.sub(r'([\\'\\\"\\.\\(\\)\\!\\?\\\\\\/\\,])', r' \\1 ', s)\n",
        "    s = re.sub(r'[^\\w\\s\\?]', ' ', s)\n",
        "    # Remove some special characters\n",
        "    s = re.sub(r'([\\;\\:\\|•«\\n])', ' ', s)\n",
        "    # Remove stopwords except 'not' and 'can'\n",
        "    s = \" \".join([word for word in s.split()\n",
        "                  if word not in stopwords.words('english')\n",
        "                  or word in ['not', 'can']])\n",
        "    # Remove trailing whitespace\n",
        "    s = re.sub(r'\\s+', ' ', s).strip()\n",
        "    \n",
        "    return s"
      ],
      "execution_count": null,
      "outputs": [
        {
          "output_type": "stream",
          "text": [
            "[nltk_data] Downloading package stopwords to /root/nltk_data...\n",
            "[nltk_data]   Unzipping corpora/stopwords.zip.\n"
          ],
          "name": "stdout"
        }
      ]
    },
    {
      "cell_type": "code",
      "metadata": {
        "id": "reQxlbyGtD1T"
      },
      "source": [
        ""
      ],
      "execution_count": null,
      "outputs": []
    },
    {
      "cell_type": "markdown",
      "metadata": {
        "id": "Tyx5gX9xxM4l"
      },
      "source": [
        "# punctuation and slang pocessors"
      ]
    },
    {
      "cell_type": "code",
      "metadata": {
        "id": "d7WHQN4dXqlX"
      },
      "source": [
        "def punctuation_preprocess(s):\n",
        "  if (\"!\" or \"?\")in s:\n",
        "    return 1\n",
        "  else:\n",
        "    return 0"
      ],
      "execution_count": null,
      "outputs": []
    },
    {
      "cell_type": "code",
      "metadata": {
        "id": "kqunIZK7bi0P"
      },
      "source": [
        "slangs=[\"2day\",\n",
        "\"2moro\",\n",
        "\"2nite\",\n",
        "\"4EAE\",\n",
        "\"About\",\n",
        "\"ADN\",\n",
        "\"AFAIC\",\n",
        "\"AFAICT\",\n",
        "\"AFAIK\",\n",
        "\"AFAIR\",\n",
        "\"AKA\",\n",
        "\"AMA\",\n",
        "\"ASAIC\",\n",
        "\"ASAP\",\n",
        "\"ATM\",\n",
        "\"B4\",\n",
        "\"B4N\",\n",
        "\"Bae\",\n",
        "\"BBL\",\n",
        "\"BBT\",\n",
        "\"BCNU\",\n",
        "\"BD\",\n",
        "\"BF\",\n",
        "\"BFF\",\n",
        "\"BMT\",\n",
        "\"BOL\",\n",
        "\"BOT\",\n",
        "\"BRB\",\n",
        "\"BRO\",\n",
        "\"BT\",\n",
        "\"BTW\",\n",
        "\"CFY\",\n",
        "\"CU\",\n",
        "\"CUL\",\n",
        "\"Cuz\",\n",
        "\"CYA\",\n",
        "\"DAE\",\n",
        "\"DBA\",\n",
        "\"DFTBA\",\n",
        "\"DIKU\",\n",
        "\"DM\",\n",
        "\"DND\",\n",
        "\"DR\",\n",
        "\"DWBH\",\n",
        "\"ELI5\",\n",
        "\"EOM\",\n",
        "\"EOS\",\n",
        "\"F2F\",\n",
        "\"FAQ\",\n",
        "\"FB\",\n",
        "\"FBF\",\n",
        "\"FF\",\n",
        "\"FIFY\",\n",
        "\"FITB\",\n",
        "\"FML\",\n",
        "\"FOMO\",\n",
        "\"FTFY\",\n",
        "\"FTL\",\n",
        "\"FTW\",\n",
        "\"FWB\",\n",
        "\"FWIW\",\n",
        "\"FYE\",\n",
        "\"FYEO\",\n",
        "\"FYI\",\n",
        "\"GA\",\n",
        "\"GAL\",\n",
        "\"GF\",\n",
        "\"GM\",\n",
        "\"GN\",\n",
        "\"Gr8\",\n",
        "\"GTR\",\n",
        "\"HAND\",\n",
        "\"HB\",\n",
        "\"HBD\",\n",
        "\"HBU\",\n",
        "\"HMB\",\n",
        "\"HMU\",\n",
        "\"HRU\",\n",
        "\"HTH\",\n",
        "\"IAC\",\n",
        "\"IC\",\n",
        "\"ICYMI\",\n",
        "\"IDC\",\n",
        "\"IDK\",\n",
        "\"IG\",\n",
        "\"IIRC\",\n",
        "\"IKR\",\n",
        "\"ILY\",\n",
        "\"IMHO\",\n",
        "\"IMMD\",\n",
        "\"IMY\",\n",
        "\"IRL\",\n",
        "\"ISO\",\n",
        "\"IU2U\",\n",
        "\"J4F\",\n",
        "\"JAM\",\n",
        "\"JFY\",\n",
        "\"JIC\",\n",
        "\"JK\",\n",
        "\"JSYK\",\n",
        "\"KK\",\n",
        "\"L8\",\n",
        "\"L8R\",\n",
        "\"LMA\",\n",
        "\"LMAO\",\n",
        "\"LMBO\",\n",
        "\"LMK\",\n",
        "\"LOL\",\n",
        "\"LTNS\",\n",
        "\"LYLAS\",\n",
        "\"M/F\",\n",
        "\"M8\",\n",
        "\"MP\",\n",
        "\"MSM\",\n",
        "\"MU\",\n",
        "\"MYOB\",\n",
        "\"NAGI\",\n",
        "\"NBD\",\n",
        "\"NE1\",\n",
        "\"NM\",\n",
        "\"NP\",\n",
        "\"NSFL\",\n",
        "\"NSFW\",\n",
        "\"NTS\",\n",
        "\"OC\",\n",
        "\"OH\",\n",
        "\"OIC\",\n",
        "\"OMD\",\n",
        "\"OMG\",\n",
        "\"OMW\",\n",
        "\"OT\",\n",
        "\"OFC\",\n",
        "\"PAW\",\n",
        "\"Pls\",\n",
        "\"POTD\",\n",
        "\"POV\",\n",
        "'PPL',\n",
        "\"PTB\",\n",
        "\"Q4U\",\n",
        "\"QQ\",\n",
        "\"RBTL\",\n",
        "\"RIP\",\n",
        "\"RL\",\n",
        "\"ROFL\",\n",
        "\"RT\",\n",
        "\"RTM\",\n",
        "\"SIS\",\n",
        "\"SITD\",\n",
        "\"SM\",\n",
        "\"SMH\",\n",
        "\"SMY\",\n",
        "\"SNH\",\n",
        "\"SOL\",\n",
        "\"Some1\",\n",
        "\"SRSLY\",\n",
        "\"STBY\",\n",
        "\"Str8\",\n",
        "\"SYS\",\n",
        "\"TBA\",\n",
        "\"TBH\",\n",
        "\"TBT\",\n",
        "\"TBT\",\n",
        "\"TFH\",\n",
        "\"TFTI\",\n",
        "\"TGIF\",\n",
        "\"THX\",\n",
        "\"TIA\",\n",
        "\"TIL\",\n",
        "\"TL;DR\",\n",
        "\"TLC\",\n",
        "\"TMI\",\n",
        "\"TTYL\",\n",
        "\"TTYS\",\n",
        "\"Txt\",\n",
        "\"TYVM\",\n",
        "'U',\n",
        "\"U4F\",\n",
        "\"UR\",\n",
        "\"VBG\",\n",
        "\"VSF\",\n",
        "\"WB\",\n",
        "\"WBU\",\n",
        "\"WEG\",\n",
        "\"WKND\",\n",
        "\"WOM\",\n",
        "\"WOTD\",\n",
        "\"Wru\",\n",
        "\"WTH\",\n",
        "\"WTPA\",\n",
        "\"WU\",\n",
        "\"WYCM\",\n",
        "\"WYWH\",\n",
        "\"XOXO\",\n",
        "\"YGM\",\n",
        "\"YNK\",\n",
        "\"YOLO\",\n",
        "\"YT\",\n",
        "\"YW\"]\n",
        "def slang_preprocess(s):\n",
        "  lower_slangs=[text.lower() for text in slangs]\n",
        "  lists=s.split()\n",
        "  lists=[x.lower() for x in lists]\n",
        "  for slang in lower_slangs:\n",
        "    if slang in lists:\n",
        "      return 1\n",
        "  return 0"
      ],
      "execution_count": null,
      "outputs": []
    },
    {
      "cell_type": "code",
      "metadata": {
        "id": "HzbL6tZHYrK7",
        "colab": {
          "base_uri": "https://localhost:8080/",
          "height": 249
        },
        "outputId": "511dbd44-d466-4932-8847-bc8f64a6bc7a"
      },
      "source": [
        "import numpy as np\n",
        "X_train_punctuation=np.array([punctuation_preprocess(text) for text in X_train])\n",
        "X_val_punctuation=np.array([punctuation_preprocess(text) for text in X_val])\n",
        "X_train_slang=np.array([slang_preprocess(text) for text in X_train])\n",
        "X_val_slang=np.array([slang_preprocess(text) for text in X_val])\n",
        "X_val_slang"
      ],
      "execution_count": null,
      "outputs": [
        {
          "output_type": "error",
          "ename": "NameError",
          "evalue": "ignored",
          "traceback": [
            "\u001b[0;31m---------------------------------------------------------------------------\u001b[0m",
            "\u001b[0;31mNameError\u001b[0m                                 Traceback (most recent call last)",
            "\u001b[0;32m<ipython-input-5-84ad949e82bb>\u001b[0m in \u001b[0;36m<module>\u001b[0;34m()\u001b[0m\n\u001b[1;32m      1\u001b[0m \u001b[0;32mimport\u001b[0m \u001b[0mnumpy\u001b[0m \u001b[0;32mas\u001b[0m \u001b[0mnp\u001b[0m\u001b[0;34m\u001b[0m\u001b[0;34m\u001b[0m\u001b[0m\n\u001b[0;32m----> 2\u001b[0;31m \u001b[0mX_train_punctuation\u001b[0m\u001b[0;34m=\u001b[0m\u001b[0mnp\u001b[0m\u001b[0;34m.\u001b[0m\u001b[0marray\u001b[0m\u001b[0;34m(\u001b[0m\u001b[0;34m[\u001b[0m\u001b[0mpunctuation_preprocess\u001b[0m\u001b[0;34m(\u001b[0m\u001b[0mtext\u001b[0m\u001b[0;34m)\u001b[0m \u001b[0;32mfor\u001b[0m \u001b[0mtext\u001b[0m \u001b[0;32min\u001b[0m \u001b[0mX_train\u001b[0m\u001b[0;34m]\u001b[0m\u001b[0;34m)\u001b[0m\u001b[0;34m\u001b[0m\u001b[0;34m\u001b[0m\u001b[0m\n\u001b[0m\u001b[1;32m      3\u001b[0m \u001b[0mX_val_punctuation\u001b[0m\u001b[0;34m=\u001b[0m\u001b[0mnp\u001b[0m\u001b[0;34m.\u001b[0m\u001b[0marray\u001b[0m\u001b[0;34m(\u001b[0m\u001b[0;34m[\u001b[0m\u001b[0mpunctuation_preprocess\u001b[0m\u001b[0;34m(\u001b[0m\u001b[0mtext\u001b[0m\u001b[0;34m)\u001b[0m \u001b[0;32mfor\u001b[0m \u001b[0mtext\u001b[0m \u001b[0;32min\u001b[0m \u001b[0mX_val\u001b[0m\u001b[0;34m]\u001b[0m\u001b[0;34m)\u001b[0m\u001b[0;34m\u001b[0m\u001b[0;34m\u001b[0m\u001b[0m\n\u001b[1;32m      4\u001b[0m \u001b[0mX_train_slang\u001b[0m\u001b[0;34m=\u001b[0m\u001b[0mnp\u001b[0m\u001b[0;34m.\u001b[0m\u001b[0marray\u001b[0m\u001b[0;34m(\u001b[0m\u001b[0;34m[\u001b[0m\u001b[0mslang_preprocess\u001b[0m\u001b[0;34m(\u001b[0m\u001b[0mtext\u001b[0m\u001b[0;34m)\u001b[0m \u001b[0;32mfor\u001b[0m \u001b[0mtext\u001b[0m \u001b[0;32min\u001b[0m \u001b[0mX_train\u001b[0m\u001b[0;34m]\u001b[0m\u001b[0;34m)\u001b[0m\u001b[0;34m\u001b[0m\u001b[0;34m\u001b[0m\u001b[0m\n\u001b[1;32m      5\u001b[0m \u001b[0mX_val_slang\u001b[0m\u001b[0;34m=\u001b[0m\u001b[0mnp\u001b[0m\u001b[0;34m.\u001b[0m\u001b[0marray\u001b[0m\u001b[0;34m(\u001b[0m\u001b[0;34m[\u001b[0m\u001b[0mslang_preprocess\u001b[0m\u001b[0;34m(\u001b[0m\u001b[0mtext\u001b[0m\u001b[0;34m)\u001b[0m \u001b[0;32mfor\u001b[0m \u001b[0mtext\u001b[0m \u001b[0;32min\u001b[0m \u001b[0mX_val\u001b[0m\u001b[0;34m]\u001b[0m\u001b[0;34m)\u001b[0m\u001b[0;34m\u001b[0m\u001b[0;34m\u001b[0m\u001b[0m\n",
            "\u001b[0;31mNameError\u001b[0m: name 'X_train' is not defined"
          ]
        }
      ]
    },
    {
      "cell_type": "code",
      "metadata": {
        "scrolled": false,
        "id": "cDajmEvWKnFH",
        "colab": {
          "base_uri": "https://localhost:8080/",
          "height": 511
        },
        "outputId": "8b2a562b-755f-48f7-d5e6-ba9e54a031f0"
      },
      "source": [
        "%%time\n",
        "import numpy as np\n",
        "from sklearn.feature_extraction.text import TfidfVectorizer\n",
        "\n",
        "# Preprocess text\n",
        "\n",
        "X_train_preprocessed = np.array([text_preprocessing(text) for text in X_train])\n",
        "X_val_preprocessed = np.array([text_preprocessing(text) for text in X_val])\n",
        "\n",
        "# Calculate TF-IDF\n",
        "tf_idf = TfidfVectorizer(ngram_range=(1, 3),\n",
        "                         binary=False,\n",
        "                         smooth_idf=True)\n",
        "X_train_tfidf = tf_idf.fit_transform(X_train_preprocessed)\n",
        "X_val_tfidf = tf_idf.transform(X_val_preprocessed)"
      ],
      "execution_count": null,
      "outputs": [
        {
          "output_type": "error",
          "ename": "NameError",
          "evalue": "ignored",
          "traceback": [
            "\u001b[0;31m---------------------------------------------------------------------------\u001b[0m",
            "\u001b[0;31mNameError\u001b[0m                                 Traceback (most recent call last)",
            "\u001b[0;32m<ipython-input-8-dce8e948fa0b>\u001b[0m in \u001b[0;36m<module>\u001b[0;34m()\u001b[0m\n\u001b[0;32m----> 1\u001b[0;31m \u001b[0mget_ipython\u001b[0m\u001b[0;34m(\u001b[0m\u001b[0;34m)\u001b[0m\u001b[0;34m.\u001b[0m\u001b[0mrun_cell_magic\u001b[0m\u001b[0;34m(\u001b[0m\u001b[0;34m'time'\u001b[0m\u001b[0;34m,\u001b[0m \u001b[0;34m''\u001b[0m\u001b[0;34m,\u001b[0m \u001b[0;34m'import numpy as np\\nfrom sklearn.feature_extraction.text import TfidfVectorizer\\n\\n# Preprocess text\\n\\nX_train_preprocessed = np.array([text_preprocessing(text) for text in X_train])\\nX_val_preprocessed = np.array([text_preprocessing(text) for text in X_val])\\n\\n# Calculate TF-IDF\\ntf_idf = TfidfVectorizer(ngram_range=(1, 3),\\n                         binary=False,\\n                         smooth_idf=True)\\nX_train_tfidf = tf_idf.fit_transform(X_train_preprocessed)\\nX_val_tfidf = tf_idf.transform(X_val_preprocessed)'\u001b[0m\u001b[0;34m)\u001b[0m\u001b[0;34m\u001b[0m\u001b[0;34m\u001b[0m\u001b[0m\n\u001b[0m",
            "\u001b[0;32m/usr/local/lib/python3.6/dist-packages/IPython/core/interactiveshell.py\u001b[0m in \u001b[0;36mrun_cell_magic\u001b[0;34m(self, magic_name, line, cell)\u001b[0m\n\u001b[1;32m   2115\u001b[0m             \u001b[0mmagic_arg_s\u001b[0m \u001b[0;34m=\u001b[0m \u001b[0mself\u001b[0m\u001b[0;34m.\u001b[0m\u001b[0mvar_expand\u001b[0m\u001b[0;34m(\u001b[0m\u001b[0mline\u001b[0m\u001b[0;34m,\u001b[0m \u001b[0mstack_depth\u001b[0m\u001b[0;34m)\u001b[0m\u001b[0;34m\u001b[0m\u001b[0;34m\u001b[0m\u001b[0m\n\u001b[1;32m   2116\u001b[0m             \u001b[0;32mwith\u001b[0m \u001b[0mself\u001b[0m\u001b[0;34m.\u001b[0m\u001b[0mbuiltin_trap\u001b[0m\u001b[0;34m:\u001b[0m\u001b[0;34m\u001b[0m\u001b[0;34m\u001b[0m\u001b[0m\n\u001b[0;32m-> 2117\u001b[0;31m                 \u001b[0mresult\u001b[0m \u001b[0;34m=\u001b[0m \u001b[0mfn\u001b[0m\u001b[0;34m(\u001b[0m\u001b[0mmagic_arg_s\u001b[0m\u001b[0;34m,\u001b[0m \u001b[0mcell\u001b[0m\u001b[0;34m)\u001b[0m\u001b[0;34m\u001b[0m\u001b[0;34m\u001b[0m\u001b[0m\n\u001b[0m\u001b[1;32m   2118\u001b[0m             \u001b[0;32mreturn\u001b[0m \u001b[0mresult\u001b[0m\u001b[0;34m\u001b[0m\u001b[0;34m\u001b[0m\u001b[0m\n\u001b[1;32m   2119\u001b[0m \u001b[0;34m\u001b[0m\u001b[0m\n",
            "\u001b[0;32m<decorator-gen-60>\u001b[0m in \u001b[0;36mtime\u001b[0;34m(self, line, cell, local_ns)\u001b[0m\n",
            "\u001b[0;32m/usr/local/lib/python3.6/dist-packages/IPython/core/magic.py\u001b[0m in \u001b[0;36m<lambda>\u001b[0;34m(f, *a, **k)\u001b[0m\n\u001b[1;32m    186\u001b[0m     \u001b[0;31m# but it's overkill for just that one bit of state.\u001b[0m\u001b[0;34m\u001b[0m\u001b[0;34m\u001b[0m\u001b[0;34m\u001b[0m\u001b[0m\n\u001b[1;32m    187\u001b[0m     \u001b[0;32mdef\u001b[0m \u001b[0mmagic_deco\u001b[0m\u001b[0;34m(\u001b[0m\u001b[0marg\u001b[0m\u001b[0;34m)\u001b[0m\u001b[0;34m:\u001b[0m\u001b[0;34m\u001b[0m\u001b[0;34m\u001b[0m\u001b[0m\n\u001b[0;32m--> 188\u001b[0;31m         \u001b[0mcall\u001b[0m \u001b[0;34m=\u001b[0m \u001b[0;32mlambda\u001b[0m \u001b[0mf\u001b[0m\u001b[0;34m,\u001b[0m \u001b[0;34m*\u001b[0m\u001b[0ma\u001b[0m\u001b[0;34m,\u001b[0m \u001b[0;34m**\u001b[0m\u001b[0mk\u001b[0m\u001b[0;34m:\u001b[0m \u001b[0mf\u001b[0m\u001b[0;34m(\u001b[0m\u001b[0;34m*\u001b[0m\u001b[0ma\u001b[0m\u001b[0;34m,\u001b[0m \u001b[0;34m**\u001b[0m\u001b[0mk\u001b[0m\u001b[0;34m)\u001b[0m\u001b[0;34m\u001b[0m\u001b[0;34m\u001b[0m\u001b[0m\n\u001b[0m\u001b[1;32m    189\u001b[0m \u001b[0;34m\u001b[0m\u001b[0m\n\u001b[1;32m    190\u001b[0m         \u001b[0;32mif\u001b[0m \u001b[0mcallable\u001b[0m\u001b[0;34m(\u001b[0m\u001b[0marg\u001b[0m\u001b[0;34m)\u001b[0m\u001b[0;34m:\u001b[0m\u001b[0;34m\u001b[0m\u001b[0;34m\u001b[0m\u001b[0m\n",
            "\u001b[0;32m/usr/local/lib/python3.6/dist-packages/IPython/core/magics/execution.py\u001b[0m in \u001b[0;36mtime\u001b[0;34m(self, line, cell, local_ns)\u001b[0m\n\u001b[1;32m   1191\u001b[0m         \u001b[0;32melse\u001b[0m\u001b[0;34m:\u001b[0m\u001b[0;34m\u001b[0m\u001b[0;34m\u001b[0m\u001b[0m\n\u001b[1;32m   1192\u001b[0m             \u001b[0mst\u001b[0m \u001b[0;34m=\u001b[0m \u001b[0mclock2\u001b[0m\u001b[0;34m(\u001b[0m\u001b[0;34m)\u001b[0m\u001b[0;34m\u001b[0m\u001b[0;34m\u001b[0m\u001b[0m\n\u001b[0;32m-> 1193\u001b[0;31m             \u001b[0mexec\u001b[0m\u001b[0;34m(\u001b[0m\u001b[0mcode\u001b[0m\u001b[0;34m,\u001b[0m \u001b[0mglob\u001b[0m\u001b[0;34m,\u001b[0m \u001b[0mlocal_ns\u001b[0m\u001b[0;34m)\u001b[0m\u001b[0;34m\u001b[0m\u001b[0;34m\u001b[0m\u001b[0m\n\u001b[0m\u001b[1;32m   1194\u001b[0m             \u001b[0mend\u001b[0m \u001b[0;34m=\u001b[0m \u001b[0mclock2\u001b[0m\u001b[0;34m(\u001b[0m\u001b[0;34m)\u001b[0m\u001b[0;34m\u001b[0m\u001b[0;34m\u001b[0m\u001b[0m\n\u001b[1;32m   1195\u001b[0m             \u001b[0mout\u001b[0m \u001b[0;34m=\u001b[0m \u001b[0;32mNone\u001b[0m\u001b[0;34m\u001b[0m\u001b[0;34m\u001b[0m\u001b[0m\n",
            "\u001b[0;32m<timed exec>\u001b[0m in \u001b[0;36m<module>\u001b[0;34m()\u001b[0m\n",
            "\u001b[0;31mNameError\u001b[0m: name 'X_train' is not defined"
          ]
        }
      ]
    },
    {
      "cell_type": "code",
      "metadata": {
        "id": "WXG23FRSKnFK"
      },
      "source": [
        "from sklearn.model_selection import StratifiedKFold, cross_val_score\n",
        "\n",
        "def get_auc_CV(model):\n",
        "    \"\"\"\n",
        "    Return the average AUC score from cross-validation.\n",
        "    \"\"\"\n",
        "    # Set KFold to shuffle data before the split\n",
        "    kf = StratifiedKFold(10, shuffle=True, random_state=1)\n",
        "\n",
        "    # Get AUC scores\n",
        "    auc = cross_val_score(\n",
        "        model, X_train_tfidf, Y_train, scoring=\"roc_auc\", cv=kf)\n",
        "\n",
        "    return auc.mean()"
      ],
      "execution_count": null,
      "outputs": []
    },
    {
      "cell_type": "code",
      "metadata": {
        "scrolled": false,
        "id": "sRbjv3xYKnFM",
        "colab": {
          "base_uri": "https://localhost:8080/",
          "height": 312
        },
        "outputId": "425c6c8e-134f-4b80-fe8b-9d6f6784e672"
      },
      "source": [
        "from sklearn.naive_bayes import MultinomialNB\n",
        "\n",
        "res = pd.Series([get_auc_CV(MultinomialNB(i))\n",
        "                 for i in np.arange(0.1, 10, 0.1)],\n",
        "                index=np.arange(0.1, 10, 0.1))\n",
        "\n",
        "best_alpha = np.round(res.idxmax(), 2)\n",
        "print('Best alpha: ', best_alpha)\n",
        "\n",
        "plt.plot(res)\n",
        "plt.title('AUC vs. Alpha')\n",
        "plt.xlabel('Alpha')\n",
        "plt.ylabel('AUC')\n",
        "plt.show()"
      ],
      "execution_count": null,
      "outputs": [
        {
          "output_type": "stream",
          "text": [
            "Best alpha:  0.3\n"
          ],
          "name": "stdout"
        },
        {
          "output_type": "display_data",
          "data": {
            "image/png": "[encoded data removed]",
            "text/plain": [
              "<Figure size 432x288 with 1 Axes>"
            ]
          },
          "metadata": {
            "tags": [],
            "needs_background": "light"
          }
        }
      ]
    },
    {
      "cell_type": "code",
      "metadata": {
        "id": "qTIsLvYpKnFO"
      },
      "source": [
        "from sklearn.metrics import accuracy_score, roc_curve, auc\n",
        "\n",
        "def evaluate_roc(probs, y_true):\n",
        "    \"\"\"\n",
        "    - Print AUC and accuracy on the test set\n",
        "    - Plot ROC\n",
        "    @params    probs (np.array): an array of predicted probabilities with shape (len(y_true), 2)\n",
        "    @params    y_true (np.array): an array of the true values with shape (len(y_true),)\n",
        "    \"\"\"\n",
        "    preds = probs[:, 1]\n",
        "    fpr, tpr, threshold = roc_curve(y_true, preds)\n",
        "    roc_auc = auc(fpr, tpr)\n",
        "    print(f'AUC: {roc_auc:.4f}')\n",
        "       \n",
        "    # Get accuracy over the test set\n",
        "    y_pred = np.where(preds >= 0.5, 1, 0)\n",
        "    accuracy = accuracy_score(y_true, y_pred)\n",
        "    print(f'Accuracy: {accuracy*100:.2f}%')\n",
        "    \n",
        "    # Plot ROC AUC\n",
        "    plt.title('Receiver Operating Characteristic')\n",
        "    plt.plot(fpr, tpr, 'b', label = 'AUC = %0.2f' % roc_auc)\n",
        "    plt.legend(loc = 'lower right')\n",
        "    plt.plot([0, 1], [0, 1],'r--')\n",
        "    plt.xlim([0, 1])\n",
        "    plt.ylim([0, 1])\n",
        "    plt.ylabel('True Positive Rate')\n",
        "    plt.xlabel('False Positive Rate')\n",
        "    plt.show()"
      ],
      "execution_count": null,
      "outputs": []
    },
    {
      "cell_type": "code",
      "metadata": {
        "id": "aUuZSjxjKnFR",
        "colab": {
          "base_uri": "https://localhost:8080/",
          "height": 329
        },
        "outputId": "952b3a73-ead3-489f-9cf7-278c54be6309"
      },
      "source": [
        "# Compute predicted probabilities\n",
        "nb_model = MultinomialNB(alpha=0.3)\n",
        "nb_model.fit(X_train_tfidf, Y_train)\n",
        "probs = nb_model.predict_proba(X_val_tfidf)\n",
        "\n",
        "# Evaluate the classifier\n",
        "evaluate_roc(probs, Y_val)"
      ],
      "execution_count": null,
      "outputs": [
        {
          "output_type": "stream",
          "text": [
            "AUC: 0.8882\n",
            "Accuracy: 79.00%\n"
          ],
          "name": "stdout"
        },
        {
          "output_type": "display_data",
          "data": {
            "image/png": "[encoded data removed]",
            "text/plain": [
              "<Figure size 432x288 with 1 Axes>"
            ]
          },
          "metadata": {
            "tags": [],
            "needs_background": "light"
          }
        }
      ]
    },
    {
      "cell_type": "code",
      "metadata": {
        "scrolled": true,
        "id": "XfiQWrjCKnFT",
        "colab": {
          "base_uri": "https://localhost:8080/",
          "height": 136
        },
        "outputId": "36155e7b-d4c2-4283-d05e-d4d2e5bf2b42"
      },
      "source": [
        "probs"
      ],
      "execution_count": null,
      "outputs": [
        {
          "output_type": "execute_result",
          "data": {
            "text/plain": [
              "array([[0.4624834 , 0.5375166 ],\n",
              "       [0.82314038, 0.17685962],\n",
              "       [0.04916936, 0.95083064],\n",
              "       ...,\n",
              "       [0.20025057, 0.79974943],\n",
              "       [0.22502338, 0.77497662],\n",
              "       [0.99043306, 0.00956694]])"
            ]
          },
          "metadata": {
            "tags": []
          },
          "execution_count": 14
        }
      ]
    },
    {
      "cell_type": "code",
      "metadata": {
        "id": "YL3orBdLKnFZ",
        "colab": {
          "base_uri": "https://localhost:8080/",
          "height": 34
        },
        "outputId": "b2fd892a-5e80-4553-b812-2e9ec4854bf7"
      },
      "source": [
        "X_val_tfidf.shape"
      ],
      "execution_count": null,
      "outputs": [
        {
          "output_type": "execute_result",
          "data": {
            "text/plain": [
              "(1000, 266854)"
            ]
          },
          "metadata": {
            "tags": []
          },
          "execution_count": 15
        }
      ]
    },
    {
      "cell_type": "code",
      "metadata": {
        "id": "oEmQnF_oKnFb",
        "colab": {
          "base_uri": "https://localhost:8080/",
          "height": 799
        },
        "outputId": "a9995efd-f5f9-48b1-e129-b509308c21a8"
      },
      "source": [
        "def probs_to_class(probs):\n",
        "    '''\n",
        "    input probabilty of each class \n",
        "    '''\n",
        "    preds = probs[:, 1]\n",
        "    y_pred = np.where(preds >= 0.5, 1, 0)\n",
        "    return y_pred\n",
        "y_pred=probs_to_class(probs)\n",
        "y_pred"
      ],
      "execution_count": null,
      "outputs": [
        {
          "output_type": "execute_result",
          "data": {
            "text/plain": [
              "array([1, 0, 1, 1, 0, 1, 1, 1, 1, 0, 0, 1, 1, 1, 0, 1, 1, 0, 0, 1, 1, 0,\n",
              "       1, 0, 0, 0, 0, 0, 1, 0, 1, 0, 0, 1, 1, 1, 0, 0, 1, 0, 0, 1, 1, 0,\n",
              "       0, 0, 1, 1, 0, 1, 0, 1, 0, 0, 1, 1, 1, 1, 1, 0, 0, 1, 0, 0, 0, 0,\n",
              "       0, 0, 1, 1, 0, 0, 1, 0, 1, 1, 1, 0, 0, 0, 1, 1, 1, 0, 1, 0, 0, 0,\n",
              "       1, 1, 1, 1, 1, 1, 1, 0, 1, 0, 1, 1, 1, 1, 0, 0, 1, 1, 0, 0, 0, 0,\n",
              "       1, 0, 1, 1, 0, 1, 1, 0, 0, 1, 0, 1, 1, 1, 0, 1, 1, 0, 0, 0, 0, 1,\n",
              "       1, 0, 1, 1, 1, 0, 0, 1, 1, 1, 0, 1, 1, 1, 1, 0, 0, 0, 0, 1, 0, 1,\n",
              "       1, 0, 1, 1, 0, 1, 0, 0, 1, 0, 0, 1, 1, 0, 1, 0, 1, 0, 1, 1, 0, 1,\n",
              "       1, 1, 0, 0, 0, 1, 0, 0, 1, 1, 1, 0, 1, 0, 0, 1, 1, 0, 1, 1, 1, 1,\n",
              "       1, 0, 0, 1, 1, 1, 0, 1, 0, 0, 1, 0, 1, 1, 0, 1, 0, 1, 1, 0, 1, 0,\n",
              "       1, 1, 0, 0, 0, 0, 0, 0, 1, 0, 1, 1, 0, 1, 1, 1, 1, 1, 1, 0, 1, 0,\n",
              "       0, 1, 0, 1, 1, 1, 1, 1, 0, 1, 0, 0, 1, 1, 1, 1, 0, 0, 1, 0, 1, 0,\n",
              "       1, 1, 1, 1, 0, 0, 1, 1, 1, 1, 0, 1, 0, 1, 1, 1, 1, 0, 0, 1, 0, 1,\n",
              "       0, 0, 1, 0, 1, 0, 1, 1, 1, 0, 0, 0, 0, 0, 0, 0, 1, 1, 1, 1, 0, 0,\n",
              "       0, 0, 0, 0, 1, 0, 0, 1, 1, 0, 1, 1, 0, 1, 1, 1, 1, 1, 0, 0, 1, 1,\n",
              "       0, 0, 0, 1, 1, 0, 1, 1, 0, 0, 1, 0, 1, 0, 1, 0, 1, 0, 1, 0, 0, 0,\n",
              "       1, 1, 1, 1, 1, 0, 1, 1, 0, 0, 1, 0, 1, 0, 0, 0, 1, 1, 1, 0, 0, 0,\n",
              "       0, 0, 0, 1, 0, 1, 0, 1, 1, 1, 0, 0, 1, 1, 1, 1, 0, 1, 1, 0, 0, 1,\n",
              "       1, 1, 0, 0, 0, 1, 1, 0, 0, 1, 0, 0, 1, 0, 1, 1, 0, 1, 1, 0, 0, 1,\n",
              "       1, 1, 0, 0, 1, 1, 1, 1, 1, 0, 0, 0, 1, 0, 1, 1, 1, 0, 0, 1, 0, 0,\n",
              "       1, 1, 1, 1, 0, 1, 0, 0, 1, 1, 1, 0, 1, 1, 0, 1, 1, 1, 0, 0, 1, 0,\n",
              "       1, 0, 1, 1, 0, 0, 0, 1, 0, 0, 1, 1, 1, 1, 0, 0, 0, 1, 0, 0, 0, 1,\n",
              "       1, 0, 0, 1, 1, 1, 1, 1, 1, 0, 0, 1, 1, 1, 1, 1, 0, 1, 0, 1, 1, 0,\n",
              "       1, 0, 0, 1, 0, 1, 1, 0, 1, 0, 0, 1, 1, 1, 1, 0, 1, 0, 0, 1, 0, 1,\n",
              "       0, 0, 1, 0, 1, 1, 1, 0, 1, 0, 1, 1, 0, 1, 0, 1, 0, 0, 0, 1, 1, 1,\n",
              "       0, 1, 1, 1, 1, 0, 1, 1, 1, 0, 1, 0, 0, 0, 0, 0, 1, 0, 1, 1, 1, 0,\n",
              "       1, 0, 0, 1, 0, 0, 1, 0, 0, 1, 0, 0, 0, 1, 1, 1, 1, 0, 0, 0, 1, 0,\n",
              "       0, 1, 1, 0, 1, 0, 0, 0, 0, 1, 0, 1, 1, 0, 1, 0, 0, 1, 0, 1, 1, 0,\n",
              "       1, 0, 0, 0, 0, 1, 0, 1, 0, 1, 1, 1, 1, 1, 1, 1, 1, 0, 1, 1, 0, 1,\n",
              "       1, 1, 0, 0, 0, 0, 0, 0, 0, 0, 0, 1, 0, 0, 1, 0, 1, 0, 1, 0, 0, 1,\n",
              "       0, 0, 1, 0, 1, 1, 1, 1, 0, 1, 0, 1, 0, 0, 0, 1, 1, 0, 1, 0, 1, 0,\n",
              "       0, 0, 1, 0, 1, 1, 0, 0, 1, 1, 1, 1, 0, 0, 0, 0, 1, 1, 1, 0, 1, 0,\n",
              "       1, 1, 0, 1, 0, 1, 0, 1, 0, 0, 0, 0, 1, 0, 1, 1, 0, 0, 1, 1, 1, 0,\n",
              "       0, 0, 1, 0, 0, 0, 0, 0, 0, 1, 1, 0, 0, 0, 1, 0, 0, 1, 0, 1, 1, 1,\n",
              "       0, 1, 1, 1, 1, 0, 1, 1, 0, 0, 1, 1, 0, 1, 1, 1, 0, 0, 0, 1, 0, 0,\n",
              "       0, 1, 0, 0, 0, 1, 0, 0, 1, 0, 0, 1, 0, 1, 0, 1, 0, 0, 0, 1, 0, 1,\n",
              "       0, 0, 1, 1, 0, 0, 0, 1, 1, 1, 1, 1, 0, 0, 0, 1, 1, 0, 1, 1, 1, 0,\n",
              "       1, 1, 1, 1, 1, 0, 0, 0, 1, 1, 1, 1, 1, 0, 1, 1, 1, 1, 1, 0, 1, 0,\n",
              "       0, 1, 1, 1, 1, 1, 0, 0, 0, 0, 1, 1, 1, 0, 0, 1, 1, 1, 0, 1, 0, 1,\n",
              "       1, 1, 0, 1, 1, 1, 0, 1, 0, 1, 0, 0, 0, 0, 1, 0, 0, 1, 0, 1, 0, 1,\n",
              "       1, 0, 1, 0, 0, 1, 1, 0, 1, 1, 1, 1, 0, 1, 1, 0, 1, 1, 1, 1, 0, 1,\n",
              "       1, 1, 1, 1, 0, 1, 1, 0, 1, 0, 0, 0, 0, 0, 1, 1, 1, 0, 0, 0, 1, 0,\n",
              "       1, 0, 1, 0, 1, 1, 1, 1, 0, 1, 0, 1, 1, 1, 0, 0, 1, 1, 1, 1, 1, 1,\n",
              "       0, 1, 1, 1, 0, 1, 0, 0, 0, 1, 1, 1, 1, 0, 1, 0, 0, 1, 0, 1, 0, 1,\n",
              "       0, 1, 1, 0, 0, 1, 1, 1, 1, 1, 1, 0, 1, 0, 1, 1, 0, 0, 0, 0, 1, 0,\n",
              "       0, 1, 1, 1, 0, 1, 0, 1, 1, 0])"
            ]
          },
          "metadata": {
            "tags": []
          },
          "execution_count": 16
        }
      ]
    },
    {
      "cell_type": "code",
      "metadata": {
        "id": "gp0SF8xwKnFd",
        "colab": {
          "base_uri": "https://localhost:8080/",
          "height": 170
        },
        "outputId": "5f926d56-543c-4461-b9d9-d0cc21f2ac7f"
      },
      "source": [
        "from sklearn.metrics import classification_report\n",
        "target_names = ['class 0', 'class 1']\n",
        "print(classification_report(Y_val, y_pred, target_names=target_names))"
      ],
      "execution_count": null,
      "outputs": [
        {
          "output_type": "stream",
          "text": [
            "              precision    recall  f1-score   support\n",
            "\n",
            "     class 0       0.78      0.77      0.78       472\n",
            "     class 1       0.80      0.81      0.80       528\n",
            "\n",
            "    accuracy                           0.79      1000\n",
            "   macro avg       0.79      0.79      0.79      1000\n",
            "weighted avg       0.79      0.79      0.79      1000\n",
            "\n"
          ],
          "name": "stdout"
        }
      ]
    },
    {
      "cell_type": "markdown",
      "metadata": {
        "id": "oM1ZPgz7KnFf"
      },
      "source": [
        "# now we try huggingface\n"
      ]
    },
    {
      "cell_type": "code",
      "metadata": {
        "id": "d1qn64QvKnFg"
      },
      "source": [
        "import pandas as pd\n",
        "import os\n",
        "import re\n",
        "def text_preprocessing(text):\n",
        "    \"\"\"\n",
        "    - Remove entity mentions (eg. '@united')\n",
        "    - Correct errors (eg. '&amp;' to '&')\n",
        "    @param    text (str): a string to be processed.\n",
        "    @return   text (Str): the processed string.\n",
        "    \"\"\"\n",
        "    # Remove '@name'\n",
        "    text = re.sub(r'(@.*?)[\\s]', ' ', text)\n",
        "\n",
        "    # Replace '&amp;' with '&'\n",
        "    text = re.sub(r'&amp;', '&', text)\n",
        "\n",
        "    # Remove trailing whitespace\n",
        "    text = re.sub(r'\\s+', ' ', text).strip()\n",
        "\n",
        "    return text"
      ],
      "execution_count": null,
      "outputs": []
    },
    {
      "cell_type": "code",
      "metadata": {
        "scrolled": true,
        "id": "4N3rUj_XKnFi"
      },
      "source": [
        "import torch\n",
        "from transformers import BertTokenizer\n",
        "\n",
        "# # Load the BERT tokenizer\n",
        "tokenizer = BertTokenizer.from_pretrained('bert-base-cased', do_lower_case=True)\n",
        "\n",
        "# Create a function to tokenize a set of texts\n",
        "def preprocessing_for_bert(data):\n",
        "    \"\"\"Perform required preprocessing steps for pretrained BERT.\n",
        "    @param    data (np.array): Array of texts to be processed.\n",
        "    @return   input_ids (torch.Tensor): Tensor of token ids to be fed to a model.\n",
        "    @return   attention_masks (torch.Tensor): Tensor of indices specifying which\n",
        "                  tokens should be attended to by the model.\n",
        "    \"\"\"\n",
        "    # Create empty lists to store outputs\n",
        "    input_ids = []\n",
        "    attention_masks = []\n",
        "\n",
        "    # For every sentence...\n",
        "    for sent in data:\n",
        "        # `encode_plus` will:\n",
        "        #    (1) Tokenize the sentence\n",
        "        #    (2) Add the `[CLS]` and `[SEP]` token to the start and end\n",
        "        #    (3) Truncate/Pad sentence to max length\n",
        "        #    (4) Map tokens to their IDs\n",
        "        #    (5) Create attention mask\n",
        "        #    (6) Return a dictionary of outputs\n",
        "        encoded_sent = tokenizer.encode_plus(\n",
        "            text=text_preprocessing(sent),  # Preprocess sentence\n",
        "            add_special_tokens=True,        # Add `[CLS]` and `[SEP]`\n",
        "            max_length=MAX_LEN,                  # Max length to truncate/pad\n",
        "            pad_to_max_length=True,         # Pad sentence to max length\n",
        "            #return_tensors='pt',           # Return PyTorch tensor\n",
        "            return_attention_mask=True ,     # Return attention mask\n",
        "            truncation=True\n",
        "            )\n",
        "        \n",
        "        # Add the outputs to the lists\n",
        "        input_ids.append(encoded_sent.get('input_ids'))\n",
        "        attention_masks.append(encoded_sent.get('attention_mask'))\n",
        "\n",
        "    # Convert lists to tensors\n",
        "    input_ids = torch.tensor(input_ids)\n",
        "    attention_masks = torch.tensor(attention_masks)\n",
        "\n",
        "    return input_ids, attention_masks"
      ],
      "execution_count": null,
      "outputs": []
    },
    {
      "cell_type": "code",
      "metadata": {
        "id": "S5d_ozq3KnFl",
        "colab": {
          "base_uri": "https://localhost:8080/",
          "height": 136
        },
        "outputId": "5ea7dbcd-59d6-49a1-f811-e82046b8db9f"
      },
      "source": [
        "all_tweets = np.concatenate([X_train, X_val])\n",
        "encoded_tweets = [tokenizer.encode(sent, add_special_tokens=True) for sent in all_tweets]\n",
        "print(len(encoded_tweets))\n",
        "# Find the maximum length\n",
        "max_len = max([len(sent) for sent in encoded_tweets])\n",
        "print('Max length: ', max_len)\n",
        "all_tweets.shape"
      ],
      "execution_count": null,
      "outputs": [
        {
          "output_type": "stream",
          "text": [
            "Token indices sequence length is longer than the specified maximum sequence length for this model (1188 > 512). Running this sequence through the model will result in indexing errors\n",
            "Token indices sequence length is longer than the specified maximum sequence length for this model (1307 > 512). Running this sequence through the model will result in indexing errors\n",
            "Token indices sequence length is longer than the specified maximum sequence length for this model (1608 > 512). Running this sequence through the model will result in indexing errors\n",
            "Token indices sequence length is longer than the specified maximum sequence length for this model (703 > 512). Running this sequence through the model will result in indexing errors\n"
          ],
          "name": "stderr"
        },
        {
          "output_type": "stream",
          "text": [
            "7936\n",
            "Max length:  1610\n"
          ],
          "name": "stdout"
        },
        {
          "output_type": "execute_result",
          "data": {
            "text/plain": [
              "(7936,)"
            ]
          },
          "metadata": {
            "tags": []
          },
          "execution_count": 20
        }
      ]
    },
    {
      "cell_type": "code",
      "metadata": {
        "id": "Yaayv201o4FR"
      },
      "source": [
        ""
      ],
      "execution_count": null,
      "outputs": []
    },
    {
      "cell_type": "code",
      "metadata": {
        "id": "h0hz2ABHKnFn",
        "colab": {
          "base_uri": "https://localhost:8080/",
          "height": 105
        },
        "outputId": "6a8b5a63-83c8-49a3-acd0-7f9a42ab4a50"
      },
      "source": [
        "MAX_LEN=150\n",
        "token_ids = list(preprocessing_for_bert([X_train[0]])[0].squeeze().numpy())\n",
        "print('Original: ', X_train[0])\n",
        "print('Token IDs: ', token_ids)\n",
        "\n",
        "# Run function `preprocessing_for_bert` on the train set and the validation set\n",
        "print('Tokenizing data...')\n",
        "train_inputs, train_masks = preprocessing_for_bert(X_train)\n",
        "val_inputs, val_masks = preprocessing_for_bert(X_val)\n",
        "val_masks.dtype\n"
      ],
      "execution_count": null,
      "outputs": [
        {
          "output_type": "stream",
          "text": [
            "Original:  Official death toll from #covid19 in the United Kingdom is now GREATER than: Germany + Poland + Switzerland + Austria + Portugal + Greece + Sweden + Finland + Norway + Ireland... COMBINED. UK: 67.5 Million (233 dead) Above group: 185 Million (230 dead) HTTPURL\n",
            "Token IDs:  [101, 2078, 1473, 10484, 1121, 108, 1884, 18312, 16382, 1107, 1103, 10280, 6139, 1110, 1208, 3407, 1190, 131, 176, 14170, 1183, 116, 185, 5326, 3276, 116, 188, 15648, 23921, 116, 12686, 2050, 3464, 116, 4104, 15650, 1233, 116, 176, 8871, 2093, 116, 188, 11547, 1424, 116, 15301, 1931, 116, 4040, 2787, 116, 178, 9261, 5709, 119, 119, 119, 3490, 119, 26006, 131, 5486, 119, 126, 1550, 113, 24482, 2044, 114, 1807, 1372, 131, 16183, 1550, 113, 11866, 2044, 114, 8413, 2149, 1233, 102, 0, 0, 0, 0, 0, 0, 0, 0, 0, 0, 0, 0, 0, 0, 0, 0, 0, 0, 0, 0, 0, 0, 0, 0, 0, 0, 0, 0, 0, 0, 0, 0, 0, 0, 0, 0, 0, 0, 0, 0, 0, 0, 0, 0, 0, 0, 0, 0, 0, 0, 0, 0, 0, 0, 0, 0, 0, 0, 0, 0, 0, 0, 0, 0, 0, 0, 0]\n",
            "Tokenizing data...\n"
          ],
          "name": "stdout"
        },
        {
          "output_type": "execute_result",
          "data": {
            "text/plain": [
              "torch.int64"
            ]
          },
          "metadata": {
            "tags": []
          },
          "execution_count": 30
        }
      ]
    },
    {
      "cell_type": "code",
      "metadata": {
        "id": "eRKxy9R_KnFp",
        "colab": {
          "base_uri": "https://localhost:8080/",
          "height": 34
        },
        "outputId": "3ef1ca03-a1ee-430d-e8b0-8b348bd5b713"
      },
      "source": [
        "Y_train"
      ],
      "execution_count": null,
      "outputs": [
        {
          "output_type": "execute_result",
          "data": {
            "text/plain": [
              "array([0, 0, 0, ..., 1, 1, 1])"
            ]
          },
          "metadata": {
            "tags": []
          },
          "execution_count": 31
        }
      ]
    },
    {
      "cell_type": "code",
      "metadata": {
        "id": "0p8oD3-rKnFr"
      },
      "source": [
        "from torch.utils.data import TensorDataset, DataLoader, RandomSampler, SequentialSampler\n",
        "\n",
        "# Convert other data types to torch.Tensor\n",
        "train_labels = torch.tensor(Y_train)\n",
        "val_labels = torch.tensor(Y_val)\n",
        "\n",
        "# For fine-tuning BERT, the authors recommend a batch size of 16 or 32.\n",
        "batch_size = 32\n",
        "\n",
        "# Create the DataLoader for our training set\n",
        "train_data = TensorDataset(train_inputs, train_masks, train_labels)\n",
        "train_sampler = RandomSampler(train_data)\n",
        "train_dataloader = DataLoader(train_data, sampler=train_sampler, batch_size=batch_size)\n",
        "\n",
        "# Create the DataLoader for our validation set\n",
        "val_data = TensorDataset(val_inputs, val_masks, val_labels)\n",
        "val_sampler = SequentialSampler(val_data)\n",
        "val_dataloader = DataLoader(val_data, sampler=val_sampler, batch_size=batch_size)"
      ],
      "execution_count": null,
      "outputs": []
    },
    {
      "cell_type": "code",
      "metadata": {
        "id": "1jbFtsCmKnFt",
        "colab": {
          "base_uri": "https://localhost:8080/",
          "height": 51
        },
        "outputId": "6abab379-30ef-4b80-f362-1737539e010d"
      },
      "source": [
        "print(train_labels.dtype)\n",
        "print(val_labels.dtype)\n",
        "# # print(train_data.dtype)\n",
        "# # print(train_sampler.dtype)\n",
        "# # print(train_dataloader.dtype)\n",
        "# # print(val_data.dtype)\n",
        "# # print(val_sampler.dtype)\n",
        "# print(val_dataloader.dtype)"
      ],
      "execution_count": null,
      "outputs": [
        {
          "output_type": "stream",
          "text": [
            "torch.int64\n",
            "torch.int64\n"
          ],
          "name": "stdout"
        }
      ]
    },
    {
      "cell_type": "code",
      "metadata": {
        "id": "Ew8CLyx7KnFv",
        "colab": {
          "base_uri": "https://localhost:8080/",
          "height": 51
        },
        "outputId": "c976efdd-cc84-4d73-db6a-cdd029175ca7"
      },
      "source": [
        "%%time\n",
        "import torch\n",
        "import torch.nn as nn\n",
        "from transformers import BertModel\n",
        "\n",
        "# Create the BertClassfier class\n",
        "class BertClassifier(nn.Module):\n",
        "    \"\"\"Bert Model for Classification Tasks.\n",
        "    \"\"\"\n",
        "    def __init__(self, freeze_bert=False):\n",
        "        \"\"\"\n",
        "        @param    bert: a BertModel object\n",
        "        @param    classifier: a torch.nn.Module classifier\n",
        "        @param    freeze_bert (bool): Set `False` to fine-tune the BERT model\n",
        "        \"\"\"\n",
        "        super(BertClassifier, self).__init__()\n",
        "        # Specify hidden size of BERT, hidden size of our classifier, and number of labels\n",
        "        D_in, H, D_out = 768, 50, 2\n",
        "\n",
        "        # Instantiate BERT model\n",
        "        self.bert = BertModel.from_pretrained('bert-base-uncased')\n",
        "\n",
        "        # Instantiate an one-layer feed-forward classifier\n",
        "        self.classifier = nn.Sequential(\n",
        "            nn.Linear(D_in, H),\n",
        "            nn.ReLU(),\n",
        "            #nn.Dropout(0.5),\n",
        "            nn.Linear(H, D_out)\n",
        "        )\n",
        "\n",
        "        # Freeze the BERT model\n",
        "        if freeze_bert:\n",
        "            for param in self.bert.parameters():\n",
        "                param.requires_grad = False\n",
        "        \n",
        "    def forward(self, input_ids, attention_mask):\n",
        "        \"\"\"\n",
        "        Feed input to BERT and the classifier to compute logits.\n",
        "        @param    input_ids (torch.Tensor): an input tensor with shape (batch_size,\n",
        "                      max_length)\n",
        "        @param    attention_mask (torch.Tensor): a tensor that hold attention mask\n",
        "                      information with shape (batch_size, max_length)\n",
        "        @return   logits (torch.Tensor): an output tensor with shape (batch_size,\n",
        "                      num_labels)\n",
        "        \"\"\"\n",
        "        # Feed input to BERT\n",
        "        outputs = self.bert(input_ids=input_ids,\n",
        "                            attention_mask=attention_mask)\n",
        "        \n",
        "        # Extract the last hidden state of the token `[CLS]` for classification task\n",
        "        last_hidden_state_cls = outputs[0][:, 0, :]\n",
        "\n",
        "        # Feed input to classifier to compute logits\n",
        "        logits = self.classifier(last_hidden_state_cls)\n",
        "\n",
        "        return logits"
      ],
      "execution_count": null,
      "outputs": [
        {
          "output_type": "stream",
          "text": [
            "CPU times: user 67 µs, sys: 4 µs, total: 71 µs\n",
            "Wall time: 76.5 µs\n"
          ],
          "name": "stdout"
        }
      ]
    },
    {
      "cell_type": "code",
      "metadata": {
        "id": "cSb7zb7uKnFx"
      },
      "source": [
        "from transformers import AdamW, get_linear_schedule_with_warmup\n",
        "\n",
        "def initialize_model(epochs=4):\n",
        "    \"\"\"Initialize the Bert Classifier, the optimizer and the learning rate scheduler.\n",
        "    \"\"\"\n",
        "    # Instantiate Bert Classifier\n",
        "    bert_classifier = BertClassifier(freeze_bert=False)\n",
        "\n",
        "    # Tell PyTorch to run the model on GPU\n",
        "    bert_classifier.to(device)\n",
        "\n",
        "    # Create the optimizer\n",
        "    optimizer = AdamW(bert_classifier.parameters(),\n",
        "                      lr=5e-5,    # Default learning rate\n",
        "                      eps=1e-8    # Default epsilon value\n",
        "                      )\n",
        "\n",
        "    # Total number of training steps\n",
        "    total_steps = len(train_dataloader) * epochs\n",
        "\n",
        "    # Set up the learning rate scheduler\n",
        "    scheduler = get_linear_schedule_with_warmup(optimizer,\n",
        "                                                num_warmup_steps=0, # Default value\n",
        "                                                num_training_steps=total_steps)\n",
        "    return bert_classifier, optimizer, scheduler"
      ],
      "execution_count": null,
      "outputs": []
    },
    {
      "cell_type": "code",
      "metadata": {
        "id": "JwbCy68yKnFz"
      },
      "source": [
        "import random\n",
        "import time\n",
        "\n",
        "# Specify loss function\n",
        "loss_fn = nn.CrossEntropyLoss()\n",
        "\n",
        "def set_seed(seed_value=42):\n",
        "    \"\"\"Set seed for reproducibility.\n",
        "    \"\"\"\n",
        "    random.seed(seed_value)\n",
        "    np.random.seed(seed_value)\n",
        "    torch.manual_seed(seed_value)\n",
        "    torch.cuda.manual_seed_all(seed_value)\n",
        "\n",
        "def train(model, train_dataloader, val_dataloader=None, epochs=4, evaluation=False):\n",
        "    \"\"\"Train the BertClassifier model.\n",
        "    \"\"\"\n",
        "    # Start training loop\n",
        "    print(\"Start training...\\n\")\n",
        "    for epoch_i in range(epochs):\n",
        "        # =======================================\n",
        "        #               Training\n",
        "        # =======================================\n",
        "        # Print the header of the result table\n",
        "        print(f\"{'Epoch':^7} | {'Batch':^7} | {'Train Loss':^12} | {'Val Loss':^10} | {'Val Acc':^9} | {'Elapsed':^9}\")\n",
        "        print(\"-\"*70)\n",
        "\n",
        "        # Measure the elapsed time of each epoch\n",
        "        t0_epoch, t0_batch = time.time(), time.time()\n",
        "\n",
        "        # Reset tracking variables at the beginning of each epoch\n",
        "        total_loss, batch_loss, batch_counts = 0, 0, 0\n",
        "\n",
        "        # Put the model into the training mode\n",
        "        model.train()\n",
        "\n",
        "        # For each batch of training data...\n",
        "        for step, batch in enumerate(train_dataloader):\n",
        "            batch_counts +=1\n",
        "            # Load batch to GPU\n",
        "            b_input_ids, b_attn_mask, b_labels = tuple(t.to(device) for t in batch)\n",
        "\n",
        "            # Zero out any previously calculated gradients\n",
        "            model.zero_grad()\n",
        "\n",
        "            # Perform a forward pass. This will return logits.\n",
        "            logits = model(b_input_ids, b_attn_mask)\n",
        "\n",
        "            # Compute loss and accumulate the loss values\n",
        "            #print(b_labels)\n",
        "            #print(logits)\n",
        "            loss = loss_fn(logits, b_labels)\n",
        "            batch_loss += loss.item()\n",
        "            total_loss += loss.item()\n",
        "\n",
        "            # Perform a backward pass to calculate gradients\n",
        "            loss.backward()\n",
        "\n",
        "            # Clip the norm of the gradients to 1.0 to prevent \"exploding gradients\"\n",
        "            torch.nn.utils.clip_grad_norm_(model.parameters(), 1.0)\n",
        "\n",
        "            # Update parameters and the learning rate\n",
        "            optimizer.step()\n",
        "            scheduler.step()\n",
        "\n",
        "            # Print the loss values and time elapsed for every 20 batches\n",
        "            if (step % 20 == 0 and step != 0) or (step == len(train_dataloader) - 1):\n",
        "                # Calculate time elapsed for 20 batches\n",
        "                time_elapsed = time.time() - t0_batch\n",
        "\n",
        "                # Print training results\n",
        "                print(f\"{epoch_i + 1:^7} | {step:^7} | {batch_loss / batch_counts:^12.6f} | {'-':^10} | {'-':^9} | {time_elapsed:^9.2f}\")\n",
        "\n",
        "                # Reset batch tracking variables\n",
        "                batch_loss, batch_counts = 0, 0\n",
        "                t0_batch = time.time()\n",
        "\n",
        "        # Calculate the average loss over the entire training data\n",
        "        avg_train_loss = total_loss / len(train_dataloader)\n",
        "\n",
        "        print(\"-\"*70)\n",
        "        # =======================================\n",
        "        #               Evaluation\n",
        "        # =======================================\n",
        "        if evaluation == True:\n",
        "            # After the completion of each training epoch, measure the model's performance\n",
        "            # on our validation set.\n",
        "            val_loss, val_accuracy = evaluate(model, val_dataloader)\n",
        "\n",
        "            # Print performance over the entire training data\n",
        "            time_elapsed = time.time() - t0_epoch\n",
        "            \n",
        "            print(f\"{epoch_i + 1:^7} | {'-':^7} | {avg_train_loss:^12.6f} | {val_loss:^10.6f} | {val_accuracy:^9.2f} | {time_elapsed:^9.2f}\")\n",
        "            print(\"-\"*70)\n",
        "        print(\"\\n\")\n",
        "    \n",
        "    print(\"Training complete!\")\n",
        "\n",
        "\n",
        "def evaluate(model, val_dataloader):\n",
        "    \"\"\"After the completion of each training epoch, measure the model's performance\n",
        "    on our validation set.\n",
        "    \"\"\"\n",
        "    # Put the model into the evaluation mode. The dropout layers are disabled during\n",
        "    # the test time.\n",
        "    model.eval()\n",
        "\n",
        "    # Tracking variables\n",
        "    val_accuracy = []\n",
        "    val_loss = []\n",
        "\n",
        "    # For each batch in our validation set...\n",
        "    for batch in val_dataloader:\n",
        "        # Load batch to GPU\n",
        "        b_input_ids, b_attn_mask, b_labels = tuple(t.to(device) for t in batch)\n",
        "\n",
        "        # Compute logits\n",
        "        with torch.no_grad():\n",
        "            logits = model(b_input_ids, b_attn_mask)\n",
        "\n",
        "        # Compute loss\n",
        "#         print(b_labels)\n",
        "        loss = loss_fn(logits, b_labels)\n",
        "        val_loss.append(loss.item())\n",
        "\n",
        "        # Get the predictions\n",
        "        preds = torch.argmax(logits, dim=1).flatten()\n",
        "\n",
        "        # Calculate the accuracy rate\n",
        "        accuracy = (preds == b_labels).cpu().numpy().mean() * 100\n",
        "        val_accuracy.append(accuracy)\n",
        "\n",
        "    # Compute the average accuracy and loss over the validation set.\n",
        "    val_loss = np.mean(val_loss)\n",
        "    val_accuracy = np.mean(val_accuracy)\n",
        "\n",
        "    return val_loss, val_accuracy"
      ],
      "execution_count": null,
      "outputs": []
    },
    {
      "cell_type": "code",
      "metadata": {
        "id": "T4KjybmAKnF1",
        "colab": {
          "base_uri": "https://localhost:8080/",
          "height": 51
        },
        "outputId": "ccd4fbe1-9c9a-4306-f440-a3a514c806e3"
      },
      "source": [
        "import torch\n",
        "\n",
        "if torch.cuda.is_available():       \n",
        "    device = torch.device(\"cuda\")\n",
        "    print(f'There are {torch.cuda.device_count()} GPU(s) available.')\n",
        "    print('Device name:', torch.cuda.get_device_name(0))\n",
        "\n",
        "else:\n",
        "    print('No GPU available, using the CPU instead.')\n",
        "    device = torch.device(\"cpu\")"
      ],
      "execution_count": null,
      "outputs": [
        {
          "output_type": "stream",
          "text": [
            "There are 1 GPU(s) available.\n",
            "Device name: Tesla P100-PCIE-16GB\n"
          ],
          "name": "stdout"
        }
      ]
    },
    {
      "cell_type": "code",
      "metadata": {
        "scrolled": true,
        "id": "2_fY1jwsKnF4",
        "colab": {
          "base_uri": "https://localhost:8080/",
          "height": 1000
        },
        "outputId": "40333430-e177-46f7-b50e-9a458d410ed6"
      },
      "source": [
        "set_seed(42)    # Set seed for reproducibility\n",
        "bert_classifier, optimizer, scheduler = initialize_model(epochs=10)\n",
        "train(bert_classifier, train_dataloader, val_dataloader, epochs=10, evaluation=True)"
      ],
      "execution_count": null,
      "outputs": [
        {
          "output_type": "stream",
          "text": [
            "Start training...\n",
            "\n",
            " Epoch  |  Batch  |  Train Loss  |  Val Loss  |  Val Acc  |  Elapsed \n",
            "----------------------------------------------------------------------\n",
            "   1    |   20    |   0.699027   |     -      |     -     |   10.18  \n",
            "   1    |   40    |   0.692305   |     -      |     -     |   9.50   \n",
            "   1    |   60    |   0.677649   |     -      |     -     |   9.50   \n",
            "   1    |   80    |   0.590603   |     -      |     -     |   9.53   \n",
            "   1    |   100   |   0.597295   |     -      |     -     |   9.53   \n",
            "   1    |   120   |   0.527473   |     -      |     -     |   9.52   \n",
            "   1    |   140   |   0.534812   |     -      |     -     |   9.53   \n",
            "   1    |   160   |   0.486553   |     -      |     -     |   9.53   \n",
            "   1    |   180   |   0.443943   |     -      |     -     |   9.51   \n",
            "   1    |   200   |   0.512106   |     -      |     -     |   9.54   \n",
            "   1    |   216   |   0.536313   |     -      |     -     |   7.52   \n",
            "----------------------------------------------------------------------\n",
            "   1    |    -    |   0.573804   |  0.547373  |   75.29   |  108.37  \n",
            "----------------------------------------------------------------------\n",
            "\n",
            "\n",
            " Epoch  |  Batch  |  Train Loss  |  Val Loss  |  Val Acc  |  Elapsed \n",
            "----------------------------------------------------------------------\n",
            "   2    |   20    |   0.395019   |     -      |     -     |   10.02  \n",
            "   2    |   40    |   0.346649   |     -      |     -     |   9.53   \n",
            "   2    |   60    |   0.409771   |     -      |     -     |   9.52   \n",
            "   2    |   80    |   0.321643   |     -      |     -     |   9.52   \n",
            "   2    |   100   |   0.371711   |     -      |     -     |   9.53   \n",
            "   2    |   120   |   0.380412   |     -      |     -     |   9.52   \n",
            "   2    |   140   |   0.349008   |     -      |     -     |   9.52   \n",
            "   2    |   160   |   0.391713   |     -      |     -     |   9.52   \n",
            "   2    |   180   |   0.357710   |     -      |     -     |   9.52   \n",
            "   2    |   200   |   0.321090   |     -      |     -     |   9.52   \n",
            "   2    |   216   |   0.322635   |     -      |     -     |   7.51   \n",
            "----------------------------------------------------------------------\n",
            "   2    |    -    |   0.361528   |  0.552884  |   78.42   |  108.18  \n",
            "----------------------------------------------------------------------\n",
            "\n",
            "\n",
            " Epoch  |  Batch  |  Train Loss  |  Val Loss  |  Val Acc  |  Elapsed \n",
            "----------------------------------------------------------------------\n",
            "   3    |   20    |   0.320817   |     -      |     -     |   9.99   \n",
            "   3    |   40    |   0.275162   |     -      |     -     |   9.54   \n",
            "   3    |   60    |   0.262331   |     -      |     -     |   9.53   \n",
            "   3    |   80    |   0.278154   |     -      |     -     |   9.51   \n",
            "   3    |   100   |   0.240876   |     -      |     -     |   9.53   \n",
            "   3    |   120   |   0.216401   |     -      |     -     |   9.53   \n",
            "   3    |   140   |   0.251476   |     -      |     -     |   9.51   \n",
            "   3    |   160   |   0.241712   |     -      |     -     |   9.52   \n",
            "   3    |   180   |   0.225071   |     -      |     -     |   9.53   \n",
            "   3    |   200   |   0.269229   |     -      |     -     |   9.53   \n",
            "   3    |   216   |   0.266493   |     -      |     -     |   7.52   \n",
            "----------------------------------------------------------------------\n",
            "   3    |    -    |   0.259029   |  0.407156  |   81.64   |  108.20  \n",
            "----------------------------------------------------------------------\n",
            "\n",
            "\n",
            " Epoch  |  Batch  |  Train Loss  |  Val Loss  |  Val Acc  |  Elapsed \n",
            "----------------------------------------------------------------------\n",
            "   4    |   20    |   0.179618   |     -      |     -     |   10.01  \n",
            "   4    |   40    |   0.191668   |     -      |     -     |   9.51   \n",
            "   4    |   60    |   0.212915   |     -      |     -     |   9.52   \n",
            "   4    |   80    |   0.169275   |     -      |     -     |   9.50   \n",
            "   4    |   100   |   0.162088   |     -      |     -     |   9.51   \n",
            "   4    |   120   |   0.163450   |     -      |     -     |   9.52   \n",
            "   4    |   140   |   0.160894   |     -      |     -     |   9.51   \n",
            "   4    |   160   |   0.163146   |     -      |     -     |   9.52   \n",
            "   4    |   180   |   0.179476   |     -      |     -     |   9.52   \n",
            "   4    |   200   |   0.208504   |     -      |     -     |   9.51   \n",
            "   4    |   216   |   0.190662   |     -      |     -     |   7.51   \n",
            "----------------------------------------------------------------------\n",
            "   4    |    -    |   0.179958   |  0.617935  |   80.57   |  108.12  \n",
            "----------------------------------------------------------------------\n",
            "\n",
            "\n",
            " Epoch  |  Batch  |  Train Loss  |  Val Loss  |  Val Acc  |  Elapsed \n",
            "----------------------------------------------------------------------\n",
            "   5    |   20    |   0.151574   |     -      |     -     |   10.00  \n",
            "   5    |   40    |   0.134008   |     -      |     -     |   9.52   \n",
            "   5    |   60    |   0.148924   |     -      |     -     |   9.55   \n",
            "   5    |   80    |   0.164551   |     -      |     -     |   9.52   \n"
          ],
          "name": "stdout"
        }
      ]
    },
    {
      "cell_type": "code",
      "metadata": {
        "id": "Wo44FHarKnF5"
      },
      "source": [
        "import torch.nn.functional as F\n",
        "\n",
        "def bert_predict(model, test_dataloader):\n",
        "    \"\"\"Perform a forward pass on the trained BERT model to predict probabilities\n",
        "    on the test set.\n",
        "    \"\"\"\n",
        "    # Put the model into the evaluation mode. The dropout layers are disabled during\n",
        "    # the test time.\n",
        "    model.eval()\n",
        "\n",
        "    all_logits = []\n",
        "\n",
        "    # For each batch in our test set...\n",
        "    for batch in test_dataloader:\n",
        "        # Load batch to GPU\n",
        "        b_input_ids, b_attn_mask = tuple(t.to(device) for t in batch)[:2]\n",
        "\n",
        "        # Compute logits\n",
        "        with torch.no_grad():\n",
        "            logits = model(b_input_ids, b_attn_mask)\n",
        "        all_logits.append(logits)\n",
        "    \n",
        "    # Concatenate logits from each batch\n",
        "    all_logits = torch.cat(all_logits, dim=0)\n",
        "\n",
        "    # Apply softmax to calculate probabilities\n",
        "    probs = F.softmax(all_logits, dim=1).cpu().numpy()\n",
        "\n",
        "    return probs"
      ],
      "execution_count": null,
      "outputs": []
    },
    {
      "cell_type": "code",
      "metadata": {
        "id": "bddt4hlXe_X2"
      },
      "source": [
        "# Compute predicted probabilities on the test set\n",
        "probs = bert_predict(bert_classifier, val_dataloader)\n",
        "\n",
        "# Evaluate the Bert classifier\n",
        "evaluate_roc(probs, Y_val)"
      ],
      "execution_count": null,
      "outputs": []
    },
    {
      "cell_type": "markdown",
      "metadata": {
        "id": "T0WKLiFOvb5w"
      },
      "source": [
        "# more classical approches\n"
      ]
    },
    {
      "cell_type": "markdown",
      "metadata": {
        "id": "WYgwqMmLyGwl"
      },
      "source": [
        "##with tfidf"
      ]
    },
    {
      "cell_type": "markdown",
      "metadata": {
        "id": "gs5X6zl6yLsZ"
      },
      "source": [
        "###decision tree"
      ]
    },
    {
      "cell_type": "code",
      "metadata": {
        "id": "ckNZxf_kvpFd",
        "colab": {
          "base_uri": "https://localhost:8080/",
          "height": 443
        },
        "outputId": "442fec34-5c79-45b2-c84a-71b0f7d95a3e"
      },
      "source": [
        "%%time\n",
        "from sklearn import tree\n",
        "\n",
        "clf = tree.DecisionTreeClassifier()\n",
        "clf=clf.fit(X_train_tfidf,Y_train)\n",
        "probsdt = clf.predict_proba(X_val_tfidf)\n",
        "\n",
        "# Evaluate the classifier\n",
        "evaluate_roc(probsdt, Y_val)\n"
      ],
      "execution_count": null,
      "outputs": [
        {
          "output_type": "error",
          "ename": "NameError",
          "evalue": "ignored",
          "traceback": [
            "\u001b[0;31m---------------------------------------------------------------------------\u001b[0m",
            "\u001b[0;31mNameError\u001b[0m                                 Traceback (most recent call last)",
            "\u001b[0;32m<ipython-input-7-3c6e6ab67f25>\u001b[0m in \u001b[0;36m<module>\u001b[0;34m()\u001b[0m\n\u001b[0;32m----> 1\u001b[0;31m \u001b[0mget_ipython\u001b[0m\u001b[0;34m(\u001b[0m\u001b[0;34m)\u001b[0m\u001b[0;34m.\u001b[0m\u001b[0mrun_cell_magic\u001b[0m\u001b[0;34m(\u001b[0m\u001b[0;34m'time'\u001b[0m\u001b[0;34m,\u001b[0m \u001b[0;34m''\u001b[0m\u001b[0;34m,\u001b[0m \u001b[0;34m'from sklearn import tree\\n\\nclf = tree.DecisionTreeClassifier()\\nclf=clf.fit(X_train_tfidf,Y_train)\\nprobsdt = clf.predict_proba(X_val_tfidf)\\n\\n# Evaluate the classifier\\nevaluate_roc(probsdt, Y_val)'\u001b[0m\u001b[0;34m)\u001b[0m\u001b[0;34m\u001b[0m\u001b[0;34m\u001b[0m\u001b[0m\n\u001b[0m",
            "\u001b[0;32m/usr/local/lib/python3.6/dist-packages/IPython/core/interactiveshell.py\u001b[0m in \u001b[0;36mrun_cell_magic\u001b[0;34m(self, magic_name, line, cell)\u001b[0m\n\u001b[1;32m   2115\u001b[0m             \u001b[0mmagic_arg_s\u001b[0m \u001b[0;34m=\u001b[0m \u001b[0mself\u001b[0m\u001b[0;34m.\u001b[0m\u001b[0mvar_expand\u001b[0m\u001b[0;34m(\u001b[0m\u001b[0mline\u001b[0m\u001b[0;34m,\u001b[0m \u001b[0mstack_depth\u001b[0m\u001b[0;34m)\u001b[0m\u001b[0;34m\u001b[0m\u001b[0;34m\u001b[0m\u001b[0m\n\u001b[1;32m   2116\u001b[0m             \u001b[0;32mwith\u001b[0m \u001b[0mself\u001b[0m\u001b[0;34m.\u001b[0m\u001b[0mbuiltin_trap\u001b[0m\u001b[0;34m:\u001b[0m\u001b[0;34m\u001b[0m\u001b[0;34m\u001b[0m\u001b[0m\n\u001b[0;32m-> 2117\u001b[0;31m                 \u001b[0mresult\u001b[0m \u001b[0;34m=\u001b[0m \u001b[0mfn\u001b[0m\u001b[0;34m(\u001b[0m\u001b[0mmagic_arg_s\u001b[0m\u001b[0;34m,\u001b[0m \u001b[0mcell\u001b[0m\u001b[0;34m)\u001b[0m\u001b[0;34m\u001b[0m\u001b[0;34m\u001b[0m\u001b[0m\n\u001b[0m\u001b[1;32m   2118\u001b[0m             \u001b[0;32mreturn\u001b[0m \u001b[0mresult\u001b[0m\u001b[0;34m\u001b[0m\u001b[0;34m\u001b[0m\u001b[0m\n\u001b[1;32m   2119\u001b[0m \u001b[0;34m\u001b[0m\u001b[0m\n",
            "\u001b[0;32m<decorator-gen-60>\u001b[0m in \u001b[0;36mtime\u001b[0;34m(self, line, cell, local_ns)\u001b[0m\n",
            "\u001b[0;32m/usr/local/lib/python3.6/dist-packages/IPython/core/magic.py\u001b[0m in \u001b[0;36m<lambda>\u001b[0;34m(f, *a, **k)\u001b[0m\n\u001b[1;32m    186\u001b[0m     \u001b[0;31m# but it's overkill for just that one bit of state.\u001b[0m\u001b[0;34m\u001b[0m\u001b[0;34m\u001b[0m\u001b[0;34m\u001b[0m\u001b[0m\n\u001b[1;32m    187\u001b[0m     \u001b[0;32mdef\u001b[0m \u001b[0mmagic_deco\u001b[0m\u001b[0;34m(\u001b[0m\u001b[0marg\u001b[0m\u001b[0;34m)\u001b[0m\u001b[0;34m:\u001b[0m\u001b[0;34m\u001b[0m\u001b[0;34m\u001b[0m\u001b[0m\n\u001b[0;32m--> 188\u001b[0;31m         \u001b[0mcall\u001b[0m \u001b[0;34m=\u001b[0m \u001b[0;32mlambda\u001b[0m \u001b[0mf\u001b[0m\u001b[0;34m,\u001b[0m \u001b[0;34m*\u001b[0m\u001b[0ma\u001b[0m\u001b[0;34m,\u001b[0m \u001b[0;34m**\u001b[0m\u001b[0mk\u001b[0m\u001b[0;34m:\u001b[0m \u001b[0mf\u001b[0m\u001b[0;34m(\u001b[0m\u001b[0;34m*\u001b[0m\u001b[0ma\u001b[0m\u001b[0;34m,\u001b[0m \u001b[0;34m**\u001b[0m\u001b[0mk\u001b[0m\u001b[0;34m)\u001b[0m\u001b[0;34m\u001b[0m\u001b[0;34m\u001b[0m\u001b[0m\n\u001b[0m\u001b[1;32m    189\u001b[0m \u001b[0;34m\u001b[0m\u001b[0m\n\u001b[1;32m    190\u001b[0m         \u001b[0;32mif\u001b[0m \u001b[0mcallable\u001b[0m\u001b[0;34m(\u001b[0m\u001b[0marg\u001b[0m\u001b[0;34m)\u001b[0m\u001b[0;34m:\u001b[0m\u001b[0;34m\u001b[0m\u001b[0;34m\u001b[0m\u001b[0m\n",
            "\u001b[0;32m/usr/local/lib/python3.6/dist-packages/IPython/core/magics/execution.py\u001b[0m in \u001b[0;36mtime\u001b[0;34m(self, line, cell, local_ns)\u001b[0m\n\u001b[1;32m   1191\u001b[0m         \u001b[0;32melse\u001b[0m\u001b[0;34m:\u001b[0m\u001b[0;34m\u001b[0m\u001b[0;34m\u001b[0m\u001b[0m\n\u001b[1;32m   1192\u001b[0m             \u001b[0mst\u001b[0m \u001b[0;34m=\u001b[0m \u001b[0mclock2\u001b[0m\u001b[0;34m(\u001b[0m\u001b[0;34m)\u001b[0m\u001b[0;34m\u001b[0m\u001b[0;34m\u001b[0m\u001b[0m\n\u001b[0;32m-> 1193\u001b[0;31m             \u001b[0mexec\u001b[0m\u001b[0;34m(\u001b[0m\u001b[0mcode\u001b[0m\u001b[0;34m,\u001b[0m \u001b[0mglob\u001b[0m\u001b[0;34m,\u001b[0m \u001b[0mlocal_ns\u001b[0m\u001b[0;34m)\u001b[0m\u001b[0;34m\u001b[0m\u001b[0;34m\u001b[0m\u001b[0m\n\u001b[0m\u001b[1;32m   1194\u001b[0m             \u001b[0mend\u001b[0m \u001b[0;34m=\u001b[0m \u001b[0mclock2\u001b[0m\u001b[0;34m(\u001b[0m\u001b[0;34m)\u001b[0m\u001b[0;34m\u001b[0m\u001b[0;34m\u001b[0m\u001b[0m\n\u001b[1;32m   1195\u001b[0m             \u001b[0mout\u001b[0m \u001b[0;34m=\u001b[0m \u001b[0;32mNone\u001b[0m\u001b[0;34m\u001b[0m\u001b[0;34m\u001b[0m\u001b[0m\n",
            "\u001b[0;32m<timed exec>\u001b[0m in \u001b[0;36m<module>\u001b[0;34m()\u001b[0m\n",
            "\u001b[0;31mNameError\u001b[0m: name 'X_train_tfidf' is not defined"
          ]
        }
      ]
    },
    {
      "cell_type": "markdown",
      "metadata": {
        "id": "haAx8inYxsoJ"
      },
      "source": [
        "### svm\n"
      ]
    },
    {
      "cell_type": "code",
      "metadata": {
        "id": "49Z5oH8MyWFZ"
      },
      "source": [
        "from sklearn import svm\n",
        "clf = svm.SVC()\n",
        "clf=clf.fit(X_train_tfidf, Y_train)\n",
        "probs=clf.predict(X_val_tfidf)\n",
        "# evaluate_roc(probs, Y_val)\n"
      ],
      "execution_count": null,
      "outputs": []
    },
    {
      "cell_type": "code",
      "metadata": {
        "id": "lKhKx3Zr0GD5",
        "colab": {
          "base_uri": "https://localhost:8080/",
          "height": 34
        },
        "outputId": "66d50331-2e3d-442e-8d13-fa164f996486"
      },
      "source": [
        "  accuracy = accuracy_score(probs, Y_val)\n",
        "  print(f'Accuracy: {accuracy*100:.2f}%')"
      ],
      "execution_count": null,
      "outputs": [
        {
          "output_type": "stream",
          "text": [
            "Accuracy: 80.50%\n"
          ],
          "name": "stdout"
        }
      ]
    },
    {
      "cell_type": "markdown",
      "metadata": {
        "id": "GLHJrj390osV"
      },
      "source": [
        "###random forest"
      ]
    },
    {
      "cell_type": "code",
      "metadata": {
        "id": "QRQ6EZU00r0u",
        "colab": {
          "base_uri": "https://localhost:8080/",
          "height": 351
        },
        "outputId": "17c69e34-dd36-40dc-f8bc-522ade3f8175"
      },
      "source": [
        "from sklearn.ensemble import RandomForestClassifier\n",
        "clf = RandomForestClassifier(max_depth=3000, random_state=10)\n",
        "clf=clf.fit(X_train_tfidf, Y_train)\n",
        "probsrf=clf.predict_proba(X_val_tfidf)\n",
        "evaluate_roc(probsrf, Y_val)"
      ],
      "execution_count": null,
      "outputs": [
        {
          "output_type": "stream",
          "text": [
            "AUC: 0.7586\n",
            "Accuracy: 57.78%\n"
          ],
          "name": "stdout"
        },
        {
          "output_type": "error",
          "ename": "NameError",
          "evalue": "ignored",
          "traceback": [
            "\u001b[0;31m---------------------------------------------------------------------------\u001b[0m",
            "\u001b[0;31mNameError\u001b[0m                                 Traceback (most recent call last)",
            "\u001b[0;32m<ipython-input-20-4c441c7f4ad6>\u001b[0m in \u001b[0;36m<module>\u001b[0;34m()\u001b[0m\n\u001b[1;32m      3\u001b[0m \u001b[0mclf\u001b[0m\u001b[0;34m=\u001b[0m\u001b[0mclf\u001b[0m\u001b[0;34m.\u001b[0m\u001b[0mfit\u001b[0m\u001b[0;34m(\u001b[0m\u001b[0mX_train_tfidf\u001b[0m\u001b[0;34m,\u001b[0m \u001b[0mY_train\u001b[0m\u001b[0;34m)\u001b[0m\u001b[0;34m\u001b[0m\u001b[0;34m\u001b[0m\u001b[0m\n\u001b[1;32m      4\u001b[0m \u001b[0mprobsrf\u001b[0m\u001b[0;34m=\u001b[0m\u001b[0mclf\u001b[0m\u001b[0;34m.\u001b[0m\u001b[0mpredict_proba\u001b[0m\u001b[0;34m(\u001b[0m\u001b[0mX_val_tfidf\u001b[0m\u001b[0;34m)\u001b[0m\u001b[0;34m\u001b[0m\u001b[0;34m\u001b[0m\u001b[0m\n\u001b[0;32m----> 5\u001b[0;31m \u001b[0mevaluate_roc\u001b[0m\u001b[0;34m(\u001b[0m\u001b[0mprobsrf\u001b[0m\u001b[0;34m,\u001b[0m \u001b[0mY_val\u001b[0m\u001b[0;34m)\u001b[0m\u001b[0;34m\u001b[0m\u001b[0;34m\u001b[0m\u001b[0m\n\u001b[0m",
            "\u001b[0;32m<ipython-input-19-bde1be800687>\u001b[0m in \u001b[0;36mevaluate_roc\u001b[0;34m(probs, y_true)\u001b[0m\n\u001b[1;32m     19\u001b[0m \u001b[0;34m\u001b[0m\u001b[0m\n\u001b[1;32m     20\u001b[0m     \u001b[0;31m# Plot ROC AUC\u001b[0m\u001b[0;34m\u001b[0m\u001b[0;34m\u001b[0m\u001b[0;34m\u001b[0m\u001b[0m\n\u001b[0;32m---> 21\u001b[0;31m     \u001b[0mplt\u001b[0m\u001b[0;34m.\u001b[0m\u001b[0mtitle\u001b[0m\u001b[0;34m(\u001b[0m\u001b[0;34m'Receiver Operating Characteristic'\u001b[0m\u001b[0;34m)\u001b[0m\u001b[0;34m\u001b[0m\u001b[0;34m\u001b[0m\u001b[0m\n\u001b[0m\u001b[1;32m     22\u001b[0m     \u001b[0mplt\u001b[0m\u001b[0;34m.\u001b[0m\u001b[0mplot\u001b[0m\u001b[0;34m(\u001b[0m\u001b[0mfpr\u001b[0m\u001b[0;34m,\u001b[0m \u001b[0mtpr\u001b[0m\u001b[0;34m,\u001b[0m \u001b[0;34m'b'\u001b[0m\u001b[0;34m,\u001b[0m \u001b[0mlabel\u001b[0m \u001b[0;34m=\u001b[0m \u001b[0;34m'AUC = %0.2f'\u001b[0m \u001b[0;34m%\u001b[0m \u001b[0mroc_auc\u001b[0m\u001b[0;34m)\u001b[0m\u001b[0;34m\u001b[0m\u001b[0;34m\u001b[0m\u001b[0m\n\u001b[1;32m     23\u001b[0m     \u001b[0mplt\u001b[0m\u001b[0;34m.\u001b[0m\u001b[0mlegend\u001b[0m\u001b[0;34m(\u001b[0m\u001b[0mloc\u001b[0m \u001b[0;34m=\u001b[0m \u001b[0;34m'lower right'\u001b[0m\u001b[0;34m)\u001b[0m\u001b[0;34m\u001b[0m\u001b[0;34m\u001b[0m\u001b[0m\n",
            "\u001b[0;31mNameError\u001b[0m: name 'plt' is not defined"
          ]
        }
      ]
    },
    {
      "cell_type": "markdown",
      "metadata": {
        "id": "kyHoJPyB9ym4"
      },
      "source": [
        "## word2vec\n"
      ]
    },
    {
      "cell_type": "markdown",
      "metadata": {
        "id": "ue3Iol4oC7AP"
      },
      "source": [
        "# adding meta-data"
      ]
    },
    {
      "cell_type": "code",
      "metadata": {
        "id": "b_FGEeADFFzK",
        "colab": {
          "base_uri": "https://localhost:8080/",
          "height": 119
        },
        "outputId": "05bec45e-a758-4b2a-cf9a-9ca92a9f0cd9"
      },
      "source": [
        "!git clone https://github.com/mahdiabdollahpour/COVID19Tweet.git"
      ],
      "execution_count": null,
      "outputs": [
        {
          "output_type": "stream",
          "text": [
            "Cloning into 'COVID19Tweet'...\n",
            "remote: Enumerating objects: 85, done.\u001b[K\n",
            "remote: Counting objects: 100% (85/85), done.\u001b[K\n",
            "remote: Compressing objects: 100% (64/64), done.\u001b[K\n",
            "remote: Total 85 (delta 43), reused 53 (delta 18), pack-reused 0\u001b[K\n",
            "Unpacking objects: 100% (85/85), done.\n"
          ],
          "name": "stdout"
        }
      ]
    },
    {
      "cell_type": "code",
      "metadata": {
        "id": "nnsGAJv_Fgg1",
        "colab": {
          "base_uri": "https://localhost:8080/",
          "height": 85
        },
        "outputId": "b7cceb17-25fb-41fd-d3a2-dafde6a197a2"
      },
      "source": [
        "import os\n",
        "os.chdir('COVID19Tweet')\n",
        "!git reset --hard\n",
        "!git pull --verbose\n",
        "os.chdir('..')"
      ],
      "execution_count": null,
      "outputs": [
        {
          "output_type": "stream",
          "text": [
            "HEAD is now at 785a1c3 added unlabeled metas\n",
            "From https://github.com/mahdiabdollahpour/COVID19Tweet\n",
            " = [up to date]      master     -> origin/master\n",
            "Already up to date.\n"
          ],
          "name": "stdout"
        }
      ]
    },
    {
      "cell_type": "code",
      "metadata": {
        "id": "l2-mxgsWDBdo"
      },
      "source": [
        "\n",
        "import pandas as pd\n",
        "import os\n",
        "import re\n",
        "df=pd.read_csv(\"COVID19Tweet/train_meta.tsv\",sep=\"\\t\")\n",
        "df_val=pd.read_csv(\"COVID19Tweet/valid_meta.tsv\",sep=\"\\t\")"
      ],
      "execution_count": null,
      "outputs": []
    },
    {
      "cell_type": "code",
      "metadata": {
        "id": "3EDuTuphGEll",
        "colab": {
          "base_uri": "https://localhost:8080/",
          "height": 632
        },
        "outputId": "ca342e9b-56b7-4b3b-cca6-af7bd291af71"
      },
      "source": [
        "df['Label']=pd.Categorical(df['Label'])\n",
        "df['Label']=df.Label.cat.codes\n",
        "df[\"verfied\"] = df[\"verfied\"].astype(int)\n",
        "df[\"truncated\"] = df[\"truncated\"].astype(int)\n",
        "df_val['Label']=pd.Categorical(df_val['Label'])\n",
        "df_val['Label']=df_val.Label.cat.codes\n",
        "df_val[\"verfied\"] = df_val[\"verfied\"].astype(int)\n",
        "df_val[\"truncated\"] = df_val[\"truncated\"].astype(int)\n",
        "df_val.head()"
      ],
      "execution_count": null,
      "outputs": [
        {
          "output_type": "execute_result",
          "data": {
            "text/html": [
              "<div>\n",
              "<style scoped>\n",
              "    .dataframe tbody tr th:only-of-type {\n",
              "        vertical-align: middle;\n",
              "    }\n",
              "\n",
              "    .dataframe tbody tr th {\n",
              "        vertical-align: top;\n",
              "    }\n",
              "\n",
              "    .dataframe thead th {\n",
              "        text-align: right;\n",
              "    }\n",
              "</style>\n",
              "<table border=\"1\" class=\"dataframe\">\n",
              "  <thead>\n",
              "    <tr style=\"text-align: right;\">\n",
              "      <th></th>\n",
              "      <th>Unnamed: 0</th>\n",
              "      <th>ID</th>\n",
              "      <th>Text</th>\n",
              "      <th>verfied</th>\n",
              "      <th>retweet_count</th>\n",
              "      <th>followers_count</th>\n",
              "      <th>url_count</th>\n",
              "      <th>photo_count</th>\n",
              "      <th>truncated</th>\n",
              "      <th>listed_count</th>\n",
              "      <th>statuses_count</th>\n",
              "      <th>user_created_at</th>\n",
              "      <th>hashtag_count</th>\n",
              "      <th>friends_count</th>\n",
              "      <th>user_url</th>\n",
              "      <th>Label</th>\n",
              "    </tr>\n",
              "  </thead>\n",
              "  <tbody>\n",
              "    <tr>\n",
              "      <th>0</th>\n",
              "      <td>0</td>\n",
              "      <td>1241728922192142336</td>\n",
              "      <td>For those saying Pakistan isn’t Italy; After 3...</td>\n",
              "      <td>0</td>\n",
              "      <td>0</td>\n",
              "      <td>648</td>\n",
              "      <td>0</td>\n",
              "      <td>0</td>\n",
              "      <td>0</td>\n",
              "      <td>12</td>\n",
              "      <td>15739</td>\n",
              "      <td>2010</td>\n",
              "      <td>2</td>\n",
              "      <td>1011</td>\n",
              "      <td>0</td>\n",
              "      <td>1</td>\n",
              "    </tr>\n",
              "    <tr>\n",
              "      <th>1</th>\n",
              "      <td>1</td>\n",
              "      <td>1235713405992030209</td>\n",
              "      <td>Second case DR 🇩🇴 The Canadian woman has not b...</td>\n",
              "      <td>0</td>\n",
              "      <td>0</td>\n",
              "      <td>804</td>\n",
              "      <td>1</td>\n",
              "      <td>0</td>\n",
              "      <td>0</td>\n",
              "      <td>40</td>\n",
              "      <td>52296</td>\n",
              "      <td>2010</td>\n",
              "      <td>3</td>\n",
              "      <td>3721</td>\n",
              "      <td>1</td>\n",
              "      <td>0</td>\n",
              "    </tr>\n",
              "    <tr>\n",
              "      <th>2</th>\n",
              "      <td>2</td>\n",
              "      <td>1245941302367305728</td>\n",
              "      <td>Kill Chain: the cyber war on America's electio...</td>\n",
              "      <td>0</td>\n",
              "      <td>0</td>\n",
              "      <td>1162</td>\n",
              "      <td>1</td>\n",
              "      <td>0</td>\n",
              "      <td>0</td>\n",
              "      <td>6</td>\n",
              "      <td>88289</td>\n",
              "      <td>2012</td>\n",
              "      <td>1</td>\n",
              "      <td>2008</td>\n",
              "      <td>0</td>\n",
              "      <td>1</td>\n",
              "    </tr>\n",
              "    <tr>\n",
              "      <th>3</th>\n",
              "      <td>3</td>\n",
              "      <td>1241728922192142336</td>\n",
              "      <td>For those saying Pakistan isn’t Italy; After 3...</td>\n",
              "      <td>1</td>\n",
              "      <td>1</td>\n",
              "      <td>3517</td>\n",
              "      <td>0</td>\n",
              "      <td>1</td>\n",
              "      <td>0</td>\n",
              "      <td>76</td>\n",
              "      <td>13540</td>\n",
              "      <td>2009</td>\n",
              "      <td>4</td>\n",
              "      <td>537</td>\n",
              "      <td>1</td>\n",
              "      <td>1</td>\n",
              "    </tr>\n",
              "    <tr>\n",
              "      <th>4</th>\n",
              "      <td>4</td>\n",
              "      <td>1240543259299987457</td>\n",
              "      <td>Report suggested that the actual number of und...</td>\n",
              "      <td>0</td>\n",
              "      <td>0</td>\n",
              "      <td>8309</td>\n",
              "      <td>1</td>\n",
              "      <td>0</td>\n",
              "      <td>0</td>\n",
              "      <td>271</td>\n",
              "      <td>270338</td>\n",
              "      <td>2009</td>\n",
              "      <td>2</td>\n",
              "      <td>167</td>\n",
              "      <td>0</td>\n",
              "      <td>1</td>\n",
              "    </tr>\n",
              "  </tbody>\n",
              "</table>\n",
              "</div>"
            ],
            "text/plain": [
              "   Unnamed: 0                   ID  ... user_url  Label\n",
              "0           0  1241728922192142336  ...        0      1\n",
              "1           1  1235713405992030209  ...        1      0\n",
              "2           2  1245941302367305728  ...        0      1\n",
              "3           3  1241728922192142336  ...        1      1\n",
              "4           4  1240543259299987457  ...        0      1\n",
              "\n",
              "[5 rows x 16 columns]"
            ]
          },
          "metadata": {
            "tags": []
          },
          "execution_count": 13
        }
      ]
    },
    {
      "cell_type": "code",
      "metadata": {
        "id": "38M93myuHa6Q"
      },
      "source": [
        "import numpy as np\n",
        "X_train=df.Text.values\n",
        "Y_train=df.Label.values\n",
        "Y_train=Y_train.astype('long')\n",
        "X_val=df_val.Text.values\n",
        "Y_val=df_val.Label.values\n",
        "Y_val=Y_val.astype('long')\n",
        "\n",
        "X_train_punctuation=np.array([punctuation_preprocess(text) for text in X_train])\n",
        "X_val_punctuation=np.array([punctuation_preprocess(text) for text in X_val])\n",
        "X_train_slang=np.array([slang_preprocess(text) for text in X_train])\n",
        "X_val_slang=np.array([slang_preprocess(text) for text in X_val])\n"
      ],
      "execution_count": null,
      "outputs": []
    },
    {
      "cell_type": "code",
      "metadata": {
        "id": "0WAMXSEYH5F9",
        "colab": {
          "base_uri": "https://localhost:8080/",
          "height": 51
        },
        "outputId": "ff066cda-2c12-4b1b-e898-a366436bace8"
      },
      "source": [
        "%%time\n",
        "import numpy as np\n",
        "from sklearn.feature_extraction.text import TfidfVectorizer\n",
        "\n",
        "# Preprocess text\n",
        "X_train_preprocessed = np.array([text_preprocessing(text) for text in X_train])\n",
        "X_val_preprocessed = np.array([text_preprocessing(text) for text in X_val])\n",
        "\n",
        "# Calculate TF-IDF\n",
        "tf_idf = TfidfVectorizer(ngram_range=(1, 3),\n",
        "                         binary=False,\n",
        "                         smooth_idf=True)\n",
        "X_train_tfidf = tf_idf.fit_transform(X_train_preprocessed)\n",
        "X_val_tfidf = tf_idf.transform(X_val_preprocessed)"
      ],
      "execution_count": null,
      "outputs": [
        {
          "output_type": "stream",
          "text": [
            "CPU times: user 24.7 s, sys: 3.03 s, total: 27.7 s\n",
            "Wall time: 27.8 s\n"
          ],
          "name": "stdout"
        }
      ]
    },
    {
      "cell_type": "code",
      "metadata": {
        "id": "u2Up6rtO3sBu"
      },
      "source": [
        "import math\n",
        "df['slang'] = X_train_slang\n",
        "df['punctuation'] = X_train_punctuation\n",
        "\n",
        "df['len'] = [len(sen.split(' ')) for sen in X_train_preprocessed] \n",
        "df['followers_count'] =  df['followers_count'].apply(lambda x: math.log(x+1))\n",
        "df['r_over_f'] = df['retweet_count'] / df['followers_count']\n",
        "df['user_created_at'] =  df['user_created_at'].apply(lambda x: 2020-x)\n",
        "df['listed_count'] =  df['listed_count'].apply(lambda x: math.log(x+1))\n",
        "df['friends_count'] =  df['friends_count'].apply(lambda x: math.log(x+1))\n",
        "df['statuses_count'] =  df['statuses_count'].apply(lambda x: math.log(x+1))\n",
        "cols = ['slang' ,'punctuation', \"verfied\", 'retweet_count',\"followers_count\",\"url_count\",\"photo_count\",\"len\",\"listed_count\",\t\"statuses_count\",\"user_created_at\",\"hashtag_count\",\"friends_count\",\t\"user_url\"]\n",
        "# cols_to_normal = ['r_over_f',\"followers_count\",\"url_count\",\"photo_count\",]\n",
        "\n",
        "# meta_data = (meta_data-meta_data.mean())/meta_data.std()\n",
        "\n",
        "df_val['slang'] = X_val_slang\n",
        "df_val['punctuation'] = X_val_punctuation\n",
        "df_val['len'] = [len(sen.split(' ')) for sen in X_val_preprocessed] \n",
        "df_val['followers_count'] =  df_val['followers_count'].apply(lambda x:  math.log(x+1))\n",
        "df_val['listed_count'] =  df_val['listed_count'].apply(lambda x: math.log(x+1))\n",
        "df_val['r_over_f'] = df_val['retweet_count'] / df_val['followers_count']\n",
        "df_val['user_created_at'] =  df_val['user_created_at'].apply(lambda x: 2020-x)\n",
        "df_val['friends_count'] =  df_val['friends_count'].apply(lambda x: math.log(x+1))\n",
        "df_val['statuses_count'] =  df_val['statuses_count'].apply(lambda x: math.log(x+1))\n",
        "\n",
        "# print(np.sum(meta_data_val['video_count']))"
      ],
      "execution_count": null,
      "outputs": []
    },
    {
      "cell_type": "code",
      "metadata": {
        "id": "ivnQGzD0BTRU",
        "colab": {
          "base_uri": "https://localhost:8080/",
          "height": 224
        },
        "outputId": "a27c5a07-08db-4126-bef3-97ea2c0bf588"
      },
      "source": [
        "\n",
        "meta_data = df.loc[:, cols ]\n",
        "meta_data=(meta_data-meta_data.min())/(meta_data.max()-meta_data.min())\n",
        "\n",
        "meta_data_val = df_val.loc[:,  cols]\n",
        "meta_data_val=(meta_data_val-meta_data_val.min())/(meta_data_val.max()-meta_data_val.min())\n",
        "# meta_data_val = (meta_data_val-meta_data_val.mean())/meta_data_val.std()\n",
        "meta_data_val.head()"
      ],
      "execution_count": null,
      "outputs": [
        {
          "output_type": "execute_result",
          "data": {
            "text/html": [
              "<div>\n",
              "<style scoped>\n",
              "    .dataframe tbody tr th:only-of-type {\n",
              "        vertical-align: middle;\n",
              "    }\n",
              "\n",
              "    .dataframe tbody tr th {\n",
              "        vertical-align: top;\n",
              "    }\n",
              "\n",
              "    .dataframe thead th {\n",
              "        text-align: right;\n",
              "    }\n",
              "</style>\n",
              "<table border=\"1\" class=\"dataframe\">\n",
              "  <thead>\n",
              "    <tr style=\"text-align: right;\">\n",
              "      <th></th>\n",
              "      <th>slang</th>\n",
              "      <th>punctuation</th>\n",
              "      <th>verfied</th>\n",
              "      <th>retweet_count</th>\n",
              "      <th>followers_count</th>\n",
              "      <th>url_count</th>\n",
              "      <th>photo_count</th>\n",
              "      <th>len</th>\n",
              "      <th>listed_count</th>\n",
              "      <th>statuses_count</th>\n",
              "      <th>user_created_at</th>\n",
              "      <th>hashtag_count</th>\n",
              "      <th>friends_count</th>\n",
              "      <th>user_url</th>\n",
              "    </tr>\n",
              "  </thead>\n",
              "  <tbody>\n",
              "    <tr>\n",
              "      <th>0</th>\n",
              "      <td>0.0</td>\n",
              "      <td>0.0</td>\n",
              "      <td>0.0</td>\n",
              "      <td>0.000000</td>\n",
              "      <td>0.040250</td>\n",
              "      <td>0.0</td>\n",
              "      <td>0.0</td>\n",
              "      <td>0.38</td>\n",
              "      <td>0.216388</td>\n",
              "      <td>0.421045</td>\n",
              "      <td>0.714286</td>\n",
              "      <td>0.166667</td>\n",
              "      <td>0.582235</td>\n",
              "      <td>0.0</td>\n",
              "    </tr>\n",
              "    <tr>\n",
              "      <th>1</th>\n",
              "      <td>1.0</td>\n",
              "      <td>0.0</td>\n",
              "      <td>0.0</td>\n",
              "      <td>0.000000</td>\n",
              "      <td>0.058637</td>\n",
              "      <td>0.2</td>\n",
              "      <td>0.0</td>\n",
              "      <td>0.30</td>\n",
              "      <td>0.313290</td>\n",
              "      <td>0.549135</td>\n",
              "      <td>0.714286</td>\n",
              "      <td>0.250000</td>\n",
              "      <td>0.691815</td>\n",
              "      <td>1.0</td>\n",
              "    </tr>\n",
              "    <tr>\n",
              "      <th>2</th>\n",
              "      <td>0.0</td>\n",
              "      <td>0.0</td>\n",
              "      <td>0.0</td>\n",
              "      <td>0.000000</td>\n",
              "      <td>0.090041</td>\n",
              "      <td>0.2</td>\n",
              "      <td>0.0</td>\n",
              "      <td>0.40</td>\n",
              "      <td>0.164164</td>\n",
              "      <td>0.605000</td>\n",
              "      <td>0.571429</td>\n",
              "      <td>0.083333</td>\n",
              "      <td>0.639932</td>\n",
              "      <td>0.0</td>\n",
              "    </tr>\n",
              "    <tr>\n",
              "      <th>3</th>\n",
              "      <td>0.0</td>\n",
              "      <td>0.0</td>\n",
              "      <td>1.0</td>\n",
              "      <td>0.000135</td>\n",
              "      <td>0.184522</td>\n",
              "      <td>0.0</td>\n",
              "      <td>1.0</td>\n",
              "      <td>0.38</td>\n",
              "      <td>0.366459</td>\n",
              "      <td>0.404992</td>\n",
              "      <td>0.785714</td>\n",
              "      <td>0.333333</td>\n",
              "      <td>0.529072</td>\n",
              "      <td>1.0</td>\n",
              "    </tr>\n",
              "    <tr>\n",
              "      <th>4</th>\n",
              "      <td>0.0</td>\n",
              "      <td>0.0</td>\n",
              "      <td>0.0</td>\n",
              "      <td>0.000000</td>\n",
              "      <td>0.257893</td>\n",
              "      <td>0.2</td>\n",
              "      <td>0.0</td>\n",
              "      <td>0.32</td>\n",
              "      <td>0.472925</td>\n",
              "      <td>0.724377</td>\n",
              "      <td>0.785714</td>\n",
              "      <td>0.166667</td>\n",
              "      <td>0.431140</td>\n",
              "      <td>0.0</td>\n",
              "    </tr>\n",
              "  </tbody>\n",
              "</table>\n",
              "</div>"
            ],
            "text/plain": [
              "   slang  punctuation  verfied  ...  hashtag_count  friends_count  user_url\n",
              "0    0.0          0.0      0.0  ...       0.166667       0.582235       0.0\n",
              "1    1.0          0.0      0.0  ...       0.250000       0.691815       1.0\n",
              "2    0.0          0.0      0.0  ...       0.083333       0.639932       0.0\n",
              "3    0.0          0.0      1.0  ...       0.333333       0.529072       1.0\n",
              "4    0.0          0.0      0.0  ...       0.166667       0.431140       0.0\n",
              "\n",
              "[5 rows x 14 columns]"
            ]
          },
          "metadata": {
            "tags": []
          },
          "execution_count": 24
        }
      ]
    },
    {
      "cell_type": "code",
      "metadata": {
        "id": "svs19hBI-iJQ",
        "colab": {
          "base_uri": "https://localhost:8080/",
          "height": 714
        },
        "outputId": "5f6445f2-75e9-461b-aed6-4d257e08482e"
      },
      "source": [
        "metadata = meta_data.to_numpy()\n",
        "metadata_val = meta_data_val.to_numpy()\n",
        "print(np.shape(metadata))\n",
        "print(metadata_val[:10,:])"
      ],
      "execution_count": null,
      "outputs": [
        {
          "output_type": "stream",
          "text": [
            "(4717, 14)\n",
            "[[0.00000000e+00 0.00000000e+00 0.00000000e+00 0.00000000e+00\n",
            "  4.02499263e-02 0.00000000e+00 0.00000000e+00 3.80000000e-01\n",
            "  2.16388095e-01 4.21044966e-01 7.14285714e-01 1.66666667e-01\n",
            "  5.82234826e-01 0.00000000e+00]\n",
            " [1.00000000e+00 0.00000000e+00 0.00000000e+00 0.00000000e+00\n",
            "  5.86367335e-02 2.00000000e-01 0.00000000e+00 3.00000000e-01\n",
            "  3.13289923e-01 5.49135037e-01 7.14285714e-01 2.50000000e-01\n",
            "  6.91815467e-01 1.00000000e+00]\n",
            " [0.00000000e+00 0.00000000e+00 0.00000000e+00 0.00000000e+00\n",
            "  9.00410882e-02 2.00000000e-01 0.00000000e+00 4.00000000e-01\n",
            "  1.64163783e-01 6.05000222e-01 5.71428571e-01 8.33333333e-02\n",
            "  6.39931592e-01 0.00000000e+00]\n",
            " [0.00000000e+00 0.00000000e+00 1.00000000e+00 1.35409614e-04\n",
            "  1.84522358e-01 0.00000000e+00 1.00000000e+00 3.80000000e-01\n",
            "  3.66458612e-01 4.04991953e-01 7.85714286e-01 3.33333333e-01\n",
            "  5.29071893e-01 1.00000000e+00]\n",
            " [0.00000000e+00 0.00000000e+00 0.00000000e+00 0.00000000e+00\n",
            "  2.57892788e-01 2.00000000e-01 0.00000000e+00 3.20000000e-01\n",
            "  4.72925061e-01 7.24376542e-01 7.85714286e-01 1.66666667e-01\n",
            "  4.31139679e-01 0.00000000e+00]\n",
            " [1.00000000e+00 0.00000000e+00 0.00000000e+00 1.35409614e-04\n",
            "  1.00200694e-01 0.00000000e+00 0.00000000e+00 4.60000000e-01\n",
            "  1.16952639e-01 5.74690119e-02 4.28571429e-01 0.00000000e+00\n",
            "  3.84052586e-01 1.00000000e+00]\n",
            " [0.00000000e+00 0.00000000e+00 0.00000000e+00 0.00000000e+00\n",
            "  1.28079212e-01 0.00000000e+00 0.00000000e+00 2.80000000e-01\n",
            "  4.42212104e-01 4.63322684e-01 7.14285714e-02 0.00000000e+00\n",
            "  5.78233399e-01 1.00000000e+00]\n",
            " [0.00000000e+00 0.00000000e+00 0.00000000e+00 0.00000000e+00\n",
            "  2.32817881e-02 0.00000000e+00 0.00000000e+00 2.80000000e-01\n",
            "  2.74864415e-01 3.66121776e-01 7.85714286e-01 0.00000000e+00\n",
            "  6.00677296e-01 0.00000000e+00]\n",
            " [0.00000000e+00 0.00000000e+00 0.00000000e+00 0.00000000e+00\n",
            "  2.45047593e-01 2.00000000e-01 0.00000000e+00 2.20000000e-01\n",
            "  2.86936902e-01 5.19948361e-01 5.00000000e-01 0.00000000e+00\n",
            "  7.46935637e-01 0.00000000e+00]\n",
            " [0.00000000e+00 0.00000000e+00 0.00000000e+00 0.00000000e+00\n",
            "  2.62101401e-01 0.00000000e+00 0.00000000e+00 4.80000000e-01\n",
            "  3.28327567e-01 1.99190314e-01 3.57142857e-01 0.00000000e+00\n",
            "  5.47030376e-01 1.00000000e+00]]\n"
          ],
          "name": "stdout"
        }
      ]
    },
    {
      "cell_type": "code",
      "metadata": {
        "id": "cV0gm3UZJk-V",
        "colab": {
          "base_uri": "https://localhost:8080/",
          "height": 445
        },
        "outputId": "b46bdf11-3e9d-40ca-9b28-f4650f11b597"
      },
      "source": [
        "!wget http://nlp.stanford.edu/data/glove.6B.zip\n",
        "!unzip glove*.zip"
      ],
      "execution_count": null,
      "outputs": [
        {
          "output_type": "stream",
          "text": [
            "--2020-08-22 07:38:05--  http://nlp.stanford.edu/data/glove.6B.zip\n",
            "Resolving nlp.stanford.edu (nlp.stanford.edu)... 171.64.67.140\n",
            "Connecting to nlp.stanford.edu (nlp.stanford.edu)|171.64.67.140|:80... connected.\n",
            "HTTP request sent, awaiting response... 302 Found\n",
            "Location: https://nlp.stanford.edu/data/glove.6B.zip [following]\n",
            "--2020-08-22 07:38:06--  https://nlp.stanford.edu/data/glove.6B.zip\n",
            "Connecting to nlp.stanford.edu (nlp.stanford.edu)|171.64.67.140|:443... connected.\n",
            "HTTP request sent, awaiting response... 301 Moved Permanently\n",
            "Location: http://downloads.cs.stanford.edu/nlp/data/glove.6B.zip [following]\n",
            "--2020-08-22 07:38:06--  http://downloads.cs.stanford.edu/nlp/data/glove.6B.zip\n",
            "Resolving downloads.cs.stanford.edu (downloads.cs.stanford.edu)... 171.64.64.22\n",
            "Connecting to downloads.cs.stanford.edu (downloads.cs.stanford.edu)|171.64.64.22|:80... connected.\n",
            "HTTP request sent, awaiting response... 200 OK\n",
            "Length: 862182613 (822M) [application/zip]\n",
            "Saving to: ‘glove.6B.zip’\n",
            "\n",
            "glove.6B.zip          6%[>                   ]  50.06M  12.6MB/s    eta 54s    ^C\n",
            "Archive:  glove.6B.zip\n",
            "  End-of-central-directory signature not found.  Either this file is not\n",
            "  a zipfile, or it constitutes one disk of a multi-part archive.  In the\n",
            "  latter case the central directory and zipfile comment will be found on\n",
            "  the last disk(s) of this archive.\n",
            "unzip:  cannot find zipfile directory in one of glove.6B.zip or\n",
            "        glove.6B.zip.zip, and cannot find glove.6B.zip.ZIP, period.\n"
          ],
          "name": "stdout"
        }
      ]
    },
    {
      "cell_type": "code",
      "metadata": {
        "id": "Ki6VIaBNtM69",
        "colab": {
          "base_uri": "https://localhost:8080/",
          "height": 54
        },
        "outputId": "c9c1f73d-ab42-4af5-d1b0-e0ce586283ac"
      },
      "source": [
        "# !wget http://nlp.stanford.edu/data/glove.twitter.27B.zip\n",
        "!unzip glove.twitter.27B.zip.1"
      ],
      "execution_count": null,
      "outputs": [
        {
          "output_type": "stream",
          "text": [
            "unzip:  cannot find or open glove.twitter.27B.zip.1, glove.twitter.27B.zip.1.zip or glove.twitter.27B.zip.1.ZIP.\n"
          ],
          "name": "stdout"
        }
      ]
    },
    {
      "cell_type": "code",
      "metadata": {
        "id": "PCCEKF6mLaJm",
        "colab": {
          "base_uri": "https://localhost:8080/",
          "height": 51
        },
        "outputId": "3f8230dc-fb18-497d-ca0d-8925f8074706"
      },
      "source": [
        "import numpy as np\n",
        "\n",
        "def loadGloveModel(File):\n",
        "    print(\"Loading Glove Model\")\n",
        "    f = open(File,'r')\n",
        "    gloveModel = {}\n",
        "    for line in f:\n",
        "        splitLines = line.split()\n",
        "        word = splitLines[0]\n",
        "        wordEmbedding = np.array([float(value) for value in splitLines[1:]])\n",
        "        gloveModel[word] = wordEmbedding\n",
        "    print(len(gloveModel),\" words loaded!\")\n",
        "    return gloveModel\n",
        "  \n",
        "glove = loadGloveModel('glove.twitter.27B.100d.txt')\n"
      ],
      "execution_count": null,
      "outputs": [
        {
          "output_type": "stream",
          "text": [
            "Loading Glove Model\n",
            "1193514  words loaded!\n"
          ],
          "name": "stdout"
        }
      ]
    },
    {
      "cell_type": "code",
      "metadata": {
        "id": "_aey1egvNXL3"
      },
      "source": [
        "weights = dict(zip(tf_idf.get_feature_names(), tf_idf.idf_))"
      ],
      "execution_count": null,
      "outputs": []
    },
    {
      "cell_type": "code",
      "metadata": {
        "id": "sMqYfifXRMFZ",
        "colab": {
          "base_uri": "https://localhost:8080/",
          "height": 52
        },
        "outputId": "0c68de30-e9ca-40af-de72-040c939dee10"
      },
      "source": [
        "X_train_preprocessed[0]"
      ],
      "execution_count": null,
      "outputs": [
        {
          "output_type": "execute_result",
          "data": {
            "application/vnd.google.colaboratory.intrinsic+json": {
              "type": "string"
            },
            "text/plain": [
              "'official death toll covid19 united kingdom greater germany poland switzerland austria portugal greece sweden finland norway ireland combined uk 67 5 million 233 dead group 185 million 230 dead httpurl'"
            ]
          },
          "metadata": {
            "tags": []
          },
          "execution_count": 24
        }
      ]
    },
    {
      "cell_type": "code",
      "metadata": {
        "id": "LZiX5OHi6IEF",
        "colab": {
          "base_uri": "https://localhost:8080/",
          "height": 50
        },
        "outputId": "bedb57f0-1f90-4488-88d0-cfd0f91b5a52"
      },
      "source": [
        "X_train_tfidf[0]"
      ],
      "execution_count": null,
      "outputs": [
        {
          "output_type": "execute_result",
          "data": {
            "text/plain": [
              "<1x181958 sparse matrix of type '<class 'numpy.float64'>'\n",
              "\twith 82 stored elements in Compressed Sparse Row format>"
            ]
          },
          "metadata": {
            "tags": []
          },
          "execution_count": 17
        }
      ]
    },
    {
      "cell_type": "code",
      "metadata": {
        "id": "ek_-NGSL68aw",
        "colab": {
          "base_uri": "https://localhost:8080/",
          "height": 1000
        },
        "outputId": "fa99085a-95a1-45ed-fc75-48e9c782eee7"
      },
      "source": [
        "# tfidf weighted glove\n",
        "word_embedding_size = 100\n",
        "inverse = tf_idf.inverse_transform(X_train_tfidf)\n",
        "data_train = np.zeros(shape=(len(X_train),word_embedding_size),dtype=np.float)\n",
        "for i in range(len(X_train)):\n",
        "    word_list = inverse[i]\n",
        "    for word in word_list:\n",
        "      if len(word.split(' ')) == 1 and word.lower() in glove :\n",
        "          data_train[i,:]+= weights[word] * glove[word.lower()]\n",
        "print(data_train[:3,:])\n",
        "\n",
        "inverse_val = tf_idf.inverse_transform(X_val_tfidf)\n",
        "data_val = np.zeros(shape=(len(X_val),word_embedding_size),dtype=np.float)\n",
        "for i in range(len(X_val)):\n",
        "    word_list = inverse_val[i]\n",
        "    for word in word_list:\n",
        "      if len(word.split(' ')) == 1 and word.lower() in glove :\n",
        "          data_val[i,:]+= weights[word] * glove[word.lower()]\n",
        "print(data_val[:3,:])"
      ],
      "execution_count": null,
      "outputs": [
        {
          "output_type": "stream",
          "text": [
            "[[ 8.68837858e-01  1.41404206e+01  9.66744483e+00  1.11985148e+01\n",
            "  -9.51719635e+00  7.61342175e+00  9.57711885e+00  2.18992102e-01\n",
            "   8.59055000e+00 -1.94948196e+01  8.31680367e+00 -2.72669326e+00\n",
            "  -1.28659452e+02  9.55122863e+00  2.40088311e+01 -2.39873870e+01\n",
            "   1.37792678e+01  4.39753894e+00 -9.40974481e-01  3.89927366e-01\n",
            "   1.98760578e+01 -1.41780739e+01  1.65239962e+01 -2.70759869e+00\n",
            "   9.27762927e+00  5.53093435e+00  5.96570200e-01  3.11082344e+00\n",
            "  -1.57133663e+00  4.49607478e+00  1.36492493e+00  4.54431067e+00\n",
            "  -1.02629795e+00  1.13709918e-01  3.17158756e+01 -2.05104355e+01\n",
            "   1.44417233e+01  9.68870799e+00  1.18654480e+01  5.61711922e+00\n",
            "  -4.25418417e+00  8.32291043e-01  8.21452125e+00 -1.19727367e+01\n",
            "   4.88821396e+00 -9.37953888e+00 -2.00354769e+00 -1.28800187e+01\n",
            "  -6.37125173e+00  6.91613406e+00 -5.71896762e+00 -4.92757501e+00\n",
            "   1.40531493e+01  1.13897736e+01  1.64951874e+01 -9.29086663e-01\n",
            "   9.76273795e+00 -5.96832130e+00 -1.29500597e+01 -1.29437454e+01\n",
            "   2.62504747e-01  9.92383907e+00 -2.57810808e+01  4.52850980e+00\n",
            "  -8.75811064e+00  1.33643783e+01 -1.40267111e+01  1.01366536e+01\n",
            "   1.36349862e+01 -1.63481590e+01 -1.32922502e+01 -1.68129111e+01\n",
            "   2.74464025e+01  2.70525253e+01 -2.96008666e+00 -1.16360468e+01\n",
            "  -1.90672161e+01  2.63081732e-01  1.62470854e+01  2.28580144e+00\n",
            "   4.68906654e+01 -1.52035863e+01  2.80152338e+01  3.22174202e+01\n",
            "   1.79742875e+01 -1.40071297e+01  4.09897245e+00 -1.09879128e+01\n",
            "   5.86328381e+00 -1.59384278e+01 -3.61287988e+00 -1.73129912e+01\n",
            "   1.97301419e+01 -1.49216449e+01 -4.83178747e+00 -5.05340581e+00\n",
            "   1.36091107e+01 -6.21470685e+00  7.24202427e+00 -1.39118968e+01]\n",
            " [ 1.23933290e+01  2.63652954e+00 -2.89643245e+01  1.91277050e+01\n",
            "   2.49360516e+00 -1.11203010e+01  2.88116441e+01 -6.06212615e+00\n",
            "   2.74320010e+01 -2.21375203e+01 -1.86172928e+00 -2.03900178e+01\n",
            "  -3.21938613e+02 -1.33828957e+01  1.26405786e+01 -1.38964212e+01\n",
            "  -5.13927157e-02 -2.78740300e+01  2.47221722e+00 -1.83456755e+01\n",
            "  -1.13121346e+00 -1.99529286e+01 -1.92930225e+01  4.65095369e+00\n",
            "   1.70574791e+01  6.20472058e+00  8.86222671e+00  2.05045138e+01\n",
            "   6.05651303e+00  2.06238651e+01  2.60832881e+01 -3.40125391e+01\n",
            "  -2.11581190e+01  2.84982842e+01  2.20688728e+01 -2.87198116e+00\n",
            "   1.91396027e+01  3.00860879e+01  2.60119874e+01 -6.29403817e+00\n",
            "  -9.41454177e+00  1.20311830e+01  2.27387044e+01 -1.85969662e+01\n",
            "   2.56309116e+01  7.87905798e+00 -1.96086698e+00 -2.40723303e+01\n",
            "   7.67702229e+00 -8.82483900e+00  2.40965220e+00 -7.33931910e+00\n",
            "   4.82415694e+00  4.27552901e+00 -1.78912521e+00  3.44583255e+00\n",
            "  -1.62063357e+01  1.42458087e+01 -2.86497428e+01 -1.22389866e+01\n",
            "  -4.99723254e+00  2.34003173e+01 -9.21527572e+00 -1.00827857e+00\n",
            "   1.43365107e+01  2.48593650e+01  1.66516769e+00 -1.35670074e+01\n",
            "  -2.45915685e+01 -2.20428980e+01 -2.17708714e+01 -2.26061221e+01\n",
            "   5.61180022e+00  6.43387236e+00  3.15664983e+01 -3.05972831e+00\n",
            "  -3.14837233e+01 -1.11606788e+00 -6.90585573e+00 -4.03844289e+00\n",
            "   9.31680403e+01  4.99909056e+00  4.15319695e+01  4.28793364e+01\n",
            "   1.54015294e+01 -1.17628264e+01  7.47336040e+00 -4.89749204e+00\n",
            "   4.43548487e+00 -2.26105170e+00 -1.73409270e+01 -1.00593892e+01\n",
            "   1.32538547e+01 -2.51893869e+00  1.05460412e+01 -2.15570206e+00\n",
            "   4.52005084e+00  1.14284655e+01  1.72749764e+00  3.12982023e+00]\n",
            " [ 3.06720949e+01  1.63364501e+01 -2.25918562e+00  5.20764730e+00\n",
            "   2.50198430e+01 -3.29253981e+01  1.78171914e+01 -5.24188159e+00\n",
            "   1.12332697e+01 -4.61207272e+01  1.67883228e+01 -3.33611063e+01\n",
            "  -3.57270226e+02  1.18012095e+01  5.09727315e+01 -2.72112000e+01\n",
            "  -3.00182376e+01  2.07107699e+01  2.54359316e+01 -3.21735351e+01\n",
            "  -5.97635779e+00 -3.33341772e+01 -7.30464065e+00  4.68307384e+00\n",
            "  -2.20602711e+01  4.50664340e+01  1.82639599e+01  2.37151905e+01\n",
            "  -7.72625626e+00  1.30077621e+01  4.03293645e+01  1.25750051e+01\n",
            "  -6.23806585e+01  3.09605505e+01  5.10574968e+01 -3.16314820e+01\n",
            "  -1.90874057e+01  4.28523635e+01  7.38577902e+00 -9.23247620e+00\n",
            "   1.73268613e+01  2.57001283e+01  7.42333441e+00 -4.15808218e+01\n",
            "  -3.99975342e+00  1.64559408e+01 -9.59541500e+00 -2.73945074e+01\n",
            "  -3.25281923e+01 -1.47430074e+00  1.21197516e+01 -2.47457208e+01\n",
            "  -2.41970065e+01  4.34188549e+01 -8.13779374e+01  2.06859119e+01\n",
            "   3.80665537e+00 -6.33547441e+01 -1.19389052e+01 -1.29870056e+01\n",
            "  -6.57822094e+00  4.50574103e+01 -1.79632346e+01  7.14528383e+00\n",
            "   4.85135359e+01  2.60989242e+01  2.52416597e+01 -3.46864998e+01\n",
            "  -2.32888632e+01 -6.42811151e+01  1.50743973e+01  3.87630800e+00\n",
            "   3.52029440e+01  2.59930975e+01 -1.73890742e+01  1.52424758e+01\n",
            "  -5.38049018e+01 -7.97329662e+00  2.24654233e+01 -1.21576697e+01\n",
            "   1.30957805e+02 -1.74045426e+01  5.98208165e+01  2.40398002e+01\n",
            "   8.18253456e+00 -1.89667659e+01  1.08295590e+01  1.16855476e+01\n",
            "   2.67861274e+01 -3.42442625e+01 -5.06391051e+01  3.66483791e+00\n",
            "   3.18439503e+01 -2.31430945e+01  1.49579731e+01 -8.97684678e+00\n",
            "  -4.29437566e+00  4.04970619e+01 -1.77207286e+00 -8.21080273e+00]]\n",
            "[[ 3.54654461e+01  2.15550875e+01  6.08311167e+00 -2.70187312e+01\n",
            "   5.25494281e+00 -3.89391934e+00  1.31363088e+01 -1.77362706e+01\n",
            "   4.01868281e-01  9.86188805e+00  5.02412400e+00 -4.23688272e+01\n",
            "  -4.01796309e+02  8.35890097e+00  5.56725969e+00 -1.73825973e+01\n",
            "  -6.13874594e+00  1.51924000e+01 -1.74255498e+00 -3.66532668e+01\n",
            "   4.86987368e+00 -3.88017693e+00  1.98682932e+01  2.25376421e+01\n",
            "   3.97763530e+00  4.91887362e+01 -1.10107951e+01 -1.70980773e+01\n",
            "   3.91012935e+00  1.13296584e+01  2.37462228e+01 -3.44822815e+00\n",
            "  -9.23682496e+00  2.64404869e+01  2.91148869e+01 -1.54849607e+01\n",
            "   4.19928425e+00  9.07243863e+00  3.03328409e+01 -6.60133789e+00\n",
            "  -2.09786837e+01  2.87994892e+00  2.53614744e+01  1.55601897e+00\n",
            "   2.33301156e+01 -2.33946784e+01  4.50175127e+00 -8.94808313e+00\n",
            "   4.87906413e+00  1.63324053e+01  7.74620289e+00  2.10825417e+01\n",
            "  -7.56489137e+00  1.16811255e+01  3.98130563e+00  9.50229889e+00\n",
            "  -1.42799537e+01 -1.24080451e+01 -1.90723880e+01 -1.90171066e+01\n",
            "  -7.27233093e+00  2.46270561e+01 -4.60048574e+00  5.49800602e+00\n",
            "   4.73500500e+01  8.08730180e+00  5.14486791e+00 -1.81282464e+01\n",
            "   2.25692208e+01 -3.98341749e+01 -1.60799079e+01  1.24598720e+01\n",
            "  -1.17621418e+00  5.67045800e+00  1.88390662e+01 -3.30163130e-01\n",
            "  -5.75889652e+00 -2.76914961e+00  1.95893318e+00  6.91020063e+00\n",
            "   1.16107459e+02 -7.24971973e-01  4.32580572e+01  1.21012736e+01\n",
            "   3.33276291e-01 -1.03663579e+01  1.48042441e+01 -2.25857554e+00\n",
            "  -5.50678090e+00 -1.71249179e+01 -1.13381394e+01  1.07356917e+01\n",
            "   2.72245953e+01 -1.77093247e+01 -2.63229777e+00 -1.95772035e+01\n",
            "   2.49713127e-01  1.00695174e+01  1.30752012e+01 -6.56424374e+00]\n",
            " [ 3.73584748e+01  7.93058019e+00  6.20093788e-01  7.71436863e-01\n",
            "  -7.16655678e+00 -1.19937467e+01  9.45707244e+00 -1.03089806e+01\n",
            "   1.28577620e+01 -1.68484159e+01 -1.02294965e+01 -1.10404088e+01\n",
            "  -3.24666550e+02 -1.04979378e+01  3.79313478e+01  1.60118207e+01\n",
            "   8.23953675e+00 -1.49687141e+01 -1.54599201e+00 -1.16504103e+01\n",
            "   3.00307460e+01 -1.72912774e+01 -2.36642103e+00  5.34431196e+00\n",
            "  -1.14287133e+01  4.11937399e+01 -3.55642007e+00 -1.70918197e+01\n",
            "  -1.01571305e+01  1.11379197e+01  4.55611343e+01  2.23414987e+00\n",
            "  -1.54347602e+01  4.28529416e+00  3.00604215e+01  8.70722113e+00\n",
            "   1.43839657e+01  1.38744556e+01  7.14464067e+00 -7.26886660e+00\n",
            "  -5.47117876e+00  1.25548304e+01  2.31821790e+01 -1.71980643e+01\n",
            "   1.80566814e+01 -1.74942748e+01  1.75183570e+01 -2.01649087e+01\n",
            "  -2.28316786e+01  1.69724505e+01 -1.10255589e+01  5.09489013e+00\n",
            "  -2.71949733e+01 -3.17260465e+00 -3.42163080e+01  3.52486938e+01\n",
            "  -8.46155107e+00 -9.22569770e+00 -2.67457379e+01  7.59313802e+00\n",
            "   2.88581694e+00  2.26452523e+01 -5.60838478e+00 -2.50807016e+01\n",
            "   3.03015118e+01  1.61675749e+01  1.22137462e+01 -2.25157663e+01\n",
            "   7.64662265e+00 -1.28865293e+01 -1.28078690e+01 -1.93393593e+01\n",
            "   3.10848733e+01  2.44275046e+00  3.53306466e+01 -3.03505957e+00\n",
            "  -1.58661387e+01 -4.16921346e+00  1.39282028e+01  7.15756308e+00\n",
            "   1.09999828e+02  5.29263379e+00  2.97580452e+01  4.18197919e+01\n",
            "   8.35384749e+00 -2.72215077e+01  1.28489723e+01  1.62247476e+01\n",
            "  -4.99176557e+00  1.42731599e+01  3.45900609e+00 -7.30884409e+00\n",
            "   1.95910193e+01 -8.46776845e-01 -1.88228698e+01  1.40947836e+01\n",
            "   6.02879917e+00  7.99278140e+00 -2.86648582e+00  2.26704920e+00]\n",
            " [ 1.86126012e+01  2.62695865e+01 -1.82291626e+01 -4.91864212e+00\n",
            "  -8.62240631e+00  1.08716210e+01  3.11733426e+01 -1.69811500e+01\n",
            "   3.29080798e+01 -1.73489630e+01  7.54203921e+00 -1.56853964e+01\n",
            "  -4.12554709e+02  2.78293730e+01  5.36203370e+00 -2.98778078e+01\n",
            "  -2.08822576e+01  2.00130090e+00  5.05638742e+00 -2.18028941e+01\n",
            "  -1.79908454e+01  1.87654757e+01 -1.57082091e+01  4.37649220e+00\n",
            "  -1.29892304e+01 -6.36106215e+00  3.64932739e+00 -1.68052370e+00\n",
            "   3.36062126e+01  1.82650341e+01 -7.37590234e+00 -3.24861302e+01\n",
            "  -2.88185202e+01  1.30077601e+01  6.30944425e+01 -1.00482062e+00\n",
            "   1.46224390e+01  3.84234067e+01  3.13229957e+00 -1.49718885e+01\n",
            "  -2.63175430e+01 -3.64985684e+00  1.71742600e+00  2.83884918e+00\n",
            "   6.43005403e+01  5.53317974e+00 -2.57050838e+01 -1.35012570e+01\n",
            "  -1.50163957e+01 -1.02906589e+00 -4.53226977e+00 -3.25830017e+01\n",
            "  -4.48147664e+01  2.87123811e+01 -1.29732330e+01  4.11934568e+00\n",
            "  -1.80184875e+01 -1.96209734e+01 -2.60003696e+01 -4.00682781e+01\n",
            "   6.11424082e+00 -1.20257425e+01  2.98205871e+00  2.30896250e+01\n",
            "   3.37510775e+01 -1.19940356e+00  5.39591784e+00  2.07411996e+01\n",
            "  -3.23872242e+00 -2.93519821e+00 -2.44566829e+01  1.20096174e+00\n",
            "   8.38524213e+00  1.75777488e+01  1.44930305e+01  2.26693656e+01\n",
            "  -1.15440884e+01  1.46856943e+01  8.37601059e+00 -1.88301457e+01\n",
            "   1.25208441e+02  6.60777609e+00  2.82891793e+01  1.26139719e+01\n",
            "   2.96606418e+01 -2.33794820e+01  2.45092726e+01 -2.06140228e+00\n",
            "  -5.64598975e+00 -4.68174231e+00 -3.15518618e+01  9.58211337e+00\n",
            "   1.52789644e+01 -5.60290918e+00 -2.24030307e+00 -9.31884329e+00\n",
            "   2.16790453e+01  8.84285406e+00  8.82875343e+00 -2.31217301e+01]]\n"
          ],
          "name": "stdout"
        }
      ]
    },
    {
      "cell_type": "markdown",
      "metadata": {
        "id": "Es0rDls0L1iI"
      },
      "source": [
        "### knn with weighted data"
      ]
    },
    {
      "cell_type": "code",
      "metadata": {
        "id": "9I0rl1chL6Jl",
        "colab": {
          "base_uri": "https://localhost:8080/",
          "height": 409
        },
        "outputId": "cd388603-8141-4e39-ccd6-694ed513d6f4"
      },
      "source": [
        "%%time\n",
        "from sklearn.neighbors import KNeighborsClassifier\n",
        "from sklearn.metrics import accuracy_score, roc_curve, auc\n",
        "neigh = KNeighborsClassifier(n_neighbors=11)\n",
        "neigh.fit(data_train, Y_train)\n",
        "probsknn=neigh.predict(data_val)\n",
        "accuracy = accuracy_score(probsknn, Y_val)\n",
        "print(f'Accuracy: {accuracy*100:.2f}%')"
      ],
      "execution_count": null,
      "outputs": [
        {
          "output_type": "error",
          "ename": "NameError",
          "evalue": "ignored",
          "traceback": [
            "\u001b[0;31m---------------------------------------------------------------------------\u001b[0m",
            "\u001b[0;31mNameError\u001b[0m                                 Traceback (most recent call last)",
            "\u001b[0;32m<ipython-input-1-82272baff2ae>\u001b[0m in \u001b[0;36m<module>\u001b[0;34m()\u001b[0m\n\u001b[0;32m----> 1\u001b[0;31m \u001b[0mget_ipython\u001b[0m\u001b[0;34m(\u001b[0m\u001b[0;34m)\u001b[0m\u001b[0;34m.\u001b[0m\u001b[0mrun_cell_magic\u001b[0m\u001b[0;34m(\u001b[0m\u001b[0;34m'time'\u001b[0m\u001b[0;34m,\u001b[0m \u001b[0;34m''\u001b[0m\u001b[0;34m,\u001b[0m \u001b[0;34m\"from sklearn.neighbors import KNeighborsClassifier\\nfrom sklearn.metrics import accuracy_score, roc_curve, auc\\nneigh = KNeighborsClassifier(n_neighbors=11)\\nneigh.fit(data_train, Y_train)\\nprobsknn=neigh.predict(data_val)\\naccuracy = accuracy_score(probsknn, Y_val)\\nprint(f'Accuracy: {accuracy*100:.2f}%')\"\u001b[0m\u001b[0;34m)\u001b[0m\u001b[0;34m\u001b[0m\u001b[0;34m\u001b[0m\u001b[0m\n\u001b[0m",
            "\u001b[0;32m/usr/local/lib/python3.6/dist-packages/IPython/core/interactiveshell.py\u001b[0m in \u001b[0;36mrun_cell_magic\u001b[0;34m(self, magic_name, line, cell)\u001b[0m\n\u001b[1;32m   2115\u001b[0m             \u001b[0mmagic_arg_s\u001b[0m \u001b[0;34m=\u001b[0m \u001b[0mself\u001b[0m\u001b[0;34m.\u001b[0m\u001b[0mvar_expand\u001b[0m\u001b[0;34m(\u001b[0m\u001b[0mline\u001b[0m\u001b[0;34m,\u001b[0m \u001b[0mstack_depth\u001b[0m\u001b[0;34m)\u001b[0m\u001b[0;34m\u001b[0m\u001b[0;34m\u001b[0m\u001b[0m\n\u001b[1;32m   2116\u001b[0m             \u001b[0;32mwith\u001b[0m \u001b[0mself\u001b[0m\u001b[0;34m.\u001b[0m\u001b[0mbuiltin_trap\u001b[0m\u001b[0;34m:\u001b[0m\u001b[0;34m\u001b[0m\u001b[0;34m\u001b[0m\u001b[0m\n\u001b[0;32m-> 2117\u001b[0;31m                 \u001b[0mresult\u001b[0m \u001b[0;34m=\u001b[0m \u001b[0mfn\u001b[0m\u001b[0;34m(\u001b[0m\u001b[0mmagic_arg_s\u001b[0m\u001b[0;34m,\u001b[0m \u001b[0mcell\u001b[0m\u001b[0;34m)\u001b[0m\u001b[0;34m\u001b[0m\u001b[0;34m\u001b[0m\u001b[0m\n\u001b[0m\u001b[1;32m   2118\u001b[0m             \u001b[0;32mreturn\u001b[0m \u001b[0mresult\u001b[0m\u001b[0;34m\u001b[0m\u001b[0;34m\u001b[0m\u001b[0m\n\u001b[1;32m   2119\u001b[0m \u001b[0;34m\u001b[0m\u001b[0m\n",
            "\u001b[0;32m<decorator-gen-60>\u001b[0m in \u001b[0;36mtime\u001b[0;34m(self, line, cell, local_ns)\u001b[0m\n",
            "\u001b[0;32m/usr/local/lib/python3.6/dist-packages/IPython/core/magic.py\u001b[0m in \u001b[0;36m<lambda>\u001b[0;34m(f, *a, **k)\u001b[0m\n\u001b[1;32m    186\u001b[0m     \u001b[0;31m# but it's overkill for just that one bit of state.\u001b[0m\u001b[0;34m\u001b[0m\u001b[0;34m\u001b[0m\u001b[0;34m\u001b[0m\u001b[0m\n\u001b[1;32m    187\u001b[0m     \u001b[0;32mdef\u001b[0m \u001b[0mmagic_deco\u001b[0m\u001b[0;34m(\u001b[0m\u001b[0marg\u001b[0m\u001b[0;34m)\u001b[0m\u001b[0;34m:\u001b[0m\u001b[0;34m\u001b[0m\u001b[0;34m\u001b[0m\u001b[0m\n\u001b[0;32m--> 188\u001b[0;31m         \u001b[0mcall\u001b[0m \u001b[0;34m=\u001b[0m \u001b[0;32mlambda\u001b[0m \u001b[0mf\u001b[0m\u001b[0;34m,\u001b[0m \u001b[0;34m*\u001b[0m\u001b[0ma\u001b[0m\u001b[0;34m,\u001b[0m \u001b[0;34m**\u001b[0m\u001b[0mk\u001b[0m\u001b[0;34m:\u001b[0m \u001b[0mf\u001b[0m\u001b[0;34m(\u001b[0m\u001b[0;34m*\u001b[0m\u001b[0ma\u001b[0m\u001b[0;34m,\u001b[0m \u001b[0;34m**\u001b[0m\u001b[0mk\u001b[0m\u001b[0;34m)\u001b[0m\u001b[0;34m\u001b[0m\u001b[0;34m\u001b[0m\u001b[0m\n\u001b[0m\u001b[1;32m    189\u001b[0m \u001b[0;34m\u001b[0m\u001b[0m\n\u001b[1;32m    190\u001b[0m         \u001b[0;32mif\u001b[0m \u001b[0mcallable\u001b[0m\u001b[0;34m(\u001b[0m\u001b[0marg\u001b[0m\u001b[0;34m)\u001b[0m\u001b[0;34m:\u001b[0m\u001b[0;34m\u001b[0m\u001b[0;34m\u001b[0m\u001b[0m\n",
            "\u001b[0;32m/usr/local/lib/python3.6/dist-packages/IPython/core/magics/execution.py\u001b[0m in \u001b[0;36mtime\u001b[0;34m(self, line, cell, local_ns)\u001b[0m\n\u001b[1;32m   1191\u001b[0m         \u001b[0;32melse\u001b[0m\u001b[0;34m:\u001b[0m\u001b[0;34m\u001b[0m\u001b[0;34m\u001b[0m\u001b[0m\n\u001b[1;32m   1192\u001b[0m             \u001b[0mst\u001b[0m \u001b[0;34m=\u001b[0m \u001b[0mclock2\u001b[0m\u001b[0;34m(\u001b[0m\u001b[0;34m)\u001b[0m\u001b[0;34m\u001b[0m\u001b[0;34m\u001b[0m\u001b[0m\n\u001b[0;32m-> 1193\u001b[0;31m             \u001b[0mexec\u001b[0m\u001b[0;34m(\u001b[0m\u001b[0mcode\u001b[0m\u001b[0;34m,\u001b[0m \u001b[0mglob\u001b[0m\u001b[0;34m,\u001b[0m \u001b[0mlocal_ns\u001b[0m\u001b[0;34m)\u001b[0m\u001b[0;34m\u001b[0m\u001b[0;34m\u001b[0m\u001b[0m\n\u001b[0m\u001b[1;32m   1194\u001b[0m             \u001b[0mend\u001b[0m \u001b[0;34m=\u001b[0m \u001b[0mclock2\u001b[0m\u001b[0;34m(\u001b[0m\u001b[0;34m)\u001b[0m\u001b[0;34m\u001b[0m\u001b[0;34m\u001b[0m\u001b[0m\n\u001b[1;32m   1195\u001b[0m             \u001b[0mout\u001b[0m \u001b[0;34m=\u001b[0m \u001b[0;32mNone\u001b[0m\u001b[0;34m\u001b[0m\u001b[0;34m\u001b[0m\u001b[0m\n",
            "\u001b[0;32m<timed exec>\u001b[0m in \u001b[0;36m<module>\u001b[0;34m()\u001b[0m\n",
            "\u001b[0;31mNameError\u001b[0m: name 'data_train' is not defined"
          ]
        }
      ]
    },
    {
      "cell_type": "code",
      "metadata": {
        "id": "34HPMLd_-W6m",
        "colab": {
          "base_uri": "https://localhost:8080/",
          "height": 34
        },
        "outputId": "234cb65f-5ba5-429d-9c59-8d9c49fae4fe"
      },
      "source": [
        "# Without meta data\n",
        "from sklearn import svm\n",
        "from sklearn.metrics import accuracy_score, roc_curve, auc\n",
        "clf = svm.SVC()\n",
        "clf=clf.fit(data_train, Y_train)\n",
        "probssvm=clf.predict(data_val)\n",
        "accuracy = accuracy_score(probssvm, Y_val)\n",
        "print(f'Accuracy: {accuracy*100:.2f}%')"
      ],
      "execution_count": null,
      "outputs": [
        {
          "output_type": "stream",
          "text": [
            "Accuracy: 83.65%\n"
          ],
          "name": "stdout"
        }
      ]
    },
    {
      "cell_type": "code",
      "metadata": {
        "id": "AOPieRKh_qU-",
        "colab": {
          "base_uri": "https://localhost:8080/",
          "height": 232
        },
        "outputId": "e09fb1a7-b77f-4a1e-9dc2-ddb67e4146e1"
      },
      "source": [
        "# tfidf weighted glove adding meta data\n",
        "word_embedding_size = 300\n",
        "inverse = tf_idf.inverse_transform(X_train_tfidf)\n",
        "data_train = np.zeros(shape=(len(X_train),word_embedding_size+np.shape(metadata)[1]),dtype=np.float)\n",
        "for i in range(len(X_train)):\n",
        "    word_list = inverse[i]\n",
        "    for word in word_list:\n",
        "      if len(word.split(' ')) == 1 and word.lower() in glove :\n",
        "          data_train[i,:word_embedding_size]+= weights[word] * glove[word.lower()]\n",
        "    data_train[i,word_embedding_size:] = metadata[i]\n",
        "print(data_train[:2,:])\n",
        "inverse = tf_idf.inverse_transform(X_val_tfidf)\n",
        "data_val = np.zeros(shape=(len(X_val),word_embedding_size+np.shape(metadata)[1]),dtype=np.float)\n",
        "for i in range(len(X_val)):\n",
        "    word_list = inverse[i]\n",
        "    for word in word_list:\n",
        "      if len(word.split(' ')) == 1 and word.lower() in glove :\n",
        "          data_val[i,:word_embedding_size]+= weights[word] * glove[word.lower()]\n",
        "    data_val[i,word_embedding_size:] = metadata_val[i]\n",
        "print(data_val[:2,:])"
      ],
      "execution_count": null,
      "outputs": [
        {
          "output_type": "error",
          "ename": "ValueError",
          "evalue": "ignored",
          "traceback": [
            "\u001b[0;31m---------------------------------------------------------------------------\u001b[0m",
            "\u001b[0;31mValueError\u001b[0m                                Traceback (most recent call last)",
            "\u001b[0;32m<ipython-input-34-2e744b8bd9de>\u001b[0m in \u001b[0;36m<module>\u001b[0;34m()\u001b[0m\n\u001b[1;32m      7\u001b[0m     \u001b[0;32mfor\u001b[0m \u001b[0mword\u001b[0m \u001b[0;32min\u001b[0m \u001b[0mword_list\u001b[0m\u001b[0;34m:\u001b[0m\u001b[0;34m\u001b[0m\u001b[0;34m\u001b[0m\u001b[0m\n\u001b[1;32m      8\u001b[0m       \u001b[0;32mif\u001b[0m \u001b[0mlen\u001b[0m\u001b[0;34m(\u001b[0m\u001b[0mword\u001b[0m\u001b[0;34m.\u001b[0m\u001b[0msplit\u001b[0m\u001b[0;34m(\u001b[0m\u001b[0;34m' '\u001b[0m\u001b[0;34m)\u001b[0m\u001b[0;34m)\u001b[0m \u001b[0;34m==\u001b[0m \u001b[0;36m1\u001b[0m \u001b[0;32mand\u001b[0m \u001b[0mword\u001b[0m\u001b[0;34m.\u001b[0m\u001b[0mlower\u001b[0m\u001b[0;34m(\u001b[0m\u001b[0;34m)\u001b[0m \u001b[0;32min\u001b[0m \u001b[0mglove\u001b[0m \u001b[0;34m:\u001b[0m\u001b[0;34m\u001b[0m\u001b[0;34m\u001b[0m\u001b[0m\n\u001b[0;32m----> 9\u001b[0;31m           \u001b[0mdata_train\u001b[0m\u001b[0;34m[\u001b[0m\u001b[0mi\u001b[0m\u001b[0;34m,\u001b[0m\u001b[0;34m:\u001b[0m\u001b[0mword_embedding_size\u001b[0m\u001b[0;34m]\u001b[0m\u001b[0;34m+=\u001b[0m \u001b[0mweights\u001b[0m\u001b[0;34m[\u001b[0m\u001b[0mword\u001b[0m\u001b[0;34m]\u001b[0m \u001b[0;34m*\u001b[0m \u001b[0mglove\u001b[0m\u001b[0;34m[\u001b[0m\u001b[0mword\u001b[0m\u001b[0;34m.\u001b[0m\u001b[0mlower\u001b[0m\u001b[0;34m(\u001b[0m\u001b[0;34m)\u001b[0m\u001b[0;34m]\u001b[0m\u001b[0;34m\u001b[0m\u001b[0;34m\u001b[0m\u001b[0m\n\u001b[0m\u001b[1;32m     10\u001b[0m     \u001b[0mdata_train\u001b[0m\u001b[0;34m[\u001b[0m\u001b[0mi\u001b[0m\u001b[0;34m,\u001b[0m\u001b[0mword_embedding_size\u001b[0m\u001b[0;34m:\u001b[0m\u001b[0;34m]\u001b[0m \u001b[0;34m=\u001b[0m \u001b[0mmetadata\u001b[0m\u001b[0;34m[\u001b[0m\u001b[0mi\u001b[0m\u001b[0;34m]\u001b[0m\u001b[0;34m\u001b[0m\u001b[0;34m\u001b[0m\u001b[0m\n\u001b[1;32m     11\u001b[0m \u001b[0mprint\u001b[0m\u001b[0;34m(\u001b[0m\u001b[0mdata_train\u001b[0m\u001b[0;34m[\u001b[0m\u001b[0;34m:\u001b[0m\u001b[0;36m2\u001b[0m\u001b[0;34m,\u001b[0m\u001b[0;34m:\u001b[0m\u001b[0;34m]\u001b[0m\u001b[0;34m)\u001b[0m\u001b[0;34m\u001b[0m\u001b[0;34m\u001b[0m\u001b[0m\n",
            "\u001b[0;31mValueError\u001b[0m: operands could not be broadcast together with shapes (300,) (100,) (300,) "
          ]
        }
      ]
    },
    {
      "cell_type": "code",
      "metadata": {
        "id": "g-MxWmWKGAP1"
      },
      "source": [
        "!pip install transformers"
      ],
      "execution_count": null,
      "outputs": []
    },
    {
      "cell_type": "code",
      "metadata": {
        "id": "-L9SO86RKWPp"
      },
      "source": [
        "import torch\n",
        "device = torch.device(\"cuda\" if torch.cuda.is_available() else \"cpu\")"
      ],
      "execution_count": null,
      "outputs": []
    },
    {
      "cell_type": "code",
      "metadata": {
        "id": "cjzKG4CQDo0m",
        "colab": {
          "base_uri": "https://localhost:8080/",
          "height": 548,
          "referenced_widgets": [
            "960c0ef1b89740ed80877113cde021e6",
            "6f361083626442d2a2cc71699cd6bb14",
            "8c54102846514668865ea25aabce55cf",
            "74a89cd0b7f04a38949c05e987d399b9",
            "6cc130f27cd34d8ca06179ed3d9087c7",
            "2b6f78db0c6f44d098370750c6c2b181",
            "b4c10d8ab5444981b11e799d96b80d07",
            "7eedc5b818b34183ad07ee1cd5ac5ee2",
            "a6eb5a2c5f9c448ea54e68bfddee2b13",
            "c58d8cd27daa4e71ab9312abbd765e8a",
            "f396e07771d7432b817b2b3f1c043a3b",
            "f9b23feb914c4b1699008d950dbc9dea",
            "01796a23923c481ab63cc6c991e5f6e5",
            "69f8543c0e28453786ae607ee5eb25ab",
            "a6acd34868d94fd893d288633ec84997",
            "15f6427337a94825960e8c7a95967169",
            "6cba1cc0bbb840a29e6c977a90279666",
            "b3f8b78828ea454284aa610b7578a5d2",
            "77821eeee6104970977cb2025048d8c8",
            "41e9c07d4fd94bad83752ba74ad35ee1",
            "5835641c04c44c818c2b9f341107cfb5",
            "2f50897594744fb2bc1c652ac5691927",
            "2d0a880130984cd78b0c5f771aee3b74",
            "88f2ef8e07b44e28bb3fca1795bbd89a",
            "1fcf2bd8e104488fa09660871036b10d",
            "7b42a660e5e1481193feee5eb7f39079",
            "ed62e3bda3da43aa9f37d41bfbb2e919",
            "3350423f1d374ffcbdbacd8e09647ef5",
            "3de1878ab6b1455683904ad4789e7e1d",
            "3502253b5bc94f58b23ec1fcf6090e34",
            "d425eccb012942bcab727b6907aecf70",
            "bde4afefe7ca4904b165b3cdf8753940"
          ]
        },
        "outputId": "b094fea0-dba2-4a9f-a76d-e21024aabfbb"
      },
      "source": [
        "from COVID19Tweet import NER\n",
        "ners_train = np.zeros(shape=(len(X_train),4))\n",
        "for i in range(len(X_train)):\n",
        "  if i%500==0:\n",
        "    print(i)\n",
        "  ners_train[i,:] = NER.get_hotvector_ner(X_train_preprocessed[i][:512])\n",
        "ners_train = ners_train / np.sqrt(np.sum(ners_train**2))\n",
        "\n",
        "print(ners_train[:10,:])"
      ],
      "execution_count": null,
      "outputs": [
        {
          "output_type": "display_data",
          "data": {
            "application/vnd.jupyter.widget-view+json": {
              "model_id": "960c0ef1b89740ed80877113cde021e6",
              "version_minor": 0,
              "version_major": 2
            },
            "text/plain": [
              "HBox(children=(FloatProgress(value=0.0, description='Downloading', max=433.0, style=ProgressStyle(description_…"
            ]
          },
          "metadata": {
            "tags": []
          }
        },
        {
          "output_type": "stream",
          "text": [
            "\n"
          ],
          "name": "stdout"
        },
        {
          "output_type": "display_data",
          "data": {
            "application/vnd.jupyter.widget-view+json": {
              "model_id": "a6eb5a2c5f9c448ea54e68bfddee2b13",
              "version_minor": 0,
              "version_major": 2
            },
            "text/plain": [
              "HBox(children=(FloatProgress(value=0.0, description='Downloading', max=213450.0, style=ProgressStyle(descripti…"
            ]
          },
          "metadata": {
            "tags": []
          }
        },
        {
          "output_type": "stream",
          "text": [
            "\n",
            "0\n"
          ],
          "name": "stdout"
        },
        {
          "output_type": "display_data",
          "data": {
            "application/vnd.jupyter.widget-view+json": {
              "model_id": "6cba1cc0bbb840a29e6c977a90279666",
              "version_minor": 0,
              "version_major": 2
            },
            "text/plain": [
              "HBox(children=(FloatProgress(value=0.0, description='Downloading', max=845.0, style=ProgressStyle(description_…"
            ]
          },
          "metadata": {
            "tags": []
          }
        },
        {
          "output_type": "stream",
          "text": [
            "\n"
          ],
          "name": "stdout"
        },
        {
          "output_type": "display_data",
          "data": {
            "application/vnd.jupyter.widget-view+json": {
              "model_id": "1fcf2bd8e104488fa09660871036b10d",
              "version_minor": 0,
              "version_major": 2
            },
            "text/plain": [
              "HBox(children=(FloatProgress(value=0.0, description='Downloading', max=433316639.0, style=ProgressStyle(descri…"
            ]
          },
          "metadata": {
            "tags": []
          }
        },
        {
          "output_type": "stream",
          "text": [
            "\n",
            "500\n",
            "1000\n",
            "1500\n",
            "2000\n",
            "2500\n",
            "3000\n",
            "3500\n",
            "4000\n",
            "4500\n",
            "[[0.         0.         0.         0.        ]\n",
            " [0.         0.         0.         0.        ]\n",
            " [0.         0.         0.         0.        ]\n",
            " [0.         0.         0.         0.        ]\n",
            " [0.03785056 0.         0.         0.        ]\n",
            " [0.         0.         0.         0.03785056]\n",
            " [0.         0.         0.         0.        ]\n",
            " [0.         0.         0.         0.        ]\n",
            " [0.         0.         0.         0.        ]\n",
            " [0.         0.         0.         0.        ]]\n"
          ],
          "name": "stdout"
        }
      ]
    },
    {
      "cell_type": "code",
      "metadata": {
        "id": "R8KaieZsgnbL",
        "colab": {
          "base_uri": "https://localhost:8080/",
          "height": 218
        },
        "outputId": "3382d3e3-811a-4cc6-8640-40da6f78b2f8"
      },
      "source": [
        "ners_val = np.zeros(shape=(len(X_val),4))\n",
        "for i in range(len(X_val)):\n",
        "  if i%500==0:\n",
        "    print(i)\n",
        "  ners_val[i,:] = NER.get_hotvector_ner(X_val_preprocessed[i][:512])\n",
        "ners_val = ners_val / np.sqrt(np.sum(ners_val**2))\n",
        "\n",
        "print(ners_val[:10,:])"
      ],
      "execution_count": null,
      "outputs": [
        {
          "output_type": "stream",
          "text": [
            "0\n",
            "500\n",
            "[[0. 0. 0. 0.]\n",
            " [0. 0. 0. 0.]\n",
            " [0. 0. 0. 0.]\n",
            " [0. 0. 0. 0.]\n",
            " [0. 0. 0. 0.]\n",
            " [0. 0. 0. 0.]\n",
            " [0. 0. 0. 0.]\n",
            " [0. 0. 0. 0.]\n",
            " [0. 0. 0. 0.]\n",
            " [0. 0. 0. 0.]]\n"
          ],
          "name": "stdout"
        }
      ]
    },
    {
      "cell_type": "code",
      "metadata": {
        "id": "BzA7qMr6aqq_"
      },
      "source": [
        "data_train = np.nan_to_num(data_train)\n",
        "data_val = np.nan_to_num(data_val)\n",
        "print(data_train[:3,-20:])\n",
        "print(np.shape(data_train))"
      ],
      "execution_count": null,
      "outputs": []
    },
    {
      "cell_type": "code",
      "metadata": {
        "id": "AEFJuXWuggfs"
      },
      "source": [
        "data_train = np.concatenate([data_train,ners_train],axis=1)\n",
        "data_val = np.concatenate([data_val,ners_val],axis=1)\n",
        "print(np.shape(data_train))"
      ],
      "execution_count": null,
      "outputs": []
    },
    {
      "cell_type": "code",
      "metadata": {
        "id": "oL_KP6qfANG-",
        "colab": {
          "base_uri": "https://localhost:8080/",
          "height": 34
        },
        "outputId": "db64fa8d-4185-4824-b8a7-d0f632381f3b"
      },
      "source": [
        "clf = svm.SVC()\n",
        "clf=clf.fit(data_train, Y_train)\n",
        "probs=clf.predict(data_val)\n",
        "accuracy = accuracy_score(probs, Y_val)\n",
        "print(f'Accuracy: {accuracy*100:.2f}%')"
      ],
      "execution_count": null,
      "outputs": [
        {
          "output_type": "stream",
          "text": [
            "Accuracy: 83.65%\n"
          ],
          "name": "stdout"
        }
      ]
    },
    {
      "cell_type": "code",
      "metadata": {
        "id": "1W__zSiRYyBR"
      },
      "source": [
        ""
      ],
      "execution_count": null,
      "outputs": []
    },
    {
      "cell_type": "code",
      "metadata": {
        "id": "BTcOhk9fHR_q",
        "colab": {
          "base_uri": "https://localhost:8080/",
          "height": 34
        },
        "outputId": "4185e348-cf93-4463-eed2-ba5c08deb7a2"
      },
      "source": [
        "from sklearn.neural_network import MLPClassifier\n",
        "clf = MLPClassifier(hidden_layer_sizes=(128, 2), random_state=1,max_iter=500)\n",
        "clf.fit(data_train, Y_train)\n",
        "probs =clf.predict(data_val)\n",
        "accuracy = accuracy_score(probs, Y_val)\n",
        "print(f'Accuracy: {accuracy*100:.2f}%')"
      ],
      "execution_count": null,
      "outputs": [
        {
          "output_type": "stream",
          "text": [
            "Accuracy: 83.09%\n"
          ],
          "name": "stdout"
        }
      ]
    },
    {
      "cell_type": "code",
      "metadata": {
        "id": "ztTvctgfK8qE"
      },
      "source": [
        "import tensorflow as tf\n",
        "from tensorflow.keras import layers\n",
        "\n",
        "inputs = tf.keras.Input(shape=(word_embedding_size), dtype=\"float32\")\n",
        "meta_inputs = tf.keras.Input(shape=(np.shape(metadata)[1])+4, dtype=\"float32\")\n",
        "x = layers.Dense(128, activation=\"relu\")(inputs)\n",
        "x = layers.Dropout(0.5)(x)\n",
        "x = layers.Dense(200, activation=\"relu\")(x)\n",
        "x = layers.Dropout(0.5)(x)\n",
        "t = layers.Dense(20, activation=\"relu\")(meta_inputs)\n",
        "t = layers.Dropout(0.5)(t)\n",
        "concatted = tf.keras.layers.Concatenate()([x, t])\n",
        "y = layers.Dense(50, activation=\"relu\")(concatted)\n",
        "y = layers.Dropout(0.5)(y)\n",
        "predictions = layers.Dense(1, activation=\"sigmoid\", name=\"predictions\")(y)\n",
        "model = tf.keras.Model([inputs,meta_inputs], predictions)\n",
        "model.compile(loss=\"binary_crossentropy\", optimizer=\"adam\", metrics=[\"accuracy\"])\n",
        "\n",
        "model.fit(x=[data_train[:,:300],data_train[:,300:]],y=Y_train, validation_split=0.1, epochs=40)\n",
        "\n"
      ],
      "execution_count": null,
      "outputs": []
    },
    {
      "cell_type": "code",
      "metadata": {
        "id": "jR_9pz6APaaI",
        "colab": {
          "base_uri": "https://localhost:8080/",
          "height": 50
        },
        "outputId": "57dfb9eb-02ac-4b8f-fd5e-b31df523b3fb"
      },
      "source": [
        "probs = model.predict([data_val[:,:300],data_val[:,300:]])\n",
        "def fun(a):\n",
        "  if a>0.5:\n",
        "    return 1\n",
        "  else:\n",
        "    return 0 \n",
        "probs = np.apply_along_axis(fun,1,probs)\n",
        "print(np.shape(probs))\n",
        "# print(probs)\n",
        "accuracy = accuracy_score(probs, Y_val)\n",
        "print(f'Accuracy: {accuracy*100:.2f}%')"
      ],
      "execution_count": null,
      "outputs": [
        {
          "output_type": "stream",
          "text": [
            "(893,)\n",
            "Accuracy: 81.63%\n"
          ],
          "name": "stdout"
        }
      ]
    },
    {
      "cell_type": "code",
      "metadata": {
        "id": "5dUXvYW2wq50"
      },
      "source": [
        ""
      ],
      "execution_count": null,
      "outputs": []
    },
    {
      "cell_type": "markdown",
      "metadata": {
        "id": "wYKSiEkK-bsW"
      },
      "source": [
        "# Bagging"
      ]
    },
    {
      "cell_type": "code",
      "metadata": {
        "id": "MT9XxNSf-ewG",
        "colab": {
          "base_uri": "https://localhost:8080/",
          "height": 34
        },
        "outputId": "fec84d34-62c4-42c5-c72e-d409453a8898"
      },
      "source": [
        "#bagging svm\n",
        "from sklearn.ensemble import BaggingClassifier\n",
        "from sklearn import svm\n",
        "from sklearn.metrics import accuracy_score, roc_curve, auc\n",
        "bagging = BaggingClassifier(svm.SVC(),max_samples=0.5, max_features=0.5,n_estimators=30)\n",
        "clf = bagging\n",
        "clf=clf.fit(data_train, Y_train)\n",
        "probs=clf.predict(data_val)\n",
        "accuracy = accuracy_score(probs, Y_val)\n",
        "print(f'Accuracy: {accuracy*100:.2f}%')"
      ],
      "execution_count": null,
      "outputs": [
        {
          "output_type": "stream",
          "text": [
            "Accuracy: 81.63%\n"
          ],
          "name": "stdout"
        }
      ]
    },
    {
      "cell_type": "code",
      "metadata": {
        "id": "NSiQJ3VGEkwF",
        "colab": {
          "base_uri": "https://localhost:8080/",
          "height": 34
        },
        "outputId": "edb78c72-cfde-434d-d2d8-8f1e7d96bf5a"
      },
      "source": [
        "from sklearn.ensemble import RandomForestClassifier\n",
        "clf = RandomForestClassifier(n_estimators=60)\n",
        "clf=clf.fit(data_train, Y_train)\n",
        "probs=clf.predict(data_val)\n",
        "accuracy = accuracy_score(probs, Y_val)\n",
        "print(f'Accuracy: {accuracy*100:.2f}%')\n"
      ],
      "execution_count": null,
      "outputs": [
        {
          "output_type": "stream",
          "text": [
            "Accuracy: 79.28%\n"
          ],
          "name": "stdout"
        }
      ]
    },
    {
      "cell_type": "code",
      "metadata": {
        "id": "of44cOuTE_5Y",
        "colab": {
          "base_uri": "https://localhost:8080/",
          "height": 34
        },
        "outputId": "07105103-1801-4731-fbed-59ef558576f7"
      },
      "source": [
        "from sklearn.ensemble import AdaBoostClassifier\n",
        "clf  =AdaBoostClassifier(n_estimators=200)\n",
        "clf=clf.fit(data_train, Y_train)\n",
        "probs=clf.predict(data_val)\n",
        "accuracy = accuracy_score(probs, Y_val)\n",
        "print(f'Accuracy: {accuracy*100:.2f}%')"
      ],
      "execution_count": null,
      "outputs": [
        {
          "output_type": "stream",
          "text": [
            "Accuracy: 55.32%\n"
          ],
          "name": "stdout"
        }
      ]
    },
    {
      "cell_type": "code",
      "metadata": {
        "id": "vYYsJ3jDFkTt",
        "colab": {
          "base_uri": "https://localhost:8080/",
          "height": 34
        },
        "outputId": "57dcae3d-d55b-48e8-bf3d-8429d437ede9"
      },
      "source": [
        "from sklearn.neighbors import KNeighborsClassifier\n",
        "clf = BaggingClassifier(KNeighborsClassifier(),max_samples=0.5, max_features=0.5,n_estimators=30)\n",
        "\n",
        "clf=clf.fit(data_train, Y_train)\n",
        "probs=clf.predict(data_val)\n",
        "accuracy = accuracy_score(probs, Y_val)\n",
        "print(f'Accuracy: {accuracy*100:.2f}%')"
      ],
      "execution_count": null,
      "outputs": [
        {
          "output_type": "stream",
          "text": [
            "Accuracy: 78.05%\n"
          ],
          "name": "stdout"
        }
      ]
    }
  ]
}